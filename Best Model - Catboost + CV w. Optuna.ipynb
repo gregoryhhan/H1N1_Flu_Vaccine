{
 "cells": [
  {
   "cell_type": "markdown",
   "metadata": {},
   "source": [
    "**After running the Gradient Boost models with RandomizedSearchCV optimization, our model had a ROCAUC score of .871 and accuracy of 85% for predicting H1N1 vaccinations and a ROCAUC score of .860 and accuracy score of 79% for seasonal vaccination predictions.**"
   ]
  },
  {
   "cell_type": "markdown",
   "metadata": {},
   "source": [
    "## Imports"
   ]
  },
  {
   "cell_type": "markdown",
   "metadata": {},
   "source": [
    "We begin by importing the necessary tools to do our modeling and perform the evaluation metrics. For competition purposes we also load the submission dataset from DrivenData to perform our model on."
   ]
  },
  {
   "cell_type": "code",
   "execution_count": 42,
   "metadata": {},
   "outputs": [],
   "source": [
    "import pandas as pd\n",
    "import matplotlib\n",
    "matplotlib.use('TkAgg')\n",
    "import matplotlib.pyplot as plt\n",
    "import seaborn as sns\n",
    "from sklearn.pipeline import Pipeline\n",
    "import numpy as np\n",
    "%matplotlib inline"
   ]
  },
  {
   "cell_type": "code",
   "execution_count": 2,
   "metadata": {},
   "outputs": [],
   "source": [
    "from sklearn.impute import SimpleImputer\n",
    "from sklearn.preprocessing import StandardScaler\n",
    "from sklearn.preprocessing import MinMaxScaler\n",
    "from sklearn.preprocessing import OneHotEncoder\n",
    "from sklearn.preprocessing import LabelEncoder\n",
    "from sklearn.compose import ColumnTransformer"
   ]
  },
  {
   "cell_type": "code",
   "execution_count": 39,
   "metadata": {},
   "outputs": [],
   "source": [
    "from sklearn.model_selection import train_test_split\n",
    "from sklearn.model_selection import cross_val_score\n",
    "from sklearn.metrics import accuracy_score, recall_score, f1_score, precision_score\n",
    "from sklearn.metrics import roc_auc_score\n",
    "from sklearn.metrics import plot_confusion_matrix\n",
    "from sklearn.metrics import plot_roc_curve\n",
    "from sklearn.metrics import roc_curve, auc\n",
    "from sklearn.metrics import classification_report\n",
    "from sklearn.inspection import permutation_importance"
   ]
  },
  {
   "cell_type": "code",
   "execution_count": 4,
   "metadata": {},
   "outputs": [],
   "source": [
    "from category_encoders import OrdinalEncoder as oe\n",
    "from catboost import CatBoostClassifier"
   ]
  },
  {
   "cell_type": "code",
   "execution_count": 5,
   "metadata": {},
   "outputs": [],
   "source": [
    "from catboost import CatBoostClassifier\n",
    "from catboost import Pool, cv\n",
    "import optuna\n",
    "import pandas_profiling as pp"
   ]
  },
  {
   "cell_type": "markdown",
   "metadata": {},
   "source": [
    "## Load Data"
   ]
  },
  {
   "cell_type": "markdown",
   "metadata": {},
   "source": [
    "We load our datasets and separate the columns in order for CatBoost to use in its algorithm. We can pass numeric and ordinal columns but need to specifically tell CatBoost what columns are categorical so that it can use its own one encoding in the algorithm."
   ]
  },
  {
   "cell_type": "code",
   "execution_count": 6,
   "metadata": {},
   "outputs": [],
   "source": [
    "train = pd.read_csv('data/training_set_features.csv', index_col='respondent_id')"
   ]
  },
  {
   "cell_type": "code",
   "execution_count": 7,
   "metadata": {},
   "outputs": [],
   "source": [
    "labels = pd.read_csv('data/training_set_labels.csv', index_col='respondent_id')"
   ]
  },
  {
   "cell_type": "code",
   "execution_count": 8,
   "metadata": {},
   "outputs": [],
   "source": [
    "test = pd.read_csv('data/test_set_features.csv', index_col='respondent_id')"
   ]
  },
  {
   "cell_type": "code",
   "execution_count": 9,
   "metadata": {},
   "outputs": [],
   "source": [
    "num_cols = train.select_dtypes('number').columns"
   ]
  },
  {
   "cell_type": "code",
   "execution_count": 10,
   "metadata": {},
   "outputs": [],
   "source": [
    "cat_cols = ['race', 'sex', 'marital_status', 'rent_or_own',  'hhs_geo_region','census_msa', 'employment_industry', 'employment_occupation']"
   ]
  },
  {
   "cell_type": "code",
   "execution_count": 11,
   "metadata": {},
   "outputs": [],
   "source": [
    "ord_cols = ['age_group', 'education',  'income_poverty','employment_status']"
   ]
  },
  {
   "cell_type": "markdown",
   "metadata": {},
   "source": [
    "## Imputation"
   ]
  },
  {
   "cell_type": "markdown",
   "metadata": {},
   "source": [
    "We also impute the columns to fill all the null/nan values and use LabelEncoder to assign a numerical value to the ordinal columns so that its values are not passed as strings."
   ]
  },
  {
   "cell_type": "code",
   "execution_count": 12,
   "metadata": {},
   "outputs": [],
   "source": [
    "for col in (cat_cols+ord_cols):\n",
    "    train[col] = train[col].fillna(value='None')"
   ]
  },
  {
   "cell_type": "code",
   "execution_count": 13,
   "metadata": {},
   "outputs": [],
   "source": [
    "for col in num_cols:\n",
    "    train[col] = train[col].fillna(value=-1)"
   ]
  },
  {
   "cell_type": "code",
   "execution_count": 14,
   "metadata": {},
   "outputs": [],
   "source": [
    "for col in (cat_cols+ord_cols):\n",
    "    test[col] = test[col].fillna(value='None')"
   ]
  },
  {
   "cell_type": "code",
   "execution_count": 15,
   "metadata": {},
   "outputs": [],
   "source": [
    "for col in num_cols:\n",
    "    test[col] = test[col].fillna(value=-1)"
   ]
  },
  {
   "cell_type": "code",
   "execution_count": 16,
   "metadata": {},
   "outputs": [],
   "source": [
    "le = LabelEncoder()\n",
    "for col in ord_cols:\n",
    "    train[col] = le.fit_transform(train[col])"
   ]
  },
  {
   "cell_type": "code",
   "execution_count": 17,
   "metadata": {},
   "outputs": [],
   "source": [
    "for col in ord_cols:\n",
    "    pd.to_numeric(train[col])"
   ]
  },
  {
   "cell_type": "markdown",
   "metadata": {},
   "source": [
    "## Train Test Split"
   ]
  },
  {
   "cell_type": "code",
   "execution_count": 18,
   "metadata": {},
   "outputs": [],
   "source": [
    "X_train, X_test, y_train, y_test = train_test_split(train, labels, test_size=0.3, random_state=10)"
   ]
  },
  {
   "cell_type": "markdown",
   "metadata": {},
   "source": [
    "## CatBoost using pool, cross validation + Optuna"
   ]
  },
  {
   "cell_type": "markdown",
   "metadata": {},
   "source": [
    "Here is where we tell CatBoost which columns will be categorical."
   ]
  },
  {
   "cell_type": "code",
   "execution_count": 19,
   "metadata": {},
   "outputs": [
    {
     "data": {
      "text/plain": [
       "array([23, 24, 26, 27, 29, 30, 33, 34], dtype=int64)"
      ]
     },
     "execution_count": 19,
     "metadata": {},
     "output_type": "execute_result"
    }
   ],
   "source": [
    "categorical_features_indices = np.where(X_train.dtypes == object)[0]\n",
    "categorical_features_indices"
   ]
  },
  {
   "cell_type": "markdown",
   "metadata": {},
   "source": [
    "CatBoost will deal with all the columns that are useless while Optuna helps to optimize the hyperparameters to find the model that best predicts our targets."
   ]
  },
  {
   "cell_type": "markdown",
   "metadata": {},
   "source": [
    "## Optuna - H1N1 Vaccine"
   ]
  },
  {
   "cell_type": "code",
   "execution_count": 20,
   "metadata": {},
   "outputs": [],
   "source": [
    "train_dataset = Pool(data=X_train,\n",
    "                     label=y_train.h1n1_vaccine,\n",
    "                     cat_features = categorical_features_indices)"
   ]
  },
  {
   "cell_type": "code",
   "execution_count": 21,
   "metadata": {},
   "outputs": [],
   "source": [
    "def objective(trial):\n",
    "    param = {\n",
    "        'iterations':trial.suggest_categorical('iterations', [100,200,300,500,1000,1200,1500]),\n",
    "        'learning_rate':trial.suggest_float('learning_rate', 0.001, 0.3),\n",
    "        'random_strength':trial.suggest_int('random_strength', 1,10),\n",
    "        'bagging_temperature':trial.suggest_int('bagging_temperature', 0,10),\n",
    "        'max_bin':trial.suggest_categorical('max_bin', [4,5,6,8,10,20,30]),\n",
    "        'grow_policy':trial.suggest_categorical('grow_policy', ['SymmetricTree', 'Depthwise', 'Lossguide']),\n",
    "        'min_data_in_leaf':trial.suggest_int('min_data_in_leaf', 1,10),\n",
    "        'od_type' : \"Iter\",\n",
    "        'od_wait' : 100,\n",
    "        'depth': trial.suggest_int('max_depth', 2,10),\n",
    "        'l2_leaf_reg': trial.suggest_loguniform('l2_leaf_reg', 1e-8, 100),\n",
    "        'one_hot_max_size':trial.suggest_categorical('one_hot_max_size', [5,10,12,100,500,1024]),\n",
    "        'custom_metric' : ['AUC'],\n",
    "        'loss_function': \"Logloss\",\n",
    "        'auto_class_weights':trial.suggest_categorical('auto_class_weights', ['Balanced', 'SqrtBalanced']),\n",
    "        }\n",
    "\n",
    "    scores = cv(train_dataset,\n",
    "            param,\n",
    "            fold_count=5, \n",
    "            early_stopping_rounds=10,         \n",
    "            plot=False, verbose=False)\n",
    "\n",
    "    return scores['test-AUC-mean'].max()"
   ]
  },
  {
   "cell_type": "code",
   "execution_count": 33,
   "metadata": {
    "scrolled": true
   },
   "outputs": [
    {
     "name": "stderr",
     "output_type": "stream",
     "text": [
      "\u001b[32m[I 2022-01-27 19:12:47,019]\u001b[0m A new study created in memory with name: no-name-67febd3e-0410-4c3e-91a4-c957cdf72b85\u001b[0m\n",
      "Custom logger is already specified. Specify more than one logger at same time is not thread safe."
     ]
    },
    {
     "name": "stdout",
     "output_type": "stream",
     "text": [
      "Training on fold [0/5]\n",
      "\n",
      "bestTest = 0.4378797821\n",
      "bestIteration = 521\n",
      "\n",
      "Training on fold [1/5]\n",
      "\n",
      "bestTest = 0.4288854702\n",
      "bestIteration = 581\n",
      "\n",
      "Training on fold [2/5]\n",
      "\n",
      "bestTest = 0.4194612655\n",
      "bestIteration = 608\n",
      "\n",
      "Training on fold [3/5]\n",
      "\n",
      "bestTest = 0.4145951194\n",
      "bestIteration = 516\n",
      "\n",
      "Training on fold [4/5]\n"
     ]
    },
    {
     "name": "stderr",
     "output_type": "stream",
     "text": [
      "\u001b[32m[I 2022-01-27 19:13:00,742]\u001b[0m Trial 0 finished with value: 0.8653884155925278 and parameters: {'iterations': 1500, 'learning_rate': 0.029356482739949695, 'random_strength': 8, 'bagging_temperature': 10, 'max_bin': 6, 'grow_policy': 'SymmetricTree', 'min_data_in_leaf': 1, 'max_depth': 4, 'l2_leaf_reg': 0.001991194871120998, 'one_hot_max_size': 100, 'auto_class_weights': 'SqrtBalanced'}. Best is trial 0 with value: 0.8653884155925278.\u001b[0m\n"
     ]
    },
    {
     "name": "stdout",
     "output_type": "stream",
     "text": [
      "\n",
      "bestTest = 0.4264221821\n",
      "bestIteration = 511\n",
      "\n",
      "Training on fold [0/5]\n",
      "\n",
      "bestTest = 0.4338590892\n",
      "bestIteration = 138\n",
      "\n",
      "Training on fold [1/5]\n",
      "\n",
      "bestTest = 0.432445671\n",
      "bestIteration = 112\n",
      "\n",
      "Training on fold [2/5]\n",
      "\n",
      "bestTest = 0.419293143\n",
      "bestIteration = 122\n",
      "\n",
      "Training on fold [3/5]\n",
      "\n",
      "bestTest = 0.415217499\n",
      "bestIteration = 126\n",
      "\n",
      "Training on fold [4/5]\n"
     ]
    },
    {
     "name": "stderr",
     "output_type": "stream",
     "text": [
      "\u001b[32m[I 2022-01-27 19:13:04,402]\u001b[0m Trial 1 finished with value: 0.8650085807981238 and parameters: {'iterations': 200, 'learning_rate': 0.1464067066361795, 'random_strength': 10, 'bagging_temperature': 3, 'max_bin': 10, 'grow_policy': 'Depthwise', 'min_data_in_leaf': 1, 'max_depth': 3, 'l2_leaf_reg': 0.028402775147703313, 'one_hot_max_size': 500, 'auto_class_weights': 'SqrtBalanced'}. Best is trial 0 with value: 0.8653884155925278.\u001b[0m\n"
     ]
    },
    {
     "name": "stdout",
     "output_type": "stream",
     "text": [
      "\n",
      "bestTest = 0.4240930487\n",
      "bestIteration = 130\n",
      "\n",
      "Training on fold [0/5]\n",
      "\n",
      "bestTest = 0.4364301523\n",
      "bestIteration = 65\n",
      "\n",
      "Training on fold [1/5]\n",
      "\n",
      "bestTest = 0.4422756567\n",
      "bestIteration = 35\n",
      "\n",
      "Training on fold [2/5]\n",
      "\n",
      "bestTest = 0.4221845911\n",
      "bestIteration = 47\n",
      "\n",
      "Training on fold [3/5]\n",
      "\n",
      "bestTest = 0.4133322629\n",
      "bestIteration = 74\n",
      "\n",
      "Training on fold [4/5]\n"
     ]
    },
    {
     "name": "stderr",
     "output_type": "stream",
     "text": [
      "\u001b[32m[I 2022-01-27 19:13:19,525]\u001b[0m Trial 2 finished with value: 0.862198216830157 and parameters: {'iterations': 200, 'learning_rate': 0.27287829596201946, 'random_strength': 8, 'bagging_temperature': 8, 'max_bin': 10, 'grow_policy': 'SymmetricTree', 'min_data_in_leaf': 1, 'max_depth': 5, 'l2_leaf_reg': 0.027330135035255495, 'one_hot_max_size': 10, 'auto_class_weights': 'SqrtBalanced'}. Best is trial 0 with value: 0.8653884155925278.\u001b[0m\n"
     ]
    },
    {
     "name": "stdout",
     "output_type": "stream",
     "text": [
      "\n",
      "bestTest = 0.427717353\n",
      "bestIteration = 55\n",
      "\n",
      "Training on fold [0/5]\n",
      "\n",
      "bestTest = 0.4375926253\n",
      "bestIteration = 346\n",
      "\n",
      "Training on fold [1/5]\n",
      "\n",
      "bestTest = 0.4335444038\n",
      "bestIteration = 430\n",
      "\n",
      "Training on fold [2/5]\n",
      "\n",
      "bestTest = 0.419502049\n",
      "bestIteration = 433\n",
      "\n",
      "Training on fold [3/5]\n",
      "\n",
      "bestTest = 0.4147262716\n",
      "bestIteration = 451\n",
      "\n",
      "Training on fold [4/5]\n"
     ]
    },
    {
     "name": "stderr",
     "output_type": "stream",
     "text": [
      "\u001b[32m[I 2022-01-27 19:13:56,111]\u001b[0m Trial 3 finished with value: 0.8646185028404252 and parameters: {'iterations': 1200, 'learning_rate': 0.0603209284932487, 'random_strength': 3, 'bagging_temperature': 7, 'max_bin': 4, 'grow_policy': 'SymmetricTree', 'min_data_in_leaf': 2, 'max_depth': 2, 'l2_leaf_reg': 1.300471404766049e-07, 'one_hot_max_size': 10, 'auto_class_weights': 'SqrtBalanced'}. Best is trial 0 with value: 0.8653884155925278.\u001b[0m\n"
     ]
    },
    {
     "name": "stdout",
     "output_type": "stream",
     "text": [
      "\n",
      "bestTest = 0.4287301706\n",
      "bestIteration = 424\n",
      "\n",
      "Training on fold [0/5]\n",
      "\n",
      "bestTest = 0.437820801\n",
      "bestIteration = 63\n",
      "\n",
      "Training on fold [1/5]\n",
      "\n",
      "bestTest = 0.434737339\n",
      "bestIteration = 74\n",
      "\n",
      "Training on fold [2/5]\n",
      "\n",
      "bestTest = 0.421200785\n",
      "bestIteration = 87\n",
      "\n",
      "Training on fold [3/5]\n",
      "\n",
      "bestTest = 0.4159954047\n",
      "bestIteration = 58\n",
      "\n",
      "Training on fold [4/5]\n"
     ]
    },
    {
     "name": "stderr",
     "output_type": "stream",
     "text": [
      "\u001b[32m[I 2022-01-27 19:13:58,586]\u001b[0m Trial 4 finished with value: 0.8623243905590329 and parameters: {'iterations': 300, 'learning_rate': 0.22423670437233847, 'random_strength': 6, 'bagging_temperature': 2, 'max_bin': 30, 'grow_policy': 'SymmetricTree', 'min_data_in_leaf': 4, 'max_depth': 4, 'l2_leaf_reg': 0.00010293033487726667, 'one_hot_max_size': 500, 'auto_class_weights': 'SqrtBalanced'}. Best is trial 0 with value: 0.8653884155925278.\u001b[0m\n"
     ]
    },
    {
     "name": "stdout",
     "output_type": "stream",
     "text": [
      "\n",
      "bestTest = 0.4294427339\n",
      "bestIteration = 77\n",
      "\n",
      "Training on fold [0/5]\n",
      "\n",
      "bestTest = 0.4983793991\n",
      "bestIteration = 99\n",
      "\n",
      "Training on fold [1/5]\n",
      "\n",
      "bestTest = 0.4909418196\n",
      "bestIteration = 99\n",
      "\n",
      "Training on fold [2/5]\n",
      "\n",
      "bestTest = 0.4800092991\n",
      "bestIteration = 99\n",
      "\n",
      "Training on fold [3/5]\n",
      "\n",
      "bestTest = 0.4752109038\n",
      "bestIteration = 99\n",
      "\n",
      "Training on fold [4/5]\n"
     ]
    },
    {
     "name": "stderr",
     "output_type": "stream",
     "text": [
      "\u001b[32m[I 2022-01-27 19:14:01,111]\u001b[0m Trial 5 finished with value: 0.8533211249498922 and parameters: {'iterations': 100, 'learning_rate': 0.06628011038512191, 'random_strength': 4, 'bagging_temperature': 4, 'max_bin': 20, 'grow_policy': 'Lossguide', 'min_data_in_leaf': 3, 'max_depth': 2, 'l2_leaf_reg': 13.751833235431702, 'one_hot_max_size': 100, 'auto_class_weights': 'Balanced'}. Best is trial 0 with value: 0.8653884155925278.\u001b[0m\n"
     ]
    },
    {
     "name": "stdout",
     "output_type": "stream",
     "text": [
      "\n",
      "bestTest = 0.4864926814\n",
      "bestIteration = 99\n",
      "\n",
      "Training on fold [0/5]\n",
      "\n",
      "bestTest = 0.4357219875\n",
      "bestIteration = 108\n",
      "\n",
      "Training on fold [1/5]\n",
      "\n",
      "bestTest = 0.4415180086\n",
      "bestIteration = 101\n",
      "\n",
      "Training on fold [2/5]\n",
      "\n",
      "bestTest = 0.4196994919\n",
      "bestIteration = 110\n",
      "\n",
      "Training on fold [3/5]\n",
      "\n",
      "bestTest = 0.4128075404\n",
      "bestIteration = 121\n",
      "\n",
      "Training on fold [4/5]\n"
     ]
    },
    {
     "name": "stderr",
     "output_type": "stream",
     "text": [
      "\u001b[32m[I 2022-01-27 19:14:48,370]\u001b[0m Trial 6 finished with value: 0.8637858641634992 and parameters: {'iterations': 1200, 'learning_rate': 0.09658215406978513, 'random_strength': 8, 'bagging_temperature': 2, 'max_bin': 30, 'grow_policy': 'Depthwise', 'min_data_in_leaf': 6, 'max_depth': 10, 'l2_leaf_reg': 2.6558249848041764, 'one_hot_max_size': 5, 'auto_class_weights': 'SqrtBalanced'}. Best is trial 0 with value: 0.8653884155925278.\u001b[0m\n"
     ]
    },
    {
     "name": "stdout",
     "output_type": "stream",
     "text": [
      "\n",
      "bestTest = 0.4296283871\n",
      "bestIteration = 85\n",
      "\n",
      "Training on fold [0/5]\n",
      "\n",
      "bestTest = 0.4679412674\n",
      "bestIteration = 84\n",
      "\n",
      "Training on fold [1/5]\n",
      "\n",
      "bestTest = 0.4666173241\n",
      "bestIteration = 104\n",
      "\n",
      "Training on fold [2/5]\n",
      "\n",
      "bestTest = 0.454456757\n",
      "bestIteration = 92\n",
      "\n",
      "Training on fold [3/5]\n",
      "\n",
      "bestTest = 0.4474043441\n",
      "bestIteration = 88\n",
      "\n",
      "Training on fold [4/5]\n"
     ]
    },
    {
     "name": "stderr",
     "output_type": "stream",
     "text": [
      "\u001b[32m[I 2022-01-27 19:14:50,816]\u001b[0m Trial 7 finished with value: 0.8644891851818329 and parameters: {'iterations': 500, 'learning_rate': 0.2714096381817127, 'random_strength': 4, 'bagging_temperature': 6, 'max_bin': 8, 'grow_policy': 'Depthwise', 'min_data_in_leaf': 1, 'max_depth': 2, 'l2_leaf_reg': 4.9369231964322795, 'one_hot_max_size': 1024, 'auto_class_weights': 'Balanced'}. Best is trial 0 with value: 0.8653884155925278.\u001b[0m\n"
     ]
    },
    {
     "name": "stdout",
     "output_type": "stream",
     "text": [
      "\n",
      "bestTest = 0.4596372149\n",
      "bestIteration = 72\n",
      "\n",
      "Training on fold [0/5]\n",
      "\n",
      "bestTest = 0.4349873236\n",
      "bestIteration = 80\n",
      "\n",
      "Training on fold [1/5]\n",
      "\n",
      "bestTest = 0.437334784\n",
      "bestIteration = 86\n",
      "\n",
      "Training on fold [2/5]\n",
      "\n",
      "bestTest = 0.4190739375\n",
      "bestIteration = 85\n",
      "\n",
      "Training on fold [3/5]\n",
      "\n",
      "bestTest = 0.4226906197\n",
      "bestIteration = 76\n",
      "\n",
      "Training on fold [4/5]\n"
     ]
    },
    {
     "name": "stderr",
     "output_type": "stream",
     "text": [
      "\u001b[32m[I 2022-01-27 19:14:53,302]\u001b[0m Trial 8 finished with value: 0.8628997857330354 and parameters: {'iterations': 1500, 'learning_rate': 0.2053434310118264, 'random_strength': 8, 'bagging_temperature': 0, 'max_bin': 20, 'grow_policy': 'Depthwise', 'min_data_in_leaf': 10, 'max_depth': 3, 'l2_leaf_reg': 9.501510078266123e-06, 'one_hot_max_size': 500, 'auto_class_weights': 'SqrtBalanced'}. Best is trial 0 with value: 0.8653884155925278.\u001b[0m\n"
     ]
    },
    {
     "name": "stdout",
     "output_type": "stream",
     "text": [
      "\n",
      "bestTest = 0.424033751\n",
      "bestIteration = 82\n",
      "\n",
      "Training on fold [0/5]\n",
      "\n",
      "bestTest = 0.4550788956\n",
      "bestIteration = 37\n",
      "\n",
      "Training on fold [1/5]\n",
      "\n",
      "bestTest = 0.4496170498\n",
      "bestIteration = 18\n",
      "\n",
      "Training on fold [2/5]\n",
      "\n",
      "bestTest = 0.4347903394\n",
      "bestIteration = 36\n",
      "\n",
      "Training on fold [3/5]\n",
      "\n",
      "bestTest = 0.4351549973\n",
      "bestIteration = 38\n",
      "\n",
      "Training on fold [4/5]\n"
     ]
    },
    {
     "name": "stderr",
     "output_type": "stream",
     "text": [
      "\u001b[32m[I 2022-01-27 19:15:40,974]\u001b[0m Trial 9 finished with value: 0.8539903652941861 and parameters: {'iterations': 100, 'learning_rate': 0.25900665720714294, 'random_strength': 3, 'bagging_temperature': 0, 'max_bin': 6, 'grow_policy': 'Lossguide', 'min_data_in_leaf': 8, 'max_depth': 7, 'l2_leaf_reg': 1.1694576328936887e-07, 'one_hot_max_size': 12, 'auto_class_weights': 'SqrtBalanced'}. Best is trial 0 with value: 0.8653884155925278.\u001b[0m\n"
     ]
    },
    {
     "name": "stdout",
     "output_type": "stream",
     "text": [
      "\n",
      "bestTest = 0.4386127061\n",
      "bestIteration = 49\n",
      "\n",
      "Training on fold [0/5]\n",
      "\n",
      "bestTest = 0.4876225792\n",
      "bestIteration = 901\n",
      "\n",
      "Training on fold [1/5]\n",
      "\n",
      "bestTest = 0.4848174843\n",
      "bestIteration = 858\n",
      "\n",
      "Training on fold [2/5]\n",
      "\n",
      "bestTest = 0.4699271255\n",
      "bestIteration = 1133\n",
      "\n",
      "Training on fold [3/5]\n",
      "\n",
      "bestTest = 0.4598784334\n",
      "bestIteration = 1326\n",
      "\n",
      "Training on fold [4/5]\n"
     ]
    },
    {
     "name": "stderr",
     "output_type": "stream",
     "text": [
      "\u001b[32m[I 2022-01-27 19:16:20,570]\u001b[0m Trial 10 finished with value: 0.8576559311919532 and parameters: {'iterations': 1500, 'learning_rate': 0.006050647464439618, 'random_strength': 10, 'bagging_temperature': 10, 'max_bin': 6, 'grow_policy': 'SymmetricTree', 'min_data_in_leaf': 6, 'max_depth': 7, 'l2_leaf_reg': 0.007150186521078341, 'one_hot_max_size': 100, 'auto_class_weights': 'Balanced'}. Best is trial 0 with value: 0.8653884155925278.\u001b[0m\n"
     ]
    },
    {
     "name": "stdout",
     "output_type": "stream",
     "text": [
      "\n",
      "bestTest = 0.4706329758\n",
      "bestIteration = 1205\n",
      "\n",
      "Training on fold [0/5]\n",
      "\n",
      "bestTest = 0.4383300458\n",
      "bestIteration = 103\n",
      "\n",
      "Training on fold [1/5]\n",
      "\n",
      "bestTest = 0.4369191724\n",
      "bestIteration = 109\n",
      "\n",
      "Training on fold [2/5]\n",
      "\n",
      "bestTest = 0.4228269417\n",
      "bestIteration = 106\n",
      "\n",
      "Training on fold [3/5]\n",
      "\n",
      "bestTest = 0.4155276123\n",
      "bestIteration = 99\n",
      "\n",
      "Training on fold [4/5]\n"
     ]
    },
    {
     "name": "stderr",
     "output_type": "stream",
     "text": [
      "\u001b[32m[I 2022-01-27 19:16:25,611]\u001b[0m Trial 11 finished with value: 0.8629048757418974 and parameters: {'iterations': 200, 'learning_rate': 0.13750920329129512, 'random_strength': 10, 'bagging_temperature': 4, 'max_bin': 5, 'grow_policy': 'Depthwise', 'min_data_in_leaf': 4, 'max_depth': 5, 'l2_leaf_reg': 0.06857418244454487, 'one_hot_max_size': 100, 'auto_class_weights': 'SqrtBalanced'}. Best is trial 0 with value: 0.8653884155925278.\u001b[0m\n"
     ]
    },
    {
     "name": "stdout",
     "output_type": "stream",
     "text": [
      "\n",
      "bestTest = 0.4244022484\n",
      "bestIteration = 115\n",
      "\n",
      "Training on fold [0/5]\n",
      "\n",
      "bestTest = 0.4415504209\n",
      "bestIteration = 98\n",
      "\n",
      "Training on fold [1/5]\n",
      "\n",
      "bestTest = 0.4343989914\n",
      "bestIteration = 91\n",
      "\n",
      "Training on fold [2/5]\n",
      "\n",
      "bestTest = 0.4282470767\n",
      "bestIteration = 82\n",
      "\n",
      "Training on fold [3/5]\n",
      "\n",
      "bestTest = 0.4189992738\n",
      "bestIteration = 85\n",
      "\n",
      "Training on fold [4/5]\n"
     ]
    },
    {
     "name": "stderr",
     "output_type": "stream",
     "text": [
      "\u001b[32m[I 2022-01-27 19:16:28,959]\u001b[0m Trial 12 finished with value: 0.8611710716314096 and parameters: {'iterations': 1000, 'learning_rate': 0.16136188689816064, 'random_strength': 7, 'bagging_temperature': 10, 'max_bin': 10, 'grow_policy': 'Depthwise', 'min_data_in_leaf': 1, 'max_depth': 4, 'l2_leaf_reg': 0.00013028549097931553, 'one_hot_max_size': 500, 'auto_class_weights': 'SqrtBalanced'}. Best is trial 0 with value: 0.8653884155925278.\u001b[0m\n"
     ]
    },
    {
     "name": "stdout",
     "output_type": "stream",
     "text": [
      "\n",
      "bestTest = 0.4254590076\n",
      "bestIteration = 99\n",
      "\n",
      "Training on fold [0/5]\n",
      "\n",
      "bestTest = 0.4470310345\n",
      "bestIteration = 199\n",
      "\n",
      "Training on fold [1/5]\n",
      "\n",
      "bestTest = 0.4431802931\n",
      "bestIteration = 199\n",
      "\n",
      "Training on fold [2/5]\n",
      "\n",
      "bestTest = 0.4326422706\n",
      "bestIteration = 199\n",
      "\n",
      "Training on fold [3/5]\n",
      "\n",
      "bestTest = 0.4274032569\n",
      "bestIteration = 199\n",
      "\n",
      "Training on fold [4/5]\n"
     ]
    },
    {
     "name": "stderr",
     "output_type": "stream",
     "text": [
      "\u001b[32m[I 2022-01-27 19:16:35,981]\u001b[0m Trial 13 finished with value: 0.8609248893693385 and parameters: {'iterations': 200, 'learning_rate': 0.015312092326589866, 'random_strength': 1, 'bagging_temperature': 3, 'max_bin': 6, 'grow_policy': 'SymmetricTree', 'min_data_in_leaf': 3, 'max_depth': 6, 'l2_leaf_reg': 0.21656942139045643, 'one_hot_max_size': 1024, 'auto_class_weights': 'SqrtBalanced'}. Best is trial 0 with value: 0.8653884155925278.\u001b[0m\n"
     ]
    },
    {
     "name": "stdout",
     "output_type": "stream",
     "text": [
      "\n",
      "bestTest = 0.4368823075\n",
      "bestIteration = 199\n",
      "\n",
      "Training on fold [0/5]\n",
      "\n",
      "bestTest = 0.4884660755\n",
      "bestIteration = 53\n",
      "\n",
      "Training on fold [1/5]\n",
      "\n",
      "bestTest = 0.4742487883\n",
      "bestIteration = 100\n",
      "\n",
      "Training on fold [2/5]\n",
      "\n",
      "bestTest = 0.4633045577\n",
      "bestIteration = 97\n",
      "\n",
      "Training on fold [3/5]\n",
      "\n",
      "bestTest = 0.454609055\n",
      "bestIteration = 101\n",
      "\n",
      "Training on fold [4/5]\n"
     ]
    },
    {
     "name": "stderr",
     "output_type": "stream",
     "text": [
      "\u001b[32m[I 2022-01-27 19:18:21,480]\u001b[0m Trial 14 finished with value: 0.8561913333037037 and parameters: {'iterations': 1500, 'learning_rate': 0.14690216116501453, 'random_strength': 10, 'bagging_temperature': 8, 'max_bin': 10, 'grow_policy': 'Lossguide', 'min_data_in_leaf': 3, 'max_depth': 9, 'l2_leaf_reg': 0.0012700604558864655, 'one_hot_max_size': 5, 'auto_class_weights': 'Balanced'}. Best is trial 0 with value: 0.8653884155925278.\u001b[0m\n"
     ]
    },
    {
     "name": "stdout",
     "output_type": "stream",
     "text": [
      "\n",
      "bestTest = 0.4820063357\n",
      "bestIteration = 55\n",
      "\n",
      "Training on fold [0/5]\n",
      "\n",
      "bestTest = 0.4358033342\n",
      "bestIteration = 157\n",
      "\n",
      "Training on fold [1/5]\n",
      "\n",
      "bestTest = 0.4359794715\n",
      "bestIteration = 116\n",
      "\n",
      "Training on fold [2/5]\n",
      "\n",
      "bestTest = 0.4176518035\n",
      "bestIteration = 168\n",
      "\n",
      "Training on fold [3/5]\n",
      "\n",
      "bestTest = 0.4161760442\n",
      "bestIteration = 140\n",
      "\n",
      "Training on fold [4/5]\n"
     ]
    },
    {
     "name": "stderr",
     "output_type": "stream",
     "text": [
      "\u001b[32m[I 2022-01-27 19:18:44,237]\u001b[0m Trial 15 finished with value: 0.864199125773494 and parameters: {'iterations': 500, 'learning_rate': 0.10902072034609422, 'random_strength': 9, 'bagging_temperature': 5, 'max_bin': 4, 'grow_policy': 'Depthwise', 'min_data_in_leaf': 5, 'max_depth': 4, 'l2_leaf_reg': 9.46314667205651e-06, 'one_hot_max_size': 12, 'auto_class_weights': 'SqrtBalanced'}. Best is trial 0 with value: 0.8653884155925278.\u001b[0m\n"
     ]
    },
    {
     "name": "stdout",
     "output_type": "stream",
     "text": [
      "\n",
      "bestTest = 0.4261777295\n",
      "bestIteration = 135\n",
      "\n",
      "Training on fold [0/5]\n",
      "\n",
      "bestTest = 0.4350358433\n",
      "bestIteration = 94\n",
      "\n",
      "Training on fold [1/5]\n",
      "\n",
      "bestTest = 0.4312022669\n",
      "bestIteration = 88\n",
      "\n",
      "Training on fold [2/5]\n",
      "\n",
      "bestTest = 0.4218789099\n",
      "bestIteration = 101\n",
      "\n",
      "Training on fold [3/5]\n",
      "\n",
      "bestTest = 0.4147449176\n",
      "bestIteration = 87\n",
      "\n",
      "Training on fold [4/5]\n"
     ]
    },
    {
     "name": "stderr",
     "output_type": "stream",
     "text": [
      "\u001b[32m[I 2022-01-27 19:18:47,038]\u001b[0m Trial 16 finished with value: 0.865269548409708 and parameters: {'iterations': 300, 'learning_rate': 0.18724782574165397, 'random_strength': 6, 'bagging_temperature': 2, 'max_bin': 8, 'grow_policy': 'SymmetricTree', 'min_data_in_leaf': 8, 'max_depth': 3, 'l2_leaf_reg': 0.002044181008008903, 'one_hot_max_size': 500, 'auto_class_weights': 'SqrtBalanced'}. Best is trial 0 with value: 0.8653884155925278.\u001b[0m\n"
     ]
    },
    {
     "name": "stdout",
     "output_type": "stream",
     "text": [
      "\n",
      "bestTest = 0.4230671341\n",
      "bestIteration = 117\n",
      "\n",
      "Training on fold [0/5]\n",
      "\n",
      "bestTest = 0.4524108208\n",
      "bestIteration = 55\n",
      "\n",
      "Training on fold [1/5]\n",
      "\n",
      "bestTest = 0.4561335201\n",
      "bestIteration = 20\n",
      "\n",
      "Training on fold [2/5]\n",
      "\n",
      "bestTest = 0.435028635\n",
      "bestIteration = 45\n",
      "\n",
      "Training on fold [3/5]\n",
      "\n",
      "bestTest = 0.4330767215\n",
      "bestIteration = 33\n",
      "\n",
      "Training on fold [4/5]\n"
     ]
    },
    {
     "name": "stderr",
     "output_type": "stream",
     "text": [
      "\u001b[32m[I 2022-01-27 19:18:49,108]\u001b[0m Trial 17 finished with value: 0.8529254965662292 and parameters: {'iterations': 300, 'learning_rate': 0.1959685464095528, 'random_strength': 6, 'bagging_temperature': 1, 'max_bin': 8, 'grow_policy': 'SymmetricTree', 'min_data_in_leaf': 8, 'max_depth': 6, 'l2_leaf_reg': 0.0008448032982377925, 'one_hot_max_size': 100, 'auto_class_weights': 'SqrtBalanced'}. Best is trial 0 with value: 0.8653884155925278.\u001b[0m\n"
     ]
    },
    {
     "name": "stdout",
     "output_type": "stream",
     "text": [
      "\n",
      "bestTest = 0.4342052296\n",
      "bestIteration = 61\n",
      "\n",
      "Training on fold [0/5]\n",
      "\n",
      "bestTest = 0.4772950444\n",
      "bestIteration = 299\n",
      "\n",
      "Training on fold [1/5]\n",
      "\n",
      "bestTest = 0.4730891591\n",
      "bestIteration = 299\n",
      "\n",
      "Training on fold [2/5]\n",
      "\n",
      "bestTest = 0.4631928674\n",
      "bestIteration = 299\n",
      "\n",
      "Training on fold [3/5]\n",
      "\n",
      "bestTest = 0.4545620789\n",
      "bestIteration = 299\n",
      "\n",
      "Training on fold [4/5]\n"
     ]
    },
    {
     "name": "stderr",
     "output_type": "stream",
     "text": [
      "\u001b[32m[I 2022-01-27 19:18:55,415]\u001b[0m Trial 18 finished with value: 0.8616251644554694 and parameters: {'iterations': 300, 'learning_rate': 0.03916309270975399, 'random_strength': 5, 'bagging_temperature': 6, 'max_bin': 8, 'grow_policy': 'SymmetricTree', 'min_data_in_leaf': 8, 'max_depth': 3, 'l2_leaf_reg': 2.750136202078559e-06, 'one_hot_max_size': 500, 'auto_class_weights': 'Balanced'}. Best is trial 0 with value: 0.8653884155925278.\u001b[0m\n"
     ]
    },
    {
     "name": "stdout",
     "output_type": "stream",
     "text": [
      "\n",
      "bestTest = 0.46900707\n",
      "bestIteration = 299\n",
      "\n",
      "Training on fold [0/5]\n",
      "\n",
      "bestTest = 0.4325038377\n",
      "bestIteration = 90\n",
      "\n",
      "Training on fold [1/5]\n",
      "\n",
      "bestTest = 0.4268445619\n",
      "bestIteration = 94\n",
      "\n",
      "Training on fold [2/5]\n",
      "\n",
      "bestTest = 0.4182186309\n",
      "bestIteration = 72\n",
      "\n",
      "Training on fold [3/5]\n",
      "\n",
      "bestTest = 0.408190191\n",
      "bestIteration = 146\n",
      "\n",
      "Training on fold [4/5]\n"
     ]
    },
    {
     "name": "stderr",
     "output_type": "stream",
     "text": [
      "\u001b[32m[I 2022-01-27 19:18:58,736]\u001b[0m Trial 19 finished with value: 0.8676485381457519 and parameters: {'iterations': 1000, 'learning_rate': 0.23628610596512684, 'random_strength': 7, 'bagging_temperature': 9, 'max_bin': 5, 'grow_policy': 'SymmetricTree', 'min_data_in_leaf': 10, 'max_depth': 5, 'l2_leaf_reg': 99.11695455168547, 'one_hot_max_size': 100, 'auto_class_weights': 'SqrtBalanced'}. Best is trial 19 with value: 0.8676485381457519.\u001b[0m\n"
     ]
    },
    {
     "name": "stdout",
     "output_type": "stream",
     "text": [
      "\n",
      "bestTest = 0.4224681779\n",
      "bestIteration = 75\n",
      "\n",
      "Training on fold [0/5]\n",
      "\n",
      "bestTest = 0.4366558313\n",
      "bestIteration = 65\n",
      "\n",
      "Training on fold [1/5]\n",
      "\n",
      "bestTest = 0.4270237501\n",
      "bestIteration = 110\n",
      "\n",
      "Training on fold [2/5]\n",
      "\n",
      "bestTest = 0.4176958053\n",
      "bestIteration = 74\n",
      "\n",
      "Training on fold [3/5]\n",
      "\n",
      "bestTest = 0.4064420855\n",
      "bestIteration = 102\n",
      "\n",
      "Training on fold [4/5]\n"
     ]
    },
    {
     "name": "stderr",
     "output_type": "stream",
     "text": [
      "\u001b[32m[I 2022-01-27 19:19:02,552]\u001b[0m Trial 20 finished with value: 0.8674753613907743 and parameters: {'iterations': 1000, 'learning_rate': 0.2435939992133711, 'random_strength': 7, 'bagging_temperature': 9, 'max_bin': 5, 'grow_policy': 'SymmetricTree', 'min_data_in_leaf': 10, 'max_depth': 7, 'l2_leaf_reg': 83.5361102732189, 'one_hot_max_size': 100, 'auto_class_weights': 'SqrtBalanced'}. Best is trial 19 with value: 0.8676485381457519.\u001b[0m\n"
     ]
    },
    {
     "name": "stdout",
     "output_type": "stream",
     "text": [
      "\n",
      "bestTest = 0.4209722927\n",
      "bestIteration = 75\n",
      "\n",
      "Training on fold [0/5]\n",
      "\n",
      "bestTest = 0.4393008451\n",
      "bestIteration = 52\n",
      "\n",
      "Training on fold [1/5]\n",
      "\n",
      "bestTest = 0.4318039501\n",
      "bestIteration = 54\n",
      "\n",
      "Training on fold [2/5]\n",
      "\n",
      "bestTest = 0.417736719\n",
      "bestIteration = 72\n",
      "\n",
      "Training on fold [3/5]\n",
      "\n",
      "bestTest = 0.4089798832\n",
      "bestIteration = 63\n",
      "\n",
      "Training on fold [4/5]\n"
     ]
    },
    {
     "name": "stderr",
     "output_type": "stream",
     "text": [
      "\u001b[32m[I 2022-01-27 19:19:05,734]\u001b[0m Trial 21 finished with value: 0.8656499193900947 and parameters: {'iterations': 1000, 'learning_rate': 0.29869995206003336, 'random_strength': 7, 'bagging_temperature': 9, 'max_bin': 5, 'grow_policy': 'SymmetricTree', 'min_data_in_leaf': 10, 'max_depth': 8, 'l2_leaf_reg': 97.19978662487846, 'one_hot_max_size': 100, 'auto_class_weights': 'SqrtBalanced'}. Best is trial 19 with value: 0.8676485381457519.\u001b[0m\n"
     ]
    },
    {
     "name": "stdout",
     "output_type": "stream",
     "text": [
      "\n",
      "bestTest = 0.4219686795\n",
      "bestIteration = 56\n",
      "\n",
      "Training on fold [0/5]\n",
      "\n",
      "bestTest = 0.4337093957\n",
      "bestIteration = 60\n",
      "\n",
      "Training on fold [1/5]\n",
      "\n",
      "bestTest = 0.4286696099\n",
      "bestIteration = 75\n",
      "\n",
      "Training on fold [2/5]\n",
      "\n",
      "bestTest = 0.4195775798\n",
      "bestIteration = 66\n",
      "\n",
      "Training on fold [3/5]\n",
      "\n",
      "bestTest = 0.407007959\n",
      "bestIteration = 76\n",
      "\n",
      "Training on fold [4/5]\n"
     ]
    },
    {
     "name": "stderr",
     "output_type": "stream",
     "text": [
      "\u001b[32m[I 2022-01-27 19:19:09,317]\u001b[0m Trial 22 finished with value: 0.866225212300775 and parameters: {'iterations': 1000, 'learning_rate': 0.2958581323596662, 'random_strength': 7, 'bagging_temperature': 9, 'max_bin': 5, 'grow_policy': 'SymmetricTree', 'min_data_in_leaf': 10, 'max_depth': 8, 'l2_leaf_reg': 91.69888044928044, 'one_hot_max_size': 100, 'auto_class_weights': 'SqrtBalanced'}. Best is trial 19 with value: 0.8676485381457519.\u001b[0m\n"
     ]
    },
    {
     "name": "stdout",
     "output_type": "stream",
     "text": [
      "\n",
      "bestTest = 0.4256582632\n",
      "bestIteration = 53\n",
      "\n",
      "Training on fold [0/5]\n",
      "\n",
      "bestTest = 0.4351452883\n",
      "bestIteration = 60\n",
      "\n",
      "Training on fold [1/5]\n",
      "\n",
      "bestTest = 0.4320769445\n",
      "bestIteration = 67\n",
      "\n",
      "Training on fold [2/5]\n",
      "\n",
      "bestTest = 0.4171887954\n",
      "bestIteration = 65\n",
      "\n",
      "Training on fold [3/5]\n",
      "\n",
      "bestTest = 0.4112805283\n",
      "bestIteration = 75\n",
      "\n",
      "Training on fold [4/5]\n"
     ]
    },
    {
     "name": "stderr",
     "output_type": "stream",
     "text": [
      "\u001b[32m[I 2022-01-27 19:19:12,907]\u001b[0m Trial 23 finished with value: 0.8661462202105854 and parameters: {'iterations': 1000, 'learning_rate': 0.23906515316928975, 'random_strength': 7, 'bagging_temperature': 8, 'max_bin': 5, 'grow_policy': 'SymmetricTree', 'min_data_in_leaf': 9, 'max_depth': 8, 'l2_leaf_reg': 89.94436397893094, 'one_hot_max_size': 100, 'auto_class_weights': 'SqrtBalanced'}. Best is trial 19 with value: 0.8676485381457519.\u001b[0m\n"
     ]
    },
    {
     "name": "stdout",
     "output_type": "stream",
     "text": [
      "\n",
      "bestTest = 0.4243055497\n",
      "bestIteration = 65\n",
      "\n",
      "Training on fold [0/5]\n",
      "\n",
      "bestTest = 0.456266327\n",
      "bestIteration = 25\n",
      "\n",
      "Training on fold [1/5]\n",
      "\n",
      "bestTest = 0.4452790354\n",
      "bestIteration = 24\n",
      "\n",
      "Training on fold [2/5]\n",
      "\n",
      "bestTest = 0.4338050956\n",
      "bestIteration = 29\n",
      "\n",
      "Training on fold [3/5]\n",
      "\n",
      "bestTest = 0.4268388809\n",
      "bestIteration = 19\n",
      "\n",
      "Training on fold [4/5]\n"
     ]
    },
    {
     "name": "stderr",
     "output_type": "stream",
     "text": [
      "\u001b[32m[I 2022-01-27 19:19:14,752]\u001b[0m Trial 24 finished with value: 0.8549473281674013 and parameters: {'iterations': 1000, 'learning_rate': 0.29755956091120445, 'random_strength': 5, 'bagging_temperature': 9, 'max_bin': 5, 'grow_policy': 'SymmetricTree', 'min_data_in_leaf': 9, 'max_depth': 8, 'l2_leaf_reg': 0.8819361741496387, 'one_hot_max_size': 100, 'auto_class_weights': 'SqrtBalanced'}. Best is trial 19 with value: 0.8676485381457519.\u001b[0m\n"
     ]
    },
    {
     "name": "stdout",
     "output_type": "stream",
     "text": [
      "\n",
      "bestTest = 0.4340604357\n",
      "bestIteration = 30\n",
      "\n",
      "Training on fold [0/5]\n",
      "\n",
      "bestTest = 0.4385899416\n",
      "bestIteration = 67\n",
      "\n",
      "Training on fold [1/5]\n",
      "\n",
      "bestTest = 0.4309556356\n",
      "bestIteration = 54\n",
      "\n",
      "Training on fold [2/5]\n",
      "\n",
      "bestTest = 0.4223220527\n",
      "bestIteration = 69\n",
      "\n",
      "Training on fold [3/5]\n",
      "\n",
      "bestTest = 0.4117100718\n",
      "bestIteration = 65\n",
      "\n",
      "Training on fold [4/5]\n"
     ]
    },
    {
     "name": "stderr",
     "output_type": "stream",
     "text": [
      "\u001b[32m[I 2022-01-27 19:19:18,051]\u001b[0m Trial 25 finished with value: 0.8650398606933507 and parameters: {'iterations': 1000, 'learning_rate': 0.24213450684227086, 'random_strength': 7, 'bagging_temperature': 9, 'max_bin': 5, 'grow_policy': 'SymmetricTree', 'min_data_in_leaf': 10, 'max_depth': 7, 'l2_leaf_reg': 24.255990500428627, 'one_hot_max_size': 100, 'auto_class_weights': 'SqrtBalanced'}. Best is trial 19 with value: 0.8676485381457519.\u001b[0m\n"
     ]
    },
    {
     "name": "stdout",
     "output_type": "stream",
     "text": [
      "\n",
      "bestTest = 0.4224813645\n",
      "bestIteration = 89\n",
      "\n",
      "Training on fold [0/5]\n",
      "\n",
      "bestTest = 0.4748881574\n",
      "bestIteration = 67\n",
      "\n",
      "Training on fold [1/5]\n",
      "\n",
      "bestTest = 0.4727415118\n",
      "bestIteration = 61\n",
      "\n",
      "Training on fold [2/5]\n",
      "\n",
      "bestTest = 0.4602691936\n",
      "bestIteration = 63\n",
      "\n",
      "Training on fold [3/5]\n",
      "\n",
      "bestTest = 0.4452167247\n",
      "bestIteration = 60\n",
      "\n",
      "Training on fold [4/5]\n"
     ]
    },
    {
     "name": "stderr",
     "output_type": "stream",
     "text": [
      "\u001b[32m[I 2022-01-27 19:19:21,995]\u001b[0m Trial 26 finished with value: 0.8617192329858037 and parameters: {'iterations': 1000, 'learning_rate': 0.21852411773622293, 'random_strength': 9, 'bagging_temperature': 7, 'max_bin': 5, 'grow_policy': 'Lossguide', 'min_data_in_leaf': 9, 'max_depth': 9, 'l2_leaf_reg': 1.4671077365106504, 'one_hot_max_size': 100, 'auto_class_weights': 'Balanced'}. Best is trial 19 with value: 0.8676485381457519.\u001b[0m\n"
     ]
    },
    {
     "name": "stdout",
     "output_type": "stream",
     "text": [
      "\n",
      "bestTest = 0.4623285217\n",
      "bestIteration = 71\n",
      "\n",
      "Training on fold [0/5]\n",
      "\n",
      "bestTest = 0.4296391673\n",
      "bestIteration = 122\n",
      "\n",
      "Training on fold [1/5]\n",
      "\n",
      "bestTest = 0.426995926\n",
      "bestIteration = 126\n",
      "\n",
      "Training on fold [2/5]\n",
      "\n",
      "bestTest = 0.4164085992\n",
      "bestIteration = 122\n",
      "\n",
      "Training on fold [3/5]\n",
      "\n",
      "bestTest = 0.4110515239\n",
      "bestIteration = 112\n",
      "\n",
      "Training on fold [4/5]\n"
     ]
    },
    {
     "name": "stderr",
     "output_type": "stream",
     "text": [
      "\u001b[32m[I 2022-01-27 19:19:26,053]\u001b[0m Trial 27 finished with value: 0.8681162261007787 and parameters: {'iterations': 1000, 'learning_rate': 0.1737998679520284, 'random_strength': 9, 'bagging_temperature': 7, 'max_bin': 5, 'grow_policy': 'SymmetricTree', 'min_data_in_leaf': 7, 'max_depth': 5, 'l2_leaf_reg': 14.937013918277646, 'one_hot_max_size': 100, 'auto_class_weights': 'SqrtBalanced'}. Best is trial 27 with value: 0.8681162261007787.\u001b[0m\n"
     ]
    },
    {
     "name": "stdout",
     "output_type": "stream",
     "text": [
      "\n",
      "bestTest = 0.4198161651\n",
      "bestIteration = 112\n",
      "\n",
      "Training on fold [0/5]\n",
      "\n",
      "bestTest = 0.4369225465\n",
      "bestIteration = 90\n",
      "\n",
      "Training on fold [1/5]\n",
      "\n",
      "bestTest = 0.4306158311\n",
      "bestIteration = 84\n",
      "\n",
      "Training on fold [2/5]\n",
      "\n",
      "bestTest = 0.4197102848\n",
      "bestIteration = 89\n",
      "\n",
      "Training on fold [3/5]\n",
      "\n",
      "bestTest = 0.4116605294\n",
      "bestIteration = 120\n",
      "\n",
      "Training on fold [4/5]\n"
     ]
    },
    {
     "name": "stderr",
     "output_type": "stream",
     "text": [
      "\u001b[32m[I 2022-01-27 19:19:52,191]\u001b[0m Trial 28 finished with value: 0.8654716070662619 and parameters: {'iterations': 1000, 'learning_rate': 0.17117934956091047, 'random_strength': 9, 'bagging_temperature': 7, 'max_bin': 5, 'grow_policy': 'SymmetricTree', 'min_data_in_leaf': 7, 'max_depth': 5, 'l2_leaf_reg': 0.47230055820807965, 'one_hot_max_size': 5, 'auto_class_weights': 'SqrtBalanced'}. Best is trial 27 with value: 0.8681162261007787.\u001b[0m\n"
     ]
    },
    {
     "name": "stdout",
     "output_type": "stream",
     "text": [
      "\n",
      "bestTest = 0.4246121964\n",
      "bestIteration = 121\n",
      "\n",
      "Training on fold [0/5]\n",
      "\n",
      "bestTest = 0.431706835\n",
      "bestIteration = 101\n",
      "\n",
      "Training on fold [1/5]\n",
      "\n",
      "bestTest = 0.4307246603\n",
      "bestIteration = 90\n",
      "\n",
      "Training on fold [2/5]\n",
      "\n",
      "bestTest = 0.4192683091\n",
      "bestIteration = 82\n",
      "\n",
      "Training on fold [3/5]\n",
      "\n",
      "bestTest = 0.4093364254\n",
      "bestIteration = 104\n",
      "\n",
      "Training on fold [4/5]\n"
     ]
    },
    {
     "name": "stderr",
     "output_type": "stream",
     "text": [
      "\u001b[32m[I 2022-01-27 19:19:55,907]\u001b[0m Trial 29 finished with value: 0.8669992850574981 and parameters: {'iterations': 1000, 'learning_rate': 0.18174251196312802, 'random_strength': 9, 'bagging_temperature': 10, 'max_bin': 5, 'grow_policy': 'SymmetricTree', 'min_data_in_leaf': 7, 'max_depth': 6, 'l2_leaf_reg': 13.877706996845497, 'one_hot_max_size': 100, 'auto_class_weights': 'SqrtBalanced'}. Best is trial 27 with value: 0.8681162261007787.\u001b[0m\n"
     ]
    },
    {
     "name": "stdout",
     "output_type": "stream",
     "text": [
      "\n",
      "bestTest = 0.4209943082\n",
      "bestIteration = 92\n",
      "\n",
      "Training on fold [0/5]\n",
      "\n",
      "bestTest = 0.4309149912\n",
      "bestIteration = 132\n",
      "\n",
      "Training on fold [1/5]\n",
      "\n",
      "bestTest = 0.4306756893\n",
      "bestIteration = 137\n",
      "\n",
      "Training on fold [2/5]\n",
      "\n",
      "bestTest = 0.4173692176\n",
      "bestIteration = 116\n",
      "\n",
      "Training on fold [3/5]\n",
      "\n",
      "bestTest = 0.4077032762\n",
      "bestIteration = 173\n",
      "\n",
      "Training on fold [4/5]\n"
     ]
    },
    {
     "name": "stderr",
     "output_type": "stream",
     "text": [
      "\u001b[32m[I 2022-01-27 19:20:29,394]\u001b[0m Trial 30 finished with value: 0.8673266749022652 and parameters: {'iterations': 1000, 'learning_rate': 0.12590269344110375, 'random_strength': 8, 'bagging_temperature': 6, 'max_bin': 5, 'grow_policy': 'SymmetricTree', 'min_data_in_leaf': 7, 'max_depth': 5, 'l2_leaf_reg': 6.365704619771397, 'one_hot_max_size': 10, 'auto_class_weights': 'SqrtBalanced'}. Best is trial 27 with value: 0.8681162261007787.\u001b[0m\n"
     ]
    },
    {
     "name": "stdout",
     "output_type": "stream",
     "text": [
      "\n",
      "bestTest = 0.4238678217\n",
      "bestIteration = 165\n",
      "\n",
      "Training on fold [0/5]\n",
      "\n",
      "bestTest = 0.4305493922\n",
      "bestIteration = 158\n",
      "\n",
      "Training on fold [1/5]\n",
      "\n",
      "bestTest = 0.4281566404\n",
      "bestIteration = 159\n",
      "\n",
      "Training on fold [2/5]\n",
      "\n",
      "bestTest = 0.4159716411\n",
      "bestIteration = 149\n",
      "\n",
      "Training on fold [3/5]\n",
      "\n",
      "bestTest = 0.4095311785\n",
      "bestIteration = 167\n",
      "\n",
      "Training on fold [4/5]\n"
     ]
    },
    {
     "name": "stderr",
     "output_type": "stream",
     "text": [
      "\u001b[32m[I 2022-01-27 19:21:07,054]\u001b[0m Trial 31 finished with value: 0.868180468534953 and parameters: {'iterations': 1000, 'learning_rate': 0.12019366281355286, 'random_strength': 8, 'bagging_temperature': 6, 'max_bin': 5, 'grow_policy': 'SymmetricTree', 'min_data_in_leaf': 7, 'max_depth': 5, 'l2_leaf_reg': 9.653249931764423, 'one_hot_max_size': 10, 'auto_class_weights': 'SqrtBalanced'}. Best is trial 31 with value: 0.868180468534953.\u001b[0m\n"
     ]
    },
    {
     "name": "stdout",
     "output_type": "stream",
     "text": [
      "\n",
      "bestTest = 0.4213476624\n",
      "bestIteration = 163\n",
      "\n",
      "Training on fold [0/5]\n",
      "\n",
      "bestTest = 0.4302823284\n",
      "bestIteration = 163\n",
      "\n",
      "Training on fold [1/5]\n",
      "\n",
      "bestTest = 0.4298338211\n",
      "bestIteration = 173\n",
      "\n",
      "Training on fold [2/5]\n",
      "\n",
      "bestTest = 0.4141175176\n",
      "bestIteration = 182\n",
      "\n",
      "Training on fold [3/5]\n",
      "\n",
      "bestTest = 0.4066015493\n",
      "bestIteration = 184\n",
      "\n",
      "Training on fold [4/5]\n"
     ]
    },
    {
     "name": "stderr",
     "output_type": "stream",
     "text": [
      "\u001b[32m[I 2022-01-27 19:21:49,777]\u001b[0m Trial 32 finished with value: 0.8682739718021623 and parameters: {'iterations': 1000, 'learning_rate': 0.10702346620442124, 'random_strength': 9, 'bagging_temperature': 8, 'max_bin': 5, 'grow_policy': 'SymmetricTree', 'min_data_in_leaf': 9, 'max_depth': 6, 'l2_leaf_reg': 31.19222108555743, 'one_hot_max_size': 10, 'auto_class_weights': 'SqrtBalanced'}. Best is trial 32 with value: 0.8682739718021623.\u001b[0m\n"
     ]
    },
    {
     "name": "stdout",
     "output_type": "stream",
     "text": [
      "\n",
      "bestTest = 0.4240746973\n",
      "bestIteration = 163\n",
      "\n",
      "Training on fold [0/5]\n",
      "\n",
      "bestTest = 0.4325608447\n",
      "bestIteration = 138\n",
      "\n",
      "Training on fold [1/5]\n",
      "\n",
      "bestTest = 0.4296192258\n",
      "bestIteration = 134\n",
      "\n",
      "Training on fold [2/5]\n",
      "\n",
      "bestTest = 0.4186734026\n",
      "bestIteration = 156\n",
      "\n",
      "Training on fold [3/5]\n",
      "\n",
      "bestTest = 0.4108282635\n",
      "bestIteration = 184\n",
      "\n",
      "Training on fold [4/5]\n"
     ]
    },
    {
     "name": "stderr",
     "output_type": "stream",
     "text": [
      "\u001b[32m[I 2022-01-27 19:22:29,798]\u001b[0m Trial 33 finished with value: 0.8669912088087302 and parameters: {'iterations': 1000, 'learning_rate': 0.09178047206326728, 'random_strength': 9, 'bagging_temperature': 7, 'max_bin': 5, 'grow_policy': 'SymmetricTree', 'min_data_in_leaf': 9, 'max_depth': 6, 'l2_leaf_reg': 0.2682105598875779, 'one_hot_max_size': 10, 'auto_class_weights': 'SqrtBalanced'}. Best is trial 32 with value: 0.8682739718021623.\u001b[0m\n"
     ]
    },
    {
     "name": "stdout",
     "output_type": "stream",
     "text": [
      "\n",
      "bestTest = 0.4240143319\n",
      "bestIteration = 203\n",
      "\n",
      "Training on fold [0/5]\n",
      "\n",
      "bestTest = 0.4339742912\n",
      "bestIteration = 127\n",
      "\n",
      "Training on fold [1/5]\n",
      "\n",
      "bestTest = 0.4272305728\n",
      "bestIteration = 156\n",
      "\n",
      "Training on fold [2/5]\n",
      "\n",
      "bestTest = 0.4152230408\n",
      "bestIteration = 143\n",
      "\n",
      "Training on fold [3/5]\n",
      "\n",
      "bestTest = 0.4050283383\n",
      "bestIteration = 162\n",
      "\n",
      "Training on fold [4/5]\n"
     ]
    },
    {
     "name": "stderr",
     "output_type": "stream",
     "text": [
      "\u001b[32m[I 2022-01-27 19:23:04,467]\u001b[0m Trial 34 finished with value: 0.8686940979392226 and parameters: {'iterations': 1200, 'learning_rate': 0.13147355170135422, 'random_strength': 8, 'bagging_temperature': 8, 'max_bin': 4, 'grow_policy': 'SymmetricTree', 'min_data_in_leaf': 6, 'max_depth': 5, 'l2_leaf_reg': 15.867600430679772, 'one_hot_max_size': 10, 'auto_class_weights': 'SqrtBalanced'}. Best is trial 34 with value: 0.8686940979392226.\u001b[0m\n"
     ]
    },
    {
     "name": "stdout",
     "output_type": "stream",
     "text": [
      "\n",
      "bestTest = 0.4208324495\n",
      "bestIteration = 148\n",
      "\n",
      "Training on fold [0/5]\n",
      "\n",
      "bestTest = 0.433748889\n",
      "bestIteration = 124\n",
      "\n",
      "Training on fold [1/5]\n",
      "\n",
      "bestTest = 0.4362105721\n",
      "bestIteration = 95\n",
      "\n",
      "Training on fold [2/5]\n",
      "\n",
      "bestTest = 0.418460716\n",
      "bestIteration = 158\n",
      "\n",
      "Training on fold [3/5]\n",
      "\n",
      "bestTest = 0.4116960696\n",
      "bestIteration = 146\n",
      "\n",
      "Training on fold [4/5]\n"
     ]
    },
    {
     "name": "stderr",
     "output_type": "stream",
     "text": [
      "\u001b[32m[I 2022-01-27 19:23:35,867]\u001b[0m Trial 35 finished with value: 0.8645472392630816 and parameters: {'iterations': 1200, 'learning_rate': 0.12180802834888922, 'random_strength': 8, 'bagging_temperature': 8, 'max_bin': 30, 'grow_policy': 'SymmetricTree', 'min_data_in_leaf': 5, 'max_depth': 5, 'l2_leaf_reg': 0.05978948558138099, 'one_hot_max_size': 10, 'auto_class_weights': 'SqrtBalanced'}. Best is trial 34 with value: 0.8686940979392226.\u001b[0m\n"
     ]
    },
    {
     "name": "stdout",
     "output_type": "stream",
     "text": [
      "\n",
      "bestTest = 0.4278324174\n",
      "bestIteration = 133\n",
      "\n",
      "Training on fold [0/5]\n",
      "\n",
      "bestTest = 0.4323611665\n",
      "bestIteration = 327\n",
      "\n",
      "Training on fold [1/5]\n",
      "\n",
      "bestTest = 0.4305303266\n",
      "bestIteration = 237\n",
      "\n",
      "Training on fold [2/5]\n",
      "\n",
      "bestTest = 0.4167006597\n",
      "bestIteration = 339\n",
      "\n",
      "Training on fold [3/5]\n",
      "\n",
      "bestTest = 0.4070251517\n",
      "bestIteration = 406\n",
      "\n",
      "Training on fold [4/5]\n"
     ]
    },
    {
     "name": "stderr",
     "output_type": "stream",
     "text": [
      "\u001b[32m[I 2022-01-27 19:24:22,890]\u001b[0m Trial 36 finished with value: 0.8672751667763594 and parameters: {'iterations': 1200, 'learning_rate': 0.07453067717867735, 'random_strength': 10, 'bagging_temperature': 5, 'max_bin': 4, 'grow_policy': 'SymmetricTree', 'min_data_in_leaf': 6, 'max_depth': 4, 'l2_leaf_reg': 21.69540230491801, 'one_hot_max_size': 10, 'auto_class_weights': 'SqrtBalanced'}. Best is trial 34 with value: 0.8686940979392226.\u001b[0m\n"
     ]
    },
    {
     "name": "stdout",
     "output_type": "stream",
     "text": [
      "\n",
      "bestTest = 0.4247297915\n",
      "bestIteration = 243\n",
      "\n",
      "Training on fold [0/5]\n",
      "\n",
      "bestTest = 0.4348208684\n",
      "bestIteration = 95\n",
      "\n",
      "Training on fold [1/5]\n",
      "\n",
      "bestTest = 0.4370813765\n",
      "bestIteration = 91\n",
      "\n",
      "Training on fold [2/5]\n",
      "\n",
      "bestTest = 0.4175389784\n",
      "bestIteration = 100\n",
      "\n",
      "Training on fold [3/5]\n",
      "\n",
      "bestTest = 0.4134993528\n",
      "bestIteration = 93\n",
      "\n",
      "Training on fold [4/5]\n"
     ]
    },
    {
     "name": "stderr",
     "output_type": "stream",
     "text": [
      "\u001b[32m[I 2022-01-27 19:25:53,622]\u001b[0m Trial 37 finished with value: 0.8654135467168868 and parameters: {'iterations': 1200, 'learning_rate': 0.15668341078194314, 'random_strength': 9, 'bagging_temperature': 6, 'max_bin': 4, 'grow_policy': 'Lossguide', 'min_data_in_leaf': 7, 'max_depth': 6, 'l2_leaf_reg': 3.420489471134607, 'one_hot_max_size': 10, 'auto_class_weights': 'SqrtBalanced'}. Best is trial 34 with value: 0.8686940979392226.\u001b[0m\n"
     ]
    },
    {
     "name": "stdout",
     "output_type": "stream",
     "text": [
      "\n",
      "bestTest = 0.4207781853\n",
      "bestIteration = 98\n",
      "\n",
      "Training on fold [0/5]\n",
      "\n",
      "bestTest = 0.4787944029\n",
      "bestIteration = 99\n",
      "\n",
      "Training on fold [1/5]\n",
      "\n",
      "bestTest = 0.474659247\n",
      "bestIteration = 99\n",
      "\n",
      "Training on fold [2/5]\n",
      "\n",
      "bestTest = 0.4634864725\n",
      "bestIteration = 99\n",
      "\n",
      "Training on fold [3/5]\n",
      "\n",
      "bestTest = 0.4561754015\n",
      "bestIteration = 99\n",
      "\n",
      "Training on fold [4/5]\n"
     ]
    },
    {
     "name": "stderr",
     "output_type": "stream",
     "text": [
      "\u001b[32m[I 2022-01-27 19:26:15,890]\u001b[0m Trial 38 finished with value: 0.861368154179084 and parameters: {'iterations': 100, 'learning_rate': 0.08443834179104198, 'random_strength': 8, 'bagging_temperature': 7, 'max_bin': 4, 'grow_policy': 'SymmetricTree', 'min_data_in_leaf': 5, 'max_depth': 5, 'l2_leaf_reg': 7.883997428285061, 'one_hot_max_size': 10, 'auto_class_weights': 'Balanced'}. Best is trial 34 with value: 0.8686940979392226.\u001b[0m\n"
     ]
    },
    {
     "name": "stdout",
     "output_type": "stream",
     "text": [
      "\n",
      "bestTest = 0.4705370998\n",
      "bestIteration = 99\n",
      "\n",
      "Training on fold [0/5]\n",
      "\n",
      "bestTest = 0.4311917367\n",
      "bestIteration = 419\n",
      "\n",
      "Training on fold [1/5]\n",
      "\n",
      "bestTest = 0.4304723183\n",
      "bestIteration = 369\n",
      "\n",
      "Training on fold [2/5]\n",
      "\n",
      "bestTest = 0.4164119871\n",
      "bestIteration = 477\n",
      "\n",
      "Training on fold [3/5]\n",
      "\n",
      "bestTest = 0.4081524517\n",
      "bestIteration = 507\n",
      "\n",
      "Training on fold [4/5]\n"
     ]
    },
    {
     "name": "stderr",
     "output_type": "stream",
     "text": [
      "\u001b[32m[I 2022-01-27 19:27:20,676]\u001b[0m Trial 39 finished with value: 0.8677677944167168 and parameters: {'iterations': 1200, 'learning_rate': 0.0458275143662965, 'random_strength': 9, 'bagging_temperature': 8, 'max_bin': 20, 'grow_policy': 'SymmetricTree', 'min_data_in_leaf': 6, 'max_depth': 4, 'l2_leaf_reg': 1.3837678208991369, 'one_hot_max_size': 10, 'auto_class_weights': 'SqrtBalanced'}. Best is trial 34 with value: 0.8686940979392226.\u001b[0m\n"
     ]
    },
    {
     "name": "stdout",
     "output_type": "stream",
     "text": [
      "\n",
      "bestTest = 0.4230642108\n",
      "bestIteration = 406\n",
      "\n",
      "Training on fold [0/5]\n",
      "\n",
      "bestTest = 0.4304483567\n",
      "bestIteration = 177\n",
      "\n",
      "Training on fold [1/5]\n",
      "\n",
      "bestTest = 0.4288934356\n",
      "bestIteration = 133\n",
      "\n",
      "Training on fold [2/5]\n",
      "\n",
      "bestTest = 0.4139381895\n",
      "bestIteration = 194\n",
      "\n",
      "Training on fold [3/5]\n",
      "\n",
      "bestTest = 0.4097142403\n",
      "bestIteration = 145\n",
      "\n",
      "Training on fold [4/5]\n"
     ]
    },
    {
     "name": "stderr",
     "output_type": "stream",
     "text": [
      "\u001b[32m[I 2022-01-27 19:28:00,041]\u001b[0m Trial 40 finished with value: 0.8682578782714453 and parameters: {'iterations': 500, 'learning_rate': 0.10927737781184435, 'random_strength': 8, 'bagging_temperature': 4, 'max_bin': 4, 'grow_policy': 'SymmetricTree', 'min_data_in_leaf': 7, 'max_depth': 5, 'l2_leaf_reg': 25.720868090282213, 'one_hot_max_size': 10, 'auto_class_weights': 'SqrtBalanced'}. Best is trial 34 with value: 0.8686940979392226.\u001b[0m\n"
     ]
    },
    {
     "name": "stdout",
     "output_type": "stream",
     "text": [
      "\n",
      "bestTest = 0.4213435379\n",
      "bestIteration = 182\n",
      "\n",
      "Training on fold [0/5]\n",
      "\n",
      "bestTest = 0.4289211965\n",
      "bestIteration = 192\n",
      "\n",
      "Training on fold [1/5]\n",
      "\n",
      "bestTest = 0.4292123428\n",
      "bestIteration = 162\n",
      "\n",
      "Training on fold [2/5]\n",
      "\n",
      "bestTest = 0.4146791823\n",
      "bestIteration = 202\n",
      "\n",
      "Training on fold [3/5]\n",
      "\n",
      "bestTest = 0.4069203603\n",
      "bestIteration = 170\n",
      "\n",
      "Training on fold [4/5]\n"
     ]
    },
    {
     "name": "stderr",
     "output_type": "stream",
     "text": [
      "\u001b[32m[I 2022-01-27 19:28:40,301]\u001b[0m Trial 41 finished with value: 0.8690126825753317 and parameters: {'iterations': 500, 'learning_rate': 0.1113002724930198, 'random_strength': 8, 'bagging_temperature': 4, 'max_bin': 4, 'grow_policy': 'SymmetricTree', 'min_data_in_leaf': 7, 'max_depth': 5, 'l2_leaf_reg': 22.471853775093976, 'one_hot_max_size': 10, 'auto_class_weights': 'SqrtBalanced'}. Best is trial 41 with value: 0.8690126825753317.\u001b[0m\n"
     ]
    },
    {
     "name": "stdout",
     "output_type": "stream",
     "text": [
      "\n",
      "bestTest = 0.4197784797\n",
      "bestIteration = 199\n",
      "\n",
      "Training on fold [0/5]\n",
      "\n",
      "bestTest = 0.4332268455\n",
      "bestIteration = 136\n",
      "\n",
      "Training on fold [1/5]\n",
      "\n",
      "bestTest = 0.4313130237\n",
      "bestIteration = 156\n",
      "\n",
      "Training on fold [2/5]\n",
      "\n",
      "bestTest = 0.4154798098\n",
      "bestIteration = 126\n",
      "\n",
      "Training on fold [3/5]\n",
      "\n",
      "bestTest = 0.4063992504\n",
      "bestIteration = 171\n",
      "\n",
      "Training on fold [4/5]\n"
     ]
    },
    {
     "name": "stderr",
     "output_type": "stream",
     "text": [
      "\u001b[32m[I 2022-01-27 19:29:17,449]\u001b[0m Trial 42 finished with value: 0.8677758114955318 and parameters: {'iterations': 500, 'learning_rate': 0.12605358438028944, 'random_strength': 8, 'bagging_temperature': 4, 'max_bin': 4, 'grow_policy': 'SymmetricTree', 'min_data_in_leaf': 6, 'max_depth': 6, 'l2_leaf_reg': 27.581209086933477, 'one_hot_max_size': 10, 'auto_class_weights': 'SqrtBalanced'}. Best is trial 41 with value: 0.8690126825753317.\u001b[0m\n"
     ]
    },
    {
     "name": "stdout",
     "output_type": "stream",
     "text": [
      "\n",
      "bestTest = 0.4209323146\n",
      "bestIteration = 140\n",
      "\n",
      "Training on fold [0/5]\n",
      "\n",
      "bestTest = 0.4315934383\n",
      "bestIteration = 220\n",
      "\n",
      "Training on fold [1/5]\n",
      "\n",
      "bestTest = 0.4288558791\n",
      "bestIteration = 172\n",
      "\n",
      "Training on fold [2/5]\n",
      "\n",
      "bestTest = 0.4164214051\n",
      "bestIteration = 194\n",
      "\n",
      "Training on fold [3/5]\n",
      "\n",
      "bestTest = 0.4078164613\n",
      "bestIteration = 251\n",
      "\n",
      "Training on fold [4/5]\n"
     ]
    },
    {
     "name": "stderr",
     "output_type": "stream",
     "text": [
      "\u001b[32m[I 2022-01-27 19:29:48,080]\u001b[0m Trial 43 finished with value: 0.8677274338054595 and parameters: {'iterations': 500, 'learning_rate': 0.10984641252238424, 'random_strength': 8, 'bagging_temperature': 3, 'max_bin': 4, 'grow_policy': 'SymmetricTree', 'min_data_in_leaf': 8, 'max_depth': 4, 'l2_leaf_reg': 3.1942530143377925, 'one_hot_max_size': 10, 'auto_class_weights': 'SqrtBalanced'}. Best is trial 41 with value: 0.8690126825753317.\u001b[0m\n"
     ]
    },
    {
     "name": "stdout",
     "output_type": "stream",
     "text": [
      "\n",
      "bestTest = 0.423831737\n",
      "bestIteration = 191\n",
      "\n",
      "Training on fold [0/5]\n",
      "\n",
      "bestTest = 0.4345086764\n",
      "bestIteration = 121\n",
      "\n",
      "Training on fold [1/5]\n",
      "\n",
      "bestTest = 0.430150955\n",
      "bestIteration = 124\n",
      "\n",
      "Training on fold [2/5]\n",
      "\n",
      "bestTest = 0.4194832367\n",
      "bestIteration = 130\n",
      "\n",
      "Training on fold [3/5]\n",
      "\n",
      "bestTest = 0.4114094301\n",
      "bestIteration = 146\n",
      "\n",
      "Training on fold [4/5]\n"
     ]
    },
    {
     "name": "stderr",
     "output_type": "stream",
     "text": [
      "\u001b[32m[I 2022-01-27 19:30:18,399]\u001b[0m Trial 44 finished with value: 0.8664187555914807 and parameters: {'iterations': 500, 'learning_rate': 0.10640209507327089, 'random_strength': 6, 'bagging_temperature': 4, 'max_bin': 4, 'grow_policy': 'SymmetricTree', 'min_data_in_leaf': 7, 'max_depth': 5, 'l2_leaf_reg': 0.11281293871409254, 'one_hot_max_size': 10, 'auto_class_weights': 'SqrtBalanced'}. Best is trial 41 with value: 0.8690126825753317.\u001b[0m\n"
     ]
    },
    {
     "name": "stdout",
     "output_type": "stream",
     "text": [
      "\n",
      "bestTest = 0.4236964107\n",
      "bestIteration = 148\n",
      "\n",
      "Training on fold [0/5]\n",
      "\n",
      "bestTest = 0.443843082\n",
      "bestIteration = 191\n",
      "\n",
      "Training on fold [1/5]\n",
      "\n",
      "bestTest = 0.4380675736\n",
      "bestIteration = 187\n",
      "\n",
      "Training on fold [2/5]\n",
      "\n",
      "bestTest = 0.4220389748\n",
      "bestIteration = 238\n",
      "\n",
      "Training on fold [3/5]\n",
      "\n",
      "bestTest = 0.4323395273\n",
      "bestIteration = 115\n",
      "\n",
      "Training on fold [4/5]\n"
     ]
    },
    {
     "name": "stderr",
     "output_type": "stream",
     "text": [
      "\u001b[32m[I 2022-01-27 19:32:52,478]\u001b[0m Trial 45 finished with value: 0.8582516301043427 and parameters: {'iterations': 500, 'learning_rate': 0.06523954107784927, 'random_strength': 10, 'bagging_temperature': 5, 'max_bin': 4, 'grow_policy': 'Lossguide', 'min_data_in_leaf': 4, 'max_depth': 6, 'l2_leaf_reg': 2.198287698694986e-08, 'one_hot_max_size': 10, 'auto_class_weights': 'SqrtBalanced'}. Best is trial 41 with value: 0.8690126825753317.\u001b[0m\n"
     ]
    },
    {
     "name": "stdout",
     "output_type": "stream",
     "text": [
      "\n",
      "bestTest = 0.4408840264\n",
      "bestIteration = 145\n",
      "\n",
      "Training on fold [0/5]\n",
      "\n",
      "bestTest = 0.4420785517\n",
      "bestIteration = 63\n",
      "\n",
      "Training on fold [1/5]\n",
      "\n",
      "bestTest = 0.437658429\n",
      "bestIteration = 91\n",
      "\n",
      "Training on fold [2/5]\n",
      "\n",
      "bestTest = 0.4250226152\n",
      "bestIteration = 91\n",
      "\n",
      "Training on fold [3/5]\n",
      "\n",
      "bestTest = 0.4128634829\n",
      "bestIteration = 86\n",
      "\n",
      "Training on fold [4/5]\n"
     ]
    },
    {
     "name": "stderr",
     "output_type": "stream",
     "text": [
      "\u001b[32m[I 2022-01-27 19:32:57,773]\u001b[0m Trial 46 finished with value: 0.8627450603109665 and parameters: {'iterations': 500, 'learning_rate': 0.13700604331990246, 'random_strength': 8, 'bagging_temperature': 3, 'max_bin': 4, 'grow_policy': 'Depthwise', 'min_data_in_leaf': 6, 'max_depth': 7, 'l2_leaf_reg': 0.8258291699430406, 'one_hot_max_size': 1024, 'auto_class_weights': 'SqrtBalanced'}. Best is trial 41 with value: 0.8690126825753317.\u001b[0m\n"
     ]
    },
    {
     "name": "stdout",
     "output_type": "stream",
     "text": [
      "\n",
      "bestTest = 0.4239449973\n",
      "bestIteration = 91\n",
      "\n",
      "Training on fold [0/5]\n",
      "\n",
      "bestTest = 0.4678756484\n",
      "bestIteration = 125\n",
      "\n",
      "Training on fold [1/5]\n",
      "\n",
      "bestTest = 0.4650899005\n",
      "bestIteration = 132\n",
      "\n",
      "Training on fold [2/5]\n",
      "\n",
      "bestTest = 0.449907551\n",
      "bestIteration = 149\n",
      "\n",
      "Training on fold [3/5]\n",
      "\n",
      "bestTest = 0.441018838\n",
      "bestIteration = 137\n",
      "\n",
      "Training on fold [4/5]\n"
     ]
    },
    {
     "name": "stderr",
     "output_type": "stream",
     "text": [
      "\u001b[32m[I 2022-01-27 19:33:18,992]\u001b[0m Trial 47 finished with value: 0.8665172275386788 and parameters: {'iterations': 500, 'learning_rate': 0.09825996652769572, 'random_strength': 1, 'bagging_temperature': 5, 'max_bin': 30, 'grow_policy': 'SymmetricTree', 'min_data_in_leaf': 5, 'max_depth': 4, 'l2_leaf_reg': 0.01728548833060488, 'one_hot_max_size': 10, 'auto_class_weights': 'Balanced'}. Best is trial 41 with value: 0.8690126825753317.\u001b[0m\n"
     ]
    },
    {
     "name": "stdout",
     "output_type": "stream",
     "text": [
      "\n",
      "bestTest = 0.4570655254\n",
      "bestIteration = 146\n",
      "\n",
      "Training on fold [0/5]\n",
      "\n",
      "bestTest = 0.435889623\n",
      "bestIteration = 199\n",
      "\n",
      "Training on fold [1/5]\n",
      "\n",
      "bestTest = 0.4330843016\n",
      "bestIteration = 199\n",
      "\n",
      "Training on fold [2/5]\n",
      "\n",
      "bestTest = 0.4221073899\n",
      "bestIteration = 199\n",
      "\n",
      "Training on fold [3/5]\n",
      "\n",
      "bestTest = 0.4166685918\n",
      "bestIteration = 199\n",
      "\n",
      "Training on fold [4/5]\n"
     ]
    },
    {
     "name": "stderr",
     "output_type": "stream",
     "text": [
      "\u001b[32m[I 2022-01-27 19:33:41,878]\u001b[0m Trial 48 finished with value: 0.8650493534226182 and parameters: {'iterations': 200, 'learning_rate': 0.07966494599434301, 'random_strength': 8, 'bagging_temperature': 4, 'max_bin': 10, 'grow_policy': 'SymmetricTree', 'min_data_in_leaf': 8, 'max_depth': 3, 'l2_leaf_reg': 28.893074843317223, 'one_hot_max_size': 12, 'auto_class_weights': 'SqrtBalanced'}. Best is trial 41 with value: 0.8690126825753317.\u001b[0m\n"
     ]
    },
    {
     "name": "stdout",
     "output_type": "stream",
     "text": [
      "\n",
      "bestTest = 0.4284439254\n",
      "bestIteration = 199\n",
      "\n",
      "Training on fold [0/5]\n",
      "\n",
      "bestTest = 0.4319994122\n",
      "bestIteration = 100\n",
      "\n",
      "Training on fold [1/5]\n",
      "\n",
      "bestTest = 0.4284066371\n",
      "bestIteration = 93\n",
      "\n",
      "Training on fold [2/5]\n",
      "\n",
      "bestTest = 0.4192544855\n",
      "bestIteration = 84\n",
      "\n",
      "Training on fold [3/5]\n",
      "\n",
      "bestTest = 0.4111637286\n",
      "bestIteration = 103\n",
      "\n",
      "Training on fold [4/5]\n"
     ]
    },
    {
     "name": "stderr",
     "output_type": "stream",
     "text": [
      "\u001b[32m[I 2022-01-27 19:33:59,824]\u001b[0m Trial 49 finished with value: 0.86735620160833 and parameters: {'iterations': 1500, 'learning_rate': 0.1385252359937676, 'random_strength': 2, 'bagging_temperature': 3, 'max_bin': 20, 'grow_policy': 'Depthwise', 'min_data_in_leaf': 7, 'max_depth': 5, 'l2_leaf_reg': 5.286196375330937, 'one_hot_max_size': 10, 'auto_class_weights': 'SqrtBalanced'}. Best is trial 41 with value: 0.8690126825753317.\u001b[0m\n"
     ]
    },
    {
     "name": "stdout",
     "output_type": "stream",
     "text": [
      "\n",
      "bestTest = 0.4212857455\n",
      "bestIteration = 94\n",
      "\n",
      "Training on fold [0/5]\n",
      "\n",
      "bestTest = 0.4375276156\n",
      "bestIteration = 99\n",
      "\n",
      "Training on fold [1/5]\n",
      "\n",
      "bestTest = 0.432748984\n",
      "bestIteration = 97\n",
      "\n",
      "Training on fold [2/5]\n",
      "\n",
      "bestTest = 0.4200081769\n",
      "bestIteration = 99\n",
      "\n",
      "Training on fold [3/5]\n",
      "\n",
      "bestTest = 0.4143795042\n",
      "bestIteration = 99\n",
      "\n",
      "Training on fold [4/5]\n"
     ]
    },
    {
     "name": "stderr",
     "output_type": "stream",
     "text": [
      "\u001b[32m[I 2022-01-27 19:34:24,759]\u001b[0m Trial 50 finished with value: 0.865558030571712 and parameters: {'iterations': 100, 'learning_rate': 0.12123463671078391, 'random_strength': 10, 'bagging_temperature': 6, 'max_bin': 6, 'grow_policy': 'SymmetricTree', 'min_data_in_leaf': 6, 'max_depth': 6, 'l2_leaf_reg': 40.27570536525174, 'one_hot_max_size': 10, 'auto_class_weights': 'SqrtBalanced'}. Best is trial 41 with value: 0.8690126825753317.\u001b[0m\n"
     ]
    },
    {
     "name": "stdout",
     "output_type": "stream",
     "text": [
      "\n",
      "bestTest = 0.4276346436\n",
      "bestIteration = 99\n",
      "\n",
      "Training on fold [0/5]\n",
      "\n",
      "bestTest = 0.435476414\n",
      "bestIteration = 82\n",
      "\n",
      "Training on fold [1/5]\n",
      "\n",
      "bestTest = 0.4298492996\n",
      "bestIteration = 97\n",
      "\n",
      "Training on fold [2/5]\n",
      "\n",
      "bestTest = 0.4159299729\n",
      "bestIteration = 123\n",
      "\n",
      "Training on fold [3/5]\n",
      "\n",
      "bestTest = 0.4069799042\n",
      "bestIteration = 157\n",
      "\n",
      "Training on fold [4/5]\n"
     ]
    },
    {
     "name": "stderr",
     "output_type": "stream",
     "text": [
      "\u001b[32m[I 2022-01-27 19:34:50,591]\u001b[0m Trial 51 finished with value: 0.8668229645759375 and parameters: {'iterations': 1200, 'learning_rate': 0.16687763350195214, 'random_strength': 9, 'bagging_temperature': 7, 'max_bin': 4, 'grow_policy': 'SymmetricTree', 'min_data_in_leaf': 7, 'max_depth': 5, 'l2_leaf_reg': 10.619646383591242, 'one_hot_max_size': 10, 'auto_class_weights': 'SqrtBalanced'}. Best is trial 41 with value: 0.8690126825753317.\u001b[0m\n"
     ]
    },
    {
     "name": "stdout",
     "output_type": "stream",
     "text": [
      "\n",
      "bestTest = 0.4239646731\n",
      "bestIteration = 96\n",
      "\n",
      "Training on fold [0/5]\n",
      "\n",
      "bestTest = 0.4377535416\n",
      "bestIteration = 103\n",
      "\n",
      "Training on fold [1/5]\n",
      "\n",
      "bestTest = 0.4271313776\n",
      "bestIteration = 121\n",
      "\n",
      "Training on fold [2/5]\n",
      "\n",
      "bestTest = 0.4198865621\n",
      "bestIteration = 109\n",
      "\n",
      "Training on fold [3/5]\n",
      "\n",
      "bestTest = 0.4114989253\n",
      "bestIteration = 131\n",
      "\n",
      "Training on fold [4/5]\n"
     ]
    },
    {
     "name": "stderr",
     "output_type": "stream",
     "text": [
      "\u001b[32m[I 2022-01-27 19:34:54,481]\u001b[0m Trial 52 finished with value: 0.8660016279984262 and parameters: {'iterations': 500, 'learning_rate': 0.1455993622812518, 'random_strength': 9, 'bagging_temperature': 8, 'max_bin': 4, 'grow_policy': 'SymmetricTree', 'min_data_in_leaf': 8, 'max_depth': 5, 'l2_leaf_reg': 2.2166439519301524, 'one_hot_max_size': 1024, 'auto_class_weights': 'SqrtBalanced'}. Best is trial 41 with value: 0.8690126825753317.\u001b[0m\n"
     ]
    },
    {
     "name": "stdout",
     "output_type": "stream",
     "text": [
      "\n",
      "bestTest = 0.4228877624\n",
      "bestIteration = 126\n",
      "\n",
      "Training on fold [0/5]\n",
      "\n",
      "bestTest = 0.4316746933\n",
      "bestIteration = 142\n",
      "\n",
      "Training on fold [1/5]\n",
      "\n",
      "bestTest = 0.4282254371\n",
      "bestIteration = 133\n",
      "\n",
      "Training on fold [2/5]\n",
      "\n",
      "bestTest = 0.415698902\n",
      "bestIteration = 143\n",
      "\n",
      "Training on fold [3/5]\n",
      "\n",
      "bestTest = 0.4069831728\n",
      "bestIteration = 194\n",
      "\n",
      "Training on fold [4/5]\n"
     ]
    },
    {
     "name": "stderr",
     "output_type": "stream",
     "text": [
      "\u001b[32m[I 2022-01-27 19:35:39,280]\u001b[0m Trial 53 finished with value: 0.8681743189515501 and parameters: {'iterations': 200, 'learning_rate': 0.1145360149746225, 'random_strength': 8, 'bagging_temperature': 5, 'max_bin': 4, 'grow_policy': 'SymmetricTree', 'min_data_in_leaf': 7, 'max_depth': 6, 'l2_leaf_reg': 12.73983831991451, 'one_hot_max_size': 5, 'auto_class_weights': 'SqrtBalanced'}. Best is trial 41 with value: 0.8690126825753317.\u001b[0m\n"
     ]
    },
    {
     "name": "stdout",
     "output_type": "stream",
     "text": [
      "\n",
      "bestTest = 0.4212429252\n",
      "bestIteration = 170\n",
      "\n",
      "Training on fold [0/5]\n",
      "\n",
      "bestTest = 0.4331116906\n",
      "bestIteration = 140\n",
      "\n",
      "Training on fold [1/5]\n",
      "\n",
      "bestTest = 0.430636998\n",
      "bestIteration = 159\n",
      "\n",
      "Training on fold [2/5]\n",
      "\n",
      "bestTest = 0.4133413558\n",
      "bestIteration = 165\n",
      "\n",
      "Training on fold [3/5]\n",
      "\n",
      "bestTest = 0.407862787\n",
      "bestIteration = 144\n",
      "\n",
      "Training on fold [4/5]\n"
     ]
    },
    {
     "name": "stderr",
     "output_type": "stream",
     "text": [
      "\u001b[32m[I 2022-01-27 19:36:22,234]\u001b[0m Trial 54 finished with value: 0.8681639533566564 and parameters: {'iterations': 200, 'learning_rate': 0.11065173855802717, 'random_strength': 8, 'bagging_temperature': 4, 'max_bin': 4, 'grow_policy': 'SymmetricTree', 'min_data_in_leaf': 6, 'max_depth': 6, 'l2_leaf_reg': 8.051138032803168, 'one_hot_max_size': 5, 'auto_class_weights': 'SqrtBalanced'}. Best is trial 41 with value: 0.8690126825753317.\u001b[0m\n"
     ]
    },
    {
     "name": "stdout",
     "output_type": "stream",
     "text": [
      "\n",
      "bestTest = 0.4200679066\n",
      "bestIteration = 141\n",
      "\n",
      "Training on fold [0/5]\n",
      "\n",
      "bestTest = 0.4335152861\n",
      "bestIteration = 128\n",
      "\n",
      "Training on fold [1/5]\n",
      "\n",
      "bestTest = 0.430899726\n",
      "bestIteration = 130\n",
      "\n",
      "Training on fold [2/5]\n",
      "\n",
      "bestTest = 0.4126662206\n",
      "bestIteration = 175\n",
      "\n",
      "Training on fold [3/5]\n",
      "\n",
      "bestTest = 0.4099487777\n",
      "bestIteration = 153\n",
      "\n",
      "Training on fold [4/5]\n"
     ]
    },
    {
     "name": "stderr",
     "output_type": "stream",
     "text": [
      "\u001b[32m[I 2022-01-27 19:37:03,622]\u001b[0m Trial 55 finished with value: 0.8676017785609128 and parameters: {'iterations': 200, 'learning_rate': 0.13070131692724174, 'random_strength': 7, 'bagging_temperature': 5, 'max_bin': 4, 'grow_policy': 'SymmetricTree', 'min_data_in_leaf': 9, 'max_depth': 6, 'l2_leaf_reg': 39.80170192738923, 'one_hot_max_size': 5, 'auto_class_weights': 'SqrtBalanced'}. Best is trial 41 with value: 0.8690126825753317.\u001b[0m\n"
     ]
    },
    {
     "name": "stdout",
     "output_type": "stream",
     "text": [
      "\n",
      "bestTest = 0.421784077\n",
      "bestIteration = 134\n",
      "\n",
      "Training on fold [0/5]\n",
      "\n",
      "bestTest = 0.4753488934\n",
      "bestIteration = 199\n",
      "\n",
      "Training on fold [1/5]\n",
      "\n",
      "bestTest = 0.4730600787\n",
      "bestIteration = 199\n",
      "\n",
      "Training on fold [2/5]\n",
      "\n",
      "bestTest = 0.4585018514\n",
      "bestIteration = 199\n",
      "\n",
      "Training on fold [3/5]\n",
      "\n",
      "bestTest = 0.4532775852\n",
      "bestIteration = 199\n",
      "\n",
      "Training on fold [4/5]\n"
     ]
    },
    {
     "name": "stderr",
     "output_type": "stream",
     "text": [
      "\u001b[32m[I 2022-01-27 19:38:11,166]\u001b[0m Trial 56 finished with value: 0.8625601452994424 and parameters: {'iterations': 200, 'learning_rate': 0.05229959146984369, 'random_strength': 6, 'bagging_temperature': 2, 'max_bin': 4, 'grow_policy': 'Lossguide', 'min_data_in_leaf': 8, 'max_depth': 4, 'l2_leaf_reg': 0.3111997436403436, 'one_hot_max_size': 5, 'auto_class_weights': 'Balanced'}. Best is trial 41 with value: 0.8690126825753317.\u001b[0m\n"
     ]
    },
    {
     "name": "stdout",
     "output_type": "stream",
     "text": [
      "\n",
      "bestTest = 0.4676293022\n",
      "bestIteration = 199\n",
      "\n",
      "Training on fold [0/5]\n",
      "\n",
      "bestTest = 0.4347638242\n",
      "bestIteration = 120\n",
      "\n",
      "Training on fold [1/5]\n",
      "\n",
      "bestTest = 0.4316736039\n",
      "bestIteration = 143\n",
      "\n",
      "Training on fold [2/5]\n",
      "\n",
      "bestTest = 0.4163088656\n",
      "bestIteration = 163\n",
      "\n",
      "Training on fold [3/5]\n",
      "\n",
      "bestTest = 0.4091736377\n",
      "bestIteration = 184\n",
      "\n",
      "Training on fold [4/5]\n"
     ]
    },
    {
     "name": "stderr",
     "output_type": "stream",
     "text": [
      "\u001b[32m[I 2022-01-27 19:39:01,679]\u001b[0m Trial 57 finished with value: 0.8666967650200593 and parameters: {'iterations': 300, 'learning_rate': 0.09521234818016476, 'random_strength': 7, 'bagging_temperature': 6, 'max_bin': 10, 'grow_policy': 'SymmetricTree', 'min_data_in_leaf': 5, 'max_depth': 7, 'l2_leaf_reg': 3.016409819607613, 'one_hot_max_size': 12, 'auto_class_weights': 'SqrtBalanced'}. Best is trial 41 with value: 0.8690126825753317.\u001b[0m\n"
     ]
    },
    {
     "name": "stdout",
     "output_type": "stream",
     "text": [
      "\n",
      "bestTest = 0.4228582716\n",
      "bestIteration = 152\n",
      "\n",
      "Training on fold [0/5]\n",
      "\n",
      "bestTest = 0.4365466597\n",
      "bestIteration = 93\n",
      "\n",
      "Training on fold [1/5]\n",
      "\n",
      "bestTest = 0.4341009546\n",
      "bestIteration = 95\n",
      "\n",
      "Training on fold [2/5]\n",
      "\n",
      "bestTest = 0.418092873\n",
      "bestIteration = 132\n",
      "\n",
      "Training on fold [3/5]\n",
      "\n",
      "bestTest = 0.4132567645\n",
      "bestIteration = 106\n",
      "\n",
      "Training on fold [4/5]\n"
     ]
    },
    {
     "name": "stderr",
     "output_type": "stream",
     "text": [
      "\u001b[32m[I 2022-01-27 19:39:18,537]\u001b[0m Trial 58 finished with value: 0.8646799796959599 and parameters: {'iterations': 1500, 'learning_rate': 0.1496329311314266, 'random_strength': 8, 'bagging_temperature': 5, 'max_bin': 8, 'grow_policy': 'Depthwise', 'min_data_in_leaf': 7, 'max_depth': 4, 'l2_leaf_reg': 0.0002415199858903817, 'one_hot_max_size': 10, 'auto_class_weights': 'SqrtBalanced'}. Best is trial 41 with value: 0.8690126825753317.\u001b[0m\n"
     ]
    },
    {
     "name": "stdout",
     "output_type": "stream",
     "text": [
      "\n",
      "bestTest = 0.4248603788\n",
      "bestIteration = 118\n",
      "\n",
      "Training on fold [0/5]\n",
      "\n",
      "bestTest = 0.4399770137\n",
      "bestIteration = 73\n",
      "\n",
      "Training on fold [1/5]\n",
      "\n",
      "bestTest = 0.4337533548\n",
      "bestIteration = 71\n",
      "\n",
      "Training on fold [2/5]\n",
      "\n",
      "bestTest = 0.420008432\n",
      "bestIteration = 100\n",
      "\n",
      "Training on fold [3/5]\n",
      "\n",
      "bestTest = 0.4113594929\n",
      "bestIteration = 120\n",
      "\n",
      "Training on fold [4/5]\n"
     ]
    },
    {
     "name": "stderr",
     "output_type": "stream",
     "text": [
      "\u001b[32m[I 2022-01-27 19:39:59,677]\u001b[0m Trial 59 finished with value: 0.8643493875640583 and parameters: {'iterations': 200, 'learning_rate': 0.11269008924348185, 'random_strength': 4, 'bagging_temperature': 4, 'max_bin': 6, 'grow_policy': 'SymmetricTree', 'min_data_in_leaf': 8, 'max_depth': 7, 'l2_leaf_reg': 0.6274663891561992, 'one_hot_max_size': 5, 'auto_class_weights': 'SqrtBalanced'}. Best is trial 41 with value: 0.8690126825753317.\u001b[0m\n"
     ]
    },
    {
     "name": "stdout",
     "output_type": "stream",
     "text": [
      "\n",
      "bestTest = 0.4292709835\n",
      "bestIteration = 120\n",
      "\n",
      "Training on fold [0/5]\n",
      "\n",
      "bestTest = 0.432222089\n",
      "bestIteration = 207\n",
      "\n",
      "Training on fold [1/5]\n",
      "\n",
      "bestTest = 0.429271551\n",
      "bestIteration = 217\n",
      "\n",
      "Training on fold [2/5]\n",
      "\n",
      "bestTest = 0.4131413128\n",
      "bestIteration = 252\n",
      "\n",
      "Training on fold [3/5]\n",
      "\n",
      "bestTest = 0.4073313649\n",
      "bestIteration = 213\n",
      "\n",
      "Training on fold [4/5]\n"
     ]
    },
    {
     "name": "stderr",
     "output_type": "stream",
     "text": [
      "\u001b[32m[I 2022-01-27 19:40:59,886]\u001b[0m Trial 60 finished with value: 0.8689894291030715 and parameters: {'iterations': 500, 'learning_rate': 0.07369585090354541, 'random_strength': 7, 'bagging_temperature': 3, 'max_bin': 4, 'grow_policy': 'SymmetricTree', 'min_data_in_leaf': 6, 'max_depth': 6, 'l2_leaf_reg': 39.7697956048242, 'one_hot_max_size': 10, 'auto_class_weights': 'SqrtBalanced'}. Best is trial 41 with value: 0.8690126825753317.\u001b[0m\n"
     ]
    },
    {
     "name": "stdout",
     "output_type": "stream",
     "text": [
      "\n",
      "bestTest = 0.4185109047\n",
      "bestIteration = 262\n",
      "\n",
      "Training on fold [0/5]\n",
      "\n",
      "bestTest = 0.4327360246\n",
      "bestIteration = 223\n",
      "\n",
      "Training on fold [1/5]\n",
      "\n",
      "bestTest = 0.4303952431\n",
      "bestIteration = 224\n",
      "\n",
      "Training on fold [2/5]\n",
      "\n",
      "bestTest = 0.4154910324\n",
      "bestIteration = 221\n",
      "\n",
      "Training on fold [3/5]\n",
      "\n",
      "bestTest = 0.4044098483\n",
      "bestIteration = 361\n",
      "\n",
      "Training on fold [4/5]\n"
     ]
    },
    {
     "name": "stderr",
     "output_type": "stream",
     "text": [
      "\u001b[32m[I 2022-01-27 19:42:05,630]\u001b[0m Trial 61 finished with value: 0.8687073194492267 and parameters: {'iterations': 500, 'learning_rate': 0.07132522939296354, 'random_strength': 8, 'bagging_temperature': 3, 'max_bin': 4, 'grow_policy': 'SymmetricTree', 'min_data_in_leaf': 6, 'max_depth': 6, 'l2_leaf_reg': 53.963976609264634, 'one_hot_max_size': 10, 'auto_class_weights': 'SqrtBalanced'}. Best is trial 41 with value: 0.8690126825753317.\u001b[0m\n"
     ]
    },
    {
     "name": "stdout",
     "output_type": "stream",
     "text": [
      "\n",
      "bestTest = 0.4194747563\n",
      "bestIteration = 264\n",
      "\n",
      "Training on fold [0/5]\n",
      "\n",
      "bestTest = 0.4321896679\n",
      "bestIteration = 499\n",
      "\n",
      "Training on fold [1/5]\n",
      "\n",
      "bestTest = 0.4307033192\n",
      "bestIteration = 444\n",
      "\n",
      "Training on fold [2/5]\n",
      "\n",
      "bestTest = 0.4163952205\n",
      "bestIteration = 432\n",
      "\n",
      "Training on fold [3/5]\n",
      "\n",
      "bestTest = 0.4086728907\n",
      "bestIteration = 499\n",
      "\n",
      "Training on fold [4/5]\n"
     ]
    },
    {
     "name": "stderr",
     "output_type": "stream",
     "text": [
      "\u001b[32m[I 2022-01-27 19:43:49,299]\u001b[0m Trial 62 finished with value: 0.8680104678048208 and parameters: {'iterations': 500, 'learning_rate': 0.0339189532906619, 'random_strength': 7, 'bagging_temperature': 3, 'max_bin': 4, 'grow_policy': 'SymmetricTree', 'min_data_in_leaf': 6, 'max_depth': 5, 'l2_leaf_reg': 42.139816849537596, 'one_hot_max_size': 10, 'auto_class_weights': 'SqrtBalanced'}. Best is trial 41 with value: 0.8690126825753317.\u001b[0m\n"
     ]
    },
    {
     "name": "stdout",
     "output_type": "stream",
     "text": [
      "\n",
      "bestTest = 0.4222423785\n",
      "bestIteration = 499\n",
      "\n",
      "Training on fold [0/5]\n",
      "\n",
      "bestTest = 0.4332575548\n",
      "bestIteration = 242\n",
      "\n",
      "Training on fold [1/5]\n",
      "\n",
      "bestTest = 0.4299575439\n",
      "bestIteration = 200\n",
      "\n",
      "Training on fold [2/5]\n",
      "\n",
      "bestTest = 0.4133979857\n",
      "bestIteration = 325\n",
      "\n",
      "Training on fold [3/5]\n",
      "\n",
      "bestTest = 0.4065521777\n",
      "bestIteration = 279\n",
      "\n",
      "Training on fold [4/5]\n"
     ]
    },
    {
     "name": "stderr",
     "output_type": "stream",
     "text": [
      "\u001b[32m[I 2022-01-27 19:44:56,706]\u001b[0m Trial 63 finished with value: 0.8683258647504047 and parameters: {'iterations': 500, 'learning_rate': 0.06952450902309054, 'random_strength': 7, 'bagging_temperature': 2, 'max_bin': 4, 'grow_policy': 'SymmetricTree', 'min_data_in_leaf': 5, 'max_depth': 6, 'l2_leaf_reg': 49.08368131243743, 'one_hot_max_size': 10, 'auto_class_weights': 'SqrtBalanced'}. Best is trial 41 with value: 0.8690126825753317.\u001b[0m\n"
     ]
    },
    {
     "name": "stdout",
     "output_type": "stream",
     "text": [
      "\n",
      "bestTest = 0.4212293619\n",
      "bestIteration = 236\n",
      "\n",
      "Training on fold [0/5]\n",
      "\n",
      "bestTest = 0.4314535926\n",
      "bestIteration = 268\n",
      "\n",
      "Training on fold [1/5]\n",
      "\n",
      "bestTest = 0.4287763959\n",
      "bestIteration = 231\n",
      "\n",
      "Training on fold [2/5]\n",
      "\n",
      "bestTest = 0.413564725\n",
      "bestIteration = 289\n",
      "\n",
      "Training on fold [3/5]\n",
      "\n",
      "bestTest = 0.4062927187\n",
      "bestIteration = 302\n",
      "\n",
      "Training on fold [4/5]\n"
     ]
    },
    {
     "name": "stderr",
     "output_type": "stream",
     "text": [
      "\u001b[32m[I 2022-01-27 19:46:49,116]\u001b[0m Trial 64 finished with value: 0.8688061553250066 and parameters: {'iterations': 500, 'learning_rate': 0.06076330863797998, 'random_strength': 7, 'bagging_temperature': 2, 'max_bin': 4, 'grow_policy': 'SymmetricTree', 'min_data_in_leaf': 4, 'max_depth': 7, 'l2_leaf_reg': 50.16340264415542, 'one_hot_max_size': 10, 'auto_class_weights': 'SqrtBalanced'}. Best is trial 41 with value: 0.8690126825753317.\u001b[0m\n"
     ]
    },
    {
     "name": "stdout",
     "output_type": "stream",
     "text": [
      "\n",
      "bestTest = 0.4218310106\n",
      "bestIteration = 257\n",
      "\n",
      "Training on fold [0/5]\n",
      "\n",
      "bestTest = 0.4325842169\n",
      "bestIteration = 229\n",
      "\n",
      "Training on fold [1/5]\n",
      "\n",
      "bestTest = 0.4290401149\n",
      "bestIteration = 211\n",
      "\n",
      "Training on fold [2/5]\n",
      "\n",
      "bestTest = 0.414195521\n",
      "bestIteration = 259\n",
      "\n",
      "Training on fold [3/5]\n",
      "\n",
      "bestTest = 0.4063525083\n",
      "bestIteration = 319\n",
      "\n",
      "Training on fold [4/5]\n"
     ]
    },
    {
     "name": "stderr",
     "output_type": "stream",
     "text": [
      "\u001b[32m[I 2022-01-27 19:48:36,145]\u001b[0m Trial 65 finished with value: 0.8690285125255279 and parameters: {'iterations': 500, 'learning_rate': 0.05619772630939429, 'random_strength': 5, 'bagging_temperature': 1, 'max_bin': 4, 'grow_policy': 'SymmetricTree', 'min_data_in_leaf': 4, 'max_depth': 7, 'l2_leaf_reg': 45.92863035140736, 'one_hot_max_size': 10, 'auto_class_weights': 'SqrtBalanced'}. Best is trial 65 with value: 0.8690285125255279.\u001b[0m\n"
     ]
    },
    {
     "name": "stdout",
     "output_type": "stream",
     "text": [
      "\n",
      "bestTest = 0.419708741\n",
      "bestIteration = 272\n",
      "\n",
      "Training on fold [0/5]\n",
      "\n",
      "bestTest = 0.4678454412\n",
      "bestIteration = 178\n",
      "\n",
      "Training on fold [1/5]\n",
      "\n",
      "bestTest = 0.4632218396\n",
      "bestIteration = 186\n",
      "\n",
      "Training on fold [2/5]\n",
      "\n",
      "bestTest = 0.4472007623\n",
      "bestIteration = 178\n",
      "\n",
      "Training on fold [3/5]\n",
      "\n",
      "bestTest = 0.4370030426\n",
      "bestIteration = 203\n",
      "\n",
      "Training on fold [4/5]\n"
     ]
    },
    {
     "name": "stderr",
     "output_type": "stream",
     "text": [
      "\u001b[32m[I 2022-01-27 19:48:43,994]\u001b[0m Trial 66 finished with value: 0.8683927672787763 and parameters: {'iterations': 500, 'learning_rate': 0.07375913022540961, 'random_strength': 5, 'bagging_temperature': 1, 'max_bin': 4, 'grow_policy': 'SymmetricTree', 'min_data_in_leaf': 3, 'max_depth': 7, 'l2_leaf_reg': 48.04745586578508, 'one_hot_max_size': 500, 'auto_class_weights': 'Balanced'}. Best is trial 65 with value: 0.8690285125255279.\u001b[0m\n"
     ]
    },
    {
     "name": "stdout",
     "output_type": "stream",
     "text": [
      "\n",
      "bestTest = 0.4531959929\n",
      "bestIteration = 213\n",
      "\n",
      "Training on fold [0/5]\n",
      "\n",
      "bestTest = 0.4965424341\n",
      "bestIteration = 69\n",
      "\n",
      "Training on fold [1/5]\n",
      "\n",
      "bestTest = 0.4845015796\n",
      "bestIteration = 68\n",
      "\n",
      "Training on fold [2/5]\n",
      "\n",
      "bestTest = 0.4715293842\n",
      "bestIteration = 98\n",
      "\n",
      "Training on fold [3/5]\n",
      "\n",
      "bestTest = 0.463275389\n",
      "bestIteration = 93\n",
      "\n",
      "Training on fold [4/5]\n"
     ]
    },
    {
     "name": "stderr",
     "output_type": "stream",
     "text": [
      "\u001b[32m[I 2022-01-27 19:48:47,661]\u001b[0m Trial 67 finished with value: 0.8542333307885901 and parameters: {'iterations': 500, 'learning_rate': 0.0598114064597767, 'random_strength': 5, 'bagging_temperature': 1, 'max_bin': 4, 'grow_policy': 'SymmetricTree', 'min_data_in_leaf': 2, 'max_depth': 7, 'l2_leaf_reg': 1.3923090862472433e-06, 'one_hot_max_size': 500, 'auto_class_weights': 'Balanced'}. Best is trial 65 with value: 0.8690285125255279.\u001b[0m\n"
     ]
    },
    {
     "name": "stdout",
     "output_type": "stream",
     "text": [
      "\n",
      "bestTest = 0.4771936916\n",
      "bestIteration = 80\n",
      "\n",
      "Training on fold [0/5]\n",
      "\n",
      "bestTest = 0.4744256594\n",
      "bestIteration = 499\n",
      "\n",
      "Training on fold [1/5]\n",
      "\n",
      "bestTest = 0.4683000453\n",
      "bestIteration = 499\n",
      "\n",
      "Training on fold [2/5]\n",
      "\n",
      "bestTest = 0.455730681\n",
      "bestIteration = 499\n",
      "\n",
      "Training on fold [3/5]\n",
      "\n",
      "bestTest = 0.4466711462\n",
      "bestIteration = 499\n",
      "\n",
      "Training on fold [4/5]\n"
     ]
    },
    {
     "name": "stderr",
     "output_type": "stream",
     "text": [
      "\u001b[32m[I 2022-01-27 19:49:09,434]\u001b[0m Trial 68 finished with value: 0.8652672211646326 and parameters: {'iterations': 500, 'learning_rate': 0.017637678694513548, 'random_strength': 5, 'bagging_temperature': 1, 'max_bin': 4, 'grow_policy': 'SymmetricTree', 'min_data_in_leaf': 3, 'max_depth': 8, 'l2_leaf_reg': 73.59405909522197, 'one_hot_max_size': 500, 'auto_class_weights': 'Balanced'}. Best is trial 65 with value: 0.8690285125255279.\u001b[0m\n"
     ]
    },
    {
     "name": "stdout",
     "output_type": "stream",
     "text": [
      "\n",
      "bestTest = 0.459650474\n",
      "bestIteration = 498\n",
      "\n",
      "Training on fold [0/5]\n",
      "\n",
      "bestTest = 0.4715577262\n",
      "bestIteration = 144\n",
      "\n",
      "Training on fold [1/5]\n",
      "\n",
      "bestTest = 0.4666386392\n",
      "bestIteration = 149\n",
      "\n",
      "Training on fold [2/5]\n",
      "\n",
      "bestTest = 0.4535729722\n",
      "bestIteration = 149\n",
      "\n",
      "Training on fold [3/5]\n",
      "\n",
      "bestTest = 0.4394487997\n",
      "bestIteration = 146\n",
      "\n",
      "Training on fold [4/5]\n"
     ]
    },
    {
     "name": "stderr",
     "output_type": "stream",
     "text": [
      "\u001b[32m[I 2022-01-27 19:49:17,879]\u001b[0m Trial 69 finished with value: 0.8658767583010223 and parameters: {'iterations': 500, 'learning_rate': 0.086620049380496, 'random_strength': 4, 'bagging_temperature': 0, 'max_bin': 4, 'grow_policy': 'Lossguide', 'min_data_in_leaf': 4, 'max_depth': 7, 'l2_leaf_reg': 1.5691952209081, 'one_hot_max_size': 500, 'auto_class_weights': 'Balanced'}. Best is trial 65 with value: 0.8690285125255279.\u001b[0m\n"
     ]
    },
    {
     "name": "stdout",
     "output_type": "stream",
     "text": [
      "\n",
      "bestTest = 0.456218101\n",
      "bestIteration = 149\n",
      "\n",
      "Training on fold [0/5]\n",
      "\n",
      "bestTest = 0.465445118\n",
      "bestIteration = 294\n",
      "\n",
      "Training on fold [1/5]\n",
      "\n",
      "bestTest = 0.4608523135\n",
      "bestIteration = 300\n",
      "\n",
      "Training on fold [2/5]\n",
      "\n",
      "bestTest = 0.4466366975\n",
      "bestIteration = 344\n",
      "\n",
      "Training on fold [3/5]\n",
      "\n",
      "bestTest = 0.4380122536\n",
      "bestIteration = 287\n",
      "\n",
      "Training on fold [4/5]\n"
     ]
    },
    {
     "name": "stderr",
     "output_type": "stream",
     "text": [
      "\u001b[32m[I 2022-01-27 19:49:30,400]\u001b[0m Trial 70 finished with value: 0.8690917176137953 and parameters: {'iterations': 500, 'learning_rate': 0.05267313271271841, 'random_strength': 6, 'bagging_temperature': 1, 'max_bin': 4, 'grow_policy': 'SymmetricTree', 'min_data_in_leaf': 2, 'max_depth': 7, 'l2_leaf_reg': 58.47856897110284, 'one_hot_max_size': 500, 'auto_class_weights': 'Balanced'}. Best is trial 70 with value: 0.8690917176137953.\u001b[0m\n"
     ]
    },
    {
     "name": "stdout",
     "output_type": "stream",
     "text": [
      "\n",
      "bestTest = 0.4514032779\n",
      "bestIteration = 325\n",
      "\n",
      "Training on fold [0/5]\n",
      "\n",
      "bestTest = 0.4658563481\n",
      "bestIteration = 258\n",
      "\n",
      "Training on fold [1/5]\n",
      "\n",
      "bestTest = 0.4673040672\n",
      "bestIteration = 226\n",
      "\n",
      "Training on fold [2/5]\n",
      "\n",
      "bestTest = 0.4518045772\n",
      "bestIteration = 235\n",
      "\n",
      "Training on fold [3/5]\n",
      "\n",
      "bestTest = 0.4354911421\n",
      "bestIteration = 328\n",
      "\n",
      "Training on fold [4/5]\n"
     ]
    },
    {
     "name": "stderr",
     "output_type": "stream",
     "text": [
      "\u001b[32m[I 2022-01-27 19:49:40,981]\u001b[0m Trial 71 finished with value: 0.8681127613068303 and parameters: {'iterations': 500, 'learning_rate': 0.051391686496891506, 'random_strength': 6, 'bagging_temperature': 1, 'max_bin': 4, 'grow_policy': 'SymmetricTree', 'min_data_in_leaf': 4, 'max_depth': 7, 'l2_leaf_reg': 15.524952339213561, 'one_hot_max_size': 500, 'auto_class_weights': 'Balanced'}. Best is trial 70 with value: 0.8690917176137953.\u001b[0m\n"
     ]
    },
    {
     "name": "stdout",
     "output_type": "stream",
     "text": [
      "\n",
      "bestTest = 0.4503626271\n",
      "bestIteration = 260\n",
      "\n",
      "Training on fold [0/5]\n",
      "\n",
      "bestTest = 0.4678523352\n",
      "bestIteration = 286\n",
      "\n",
      "Training on fold [1/5]\n",
      "\n",
      "bestTest = 0.4632612592\n",
      "bestIteration = 233\n",
      "\n",
      "Training on fold [2/5]\n",
      "\n",
      "bestTest = 0.450608652\n",
      "bestIteration = 254\n",
      "\n",
      "Training on fold [3/5]\n",
      "\n",
      "bestTest = 0.4373957409\n",
      "bestIteration = 243\n",
      "\n",
      "Training on fold [4/5]\n"
     ]
    },
    {
     "name": "stderr",
     "output_type": "stream",
     "text": [
      "\u001b[32m[I 2022-01-27 19:49:53,130]\u001b[0m Trial 72 finished with value: 0.8681809923297784 and parameters: {'iterations': 500, 'learning_rate': 0.05853478852637916, 'random_strength': 6, 'bagging_temperature': 1, 'max_bin': 4, 'grow_policy': 'SymmetricTree', 'min_data_in_leaf': 2, 'max_depth': 8, 'l2_leaf_reg': 51.61748483624938, 'one_hot_max_size': 500, 'auto_class_weights': 'Balanced'}. Best is trial 70 with value: 0.8690917176137953.\u001b[0m\n"
     ]
    },
    {
     "name": "stdout",
     "output_type": "stream",
     "text": [
      "\n",
      "bestTest = 0.4526485926\n",
      "bestIteration = 236\n",
      "\n",
      "Training on fold [0/5]\n",
      "\n",
      "bestTest = 0.4731958852\n",
      "bestIteration = 313\n",
      "\n",
      "Training on fold [1/5]\n",
      "\n",
      "bestTest = 0.4726277161\n",
      "bestIteration = 264\n",
      "\n",
      "Training on fold [2/5]\n",
      "\n",
      "bestTest = 0.457262686\n",
      "bestIteration = 275\n",
      "\n",
      "Training on fold [3/5]\n",
      "\n",
      "bestTest = 0.4438274426\n",
      "bestIteration = 428\n",
      "\n",
      "Training on fold [4/5]\n"
     ]
    },
    {
     "name": "stderr",
     "output_type": "stream",
     "text": [
      "\u001b[32m[I 2022-01-27 19:50:11,754]\u001b[0m Trial 73 finished with value: 0.8651452911314728 and parameters: {'iterations': 500, 'learning_rate': 0.024317632536706865, 'random_strength': 5, 'bagging_temperature': 2, 'max_bin': 4, 'grow_policy': 'SymmetricTree', 'min_data_in_leaf': 3, 'max_depth': 9, 'l2_leaf_reg': 4.381180472522884, 'one_hot_max_size': 500, 'auto_class_weights': 'Balanced'}. Best is trial 70 with value: 0.8690917176137953.\u001b[0m\n"
     ]
    },
    {
     "name": "stdout",
     "output_type": "stream",
     "text": [
      "\n",
      "bestTest = 0.4574113632\n",
      "bestIteration = 362\n",
      "\n",
      "Training on fold [0/5]\n",
      "\n",
      "bestTest = 0.4686518467\n",
      "bestIteration = 181\n",
      "\n",
      "Training on fold [1/5]\n",
      "\n",
      "bestTest = 0.4648387614\n",
      "bestIteration = 195\n",
      "\n",
      "Training on fold [2/5]\n",
      "\n",
      "bestTest = 0.4500750888\n",
      "bestIteration = 209\n",
      "\n",
      "Training on fold [3/5]\n",
      "\n",
      "bestTest = 0.4350341698\n",
      "bestIteration = 272\n",
      "\n",
      "Training on fold [4/5]\n"
     ]
    },
    {
     "name": "stderr",
     "output_type": "stream",
     "text": [
      "\u001b[32m[I 2022-01-27 19:50:20,672]\u001b[0m Trial 74 finished with value: 0.8681376098141366 and parameters: {'iterations': 500, 'learning_rate': 0.07044937951902026, 'random_strength': 6, 'bagging_temperature': 0, 'max_bin': 30, 'grow_policy': 'SymmetricTree', 'min_data_in_leaf': 2, 'max_depth': 7, 'l2_leaf_reg': 18.478276806997478, 'one_hot_max_size': 500, 'auto_class_weights': 'Balanced'}. Best is trial 70 with value: 0.8690917176137953.\u001b[0m\n"
     ]
    },
    {
     "name": "stdout",
     "output_type": "stream",
     "text": [
      "\n",
      "bestTest = 0.4508377278\n",
      "bestIteration = 223\n",
      "\n",
      "Training on fold [0/5]\n",
      "\n",
      "bestTest = 0.4654562187\n",
      "bestIteration = 372\n",
      "\n",
      "Training on fold [1/5]\n",
      "\n",
      "bestTest = 0.4642898383\n",
      "bestIteration = 301\n",
      "\n",
      "Training on fold [2/5]\n",
      "\n",
      "bestTest = 0.4441637664\n",
      "bestIteration = 412\n",
      "\n",
      "Training on fold [3/5]\n",
      "\n",
      "bestTest = 0.4389202067\n",
      "bestIteration = 373\n",
      "\n",
      "Training on fold [4/5]\n"
     ]
    },
    {
     "name": "stderr",
     "output_type": "stream",
     "text": [
      "\u001b[32m[I 2022-01-27 19:53:20,546]\u001b[0m Trial 75 finished with value: 0.8684644491374837 and parameters: {'iterations': 500, 'learning_rate': 0.04114259072192625, 'random_strength': 4, 'bagging_temperature': 2, 'max_bin': 4, 'grow_policy': 'SymmetricTree', 'min_data_in_leaf': 1, 'max_depth': 8, 'l2_leaf_reg': 84.9144927023193, 'one_hot_max_size': 10, 'auto_class_weights': 'Balanced'}. Best is trial 70 with value: 0.8690917176137953.\u001b[0m\n"
     ]
    },
    {
     "name": "stdout",
     "output_type": "stream",
     "text": [
      "\n",
      "bestTest = 0.4557708504\n",
      "bestIteration = 323\n",
      "\n",
      "Training on fold [0/5]\n",
      "\n",
      "bestTest = 0.4655916172\n",
      "bestIteration = 295\n",
      "\n",
      "Training on fold [1/5]\n",
      "\n",
      "bestTest = 0.4634078287\n",
      "bestIteration = 291\n",
      "\n",
      "Training on fold [2/5]\n",
      "\n",
      "bestTest = 0.4480514378\n",
      "bestIteration = 281\n",
      "\n",
      "Training on fold [3/5]\n",
      "\n",
      "bestTest = 0.4369740046\n",
      "bestIteration = 414\n",
      "\n",
      "Training on fold [4/5]\n"
     ]
    },
    {
     "name": "stderr",
     "output_type": "stream",
     "text": [
      "\u001b[32m[I 2022-01-27 19:55:59,651]\u001b[0m Trial 76 finished with value: 0.8682815567865203 and parameters: {'iterations': 500, 'learning_rate': 0.04190924744351459, 'random_strength': 3, 'bagging_temperature': 2, 'max_bin': 20, 'grow_policy': 'SymmetricTree', 'min_data_in_leaf': 1, 'max_depth': 9, 'l2_leaf_reg': 87.52168631950042, 'one_hot_max_size': 10, 'auto_class_weights': 'Balanced'}. Best is trial 70 with value: 0.8690917176137953.\u001b[0m\n"
     ]
    },
    {
     "name": "stdout",
     "output_type": "stream",
     "text": [
      "\n",
      "bestTest = 0.4573736793\n",
      "bestIteration = 246\n",
      "\n",
      "Training on fold [0/5]\n",
      "\n",
      "bestTest = 0.4701529936\n",
      "bestIteration = 237\n",
      "\n",
      "Training on fold [1/5]\n",
      "\n",
      "bestTest = 0.468456813\n",
      "bestIteration = 253\n",
      "\n",
      "Training on fold [2/5]\n",
      "\n",
      "bestTest = 0.4477137806\n",
      "bestIteration = 305\n",
      "\n",
      "Training on fold [3/5]\n",
      "\n",
      "bestTest = 0.4380872485\n",
      "bestIteration = 322\n",
      "\n",
      "Training on fold [4/5]\n"
     ]
    },
    {
     "name": "stderr",
     "output_type": "stream",
     "text": [
      "\u001b[32m[I 2022-01-27 19:57:27,166]\u001b[0m Trial 77 finished with value: 0.8674389816782281 and parameters: {'iterations': 500, 'learning_rate': 0.03339952992527072, 'random_strength': 4, 'bagging_temperature': 3, 'max_bin': 4, 'grow_policy': 'Depthwise', 'min_data_in_leaf': 1, 'max_depth': 8, 'l2_leaf_reg': 6.346768979888247, 'one_hot_max_size': 10, 'auto_class_weights': 'Balanced'}. Best is trial 70 with value: 0.8690917176137953.\u001b[0m\n"
     ]
    },
    {
     "name": "stdout",
     "output_type": "stream",
     "text": [
      "\n",
      "bestTest = 0.4566068703\n",
      "bestIteration = 258\n",
      "\n",
      "Training on fold [0/5]\n",
      "\n",
      "bestTest = 0.481907824\n",
      "bestIteration = 1199\n",
      "\n",
      "Training on fold [1/5]\n",
      "\n",
      "bestTest = 0.4789767802\n",
      "bestIteration = 1199\n",
      "\n",
      "Training on fold [2/5]\n",
      "\n",
      "bestTest = 0.4664303104\n",
      "bestIteration = 1199\n",
      "\n",
      "Training on fold [3/5]\n",
      "\n",
      "bestTest = 0.4616354564\n",
      "bestIteration = 1199\n",
      "\n",
      "Training on fold [4/5]\n"
     ]
    },
    {
     "name": "stderr",
     "output_type": "stream",
     "text": [
      "\u001b[32m[I 2022-01-27 20:07:02,943]\u001b[0m Trial 78 finished with value: 0.8627774080801981 and parameters: {'iterations': 1200, 'learning_rate': 0.00385286447934214, 'random_strength': 7, 'bagging_temperature': 2, 'max_bin': 4, 'grow_policy': 'SymmetricTree', 'min_data_in_leaf': 1, 'max_depth': 8, 'l2_leaf_reg': 16.877937093368082, 'one_hot_max_size': 10, 'auto_class_weights': 'Balanced'}. Best is trial 70 with value: 0.8690917176137953.\u001b[0m\n"
     ]
    },
    {
     "name": "stdout",
     "output_type": "stream",
     "text": [
      "\n",
      "bestTest = 0.4725315405\n",
      "bestIteration = 1199\n",
      "\n",
      "Training on fold [0/5]\n",
      "\n",
      "bestTest = 0.4311552129\n",
      "bestIteration = 275\n",
      "\n",
      "Training on fold [1/5]\n",
      "\n",
      "bestTest = 0.4281497072\n",
      "bestIteration = 295\n",
      "\n",
      "Training on fold [2/5]\n",
      "\n",
      "bestTest = 0.4139344459\n",
      "bestIteration = 374\n",
      "\n",
      "Training on fold [3/5]\n",
      "\n",
      "bestTest = 0.4078699204\n",
      "bestIteration = 298\n",
      "\n",
      "Training on fold [4/5]\n"
     ]
    },
    {
     "name": "stderr",
     "output_type": "stream",
     "text": [
      "\u001b[32m[I 2022-01-27 20:08:46,636]\u001b[0m Trial 79 finished with value: 0.8690945172898823 and parameters: {'iterations': 500, 'learning_rate': 0.05067788308987092, 'random_strength': 4, 'bagging_temperature': 3, 'max_bin': 8, 'grow_policy': 'SymmetricTree', 'min_data_in_leaf': 2, 'max_depth': 7, 'l2_leaf_reg': 78.29261381855468, 'one_hot_max_size': 10, 'auto_class_weights': 'SqrtBalanced'}. Best is trial 79 with value: 0.8690945172898823.\u001b[0m\n"
     ]
    },
    {
     "name": "stdout",
     "output_type": "stream",
     "text": [
      "\n",
      "bestTest = 0.4211688978\n",
      "bestIteration = 308\n",
      "\n",
      "Training on fold [0/5]\n",
      "\n",
      "bestTest = 0.4473190452\n",
      "bestIteration = 99\n",
      "\n",
      "Training on fold [1/5]\n",
      "\n",
      "bestTest = 0.4429888247\n",
      "bestIteration = 99\n",
      "\n",
      "Training on fold [2/5]\n",
      "\n",
      "bestTest = 0.4327136369\n",
      "bestIteration = 99\n",
      "\n",
      "Training on fold [3/5]\n",
      "\n",
      "bestTest = 0.4274625502\n",
      "bestIteration = 99\n",
      "\n",
      "Training on fold [4/5]\n"
     ]
    },
    {
     "name": "stderr",
     "output_type": "stream",
     "text": [
      "\u001b[32m[I 2022-01-27 20:09:21,130]\u001b[0m Trial 80 finished with value: 0.8616068131223928 and parameters: {'iterations': 100, 'learning_rate': 0.05109158261063962, 'random_strength': 7, 'bagging_temperature': 3, 'max_bin': 8, 'grow_policy': 'SymmetricTree', 'min_data_in_leaf': 4, 'max_depth': 7, 'l2_leaf_reg': 8.224858969216383, 'one_hot_max_size': 10, 'auto_class_weights': 'SqrtBalanced'}. Best is trial 79 with value: 0.8690945172898823.\u001b[0m\n"
     ]
    },
    {
     "name": "stdout",
     "output_type": "stream",
     "text": [
      "\n",
      "bestTest = 0.4377761852\n",
      "bestIteration = 99\n",
      "\n",
      "Training on fold [0/5]\n",
      "\n",
      "bestTest = 0.4325112747\n",
      "bestIteration = 440\n",
      "\n",
      "Training on fold [1/5]\n",
      "\n",
      "bestTest = 0.4288485063\n",
      "bestIteration = 437\n",
      "\n",
      "Training on fold [2/5]\n",
      "\n",
      "bestTest = 0.4138259317\n",
      "bestIteration = 499\n",
      "\n",
      "Training on fold [3/5]\n",
      "\n",
      "bestTest = 0.4073459526\n",
      "bestIteration = 498\n",
      "\n",
      "Training on fold [4/5]\n"
     ]
    },
    {
     "name": "stderr",
     "output_type": "stream",
     "text": [
      "\u001b[32m[I 2022-01-27 20:12:47,465]\u001b[0m Trial 81 finished with value: 0.8692412742401349 and parameters: {'iterations': 500, 'learning_rate': 0.027855645578576255, 'random_strength': 4, 'bagging_temperature': 2, 'max_bin': 8, 'grow_policy': 'SymmetricTree', 'min_data_in_leaf': 2, 'max_depth': 8, 'l2_leaf_reg': 59.18493591659662, 'one_hot_max_size': 10, 'auto_class_weights': 'SqrtBalanced'}. Best is trial 81 with value: 0.8692412742401349.\u001b[0m\n"
     ]
    },
    {
     "name": "stdout",
     "output_type": "stream",
     "text": [
      "\n",
      "bestTest = 0.419714818\n",
      "bestIteration = 472\n",
      "\n",
      "Training on fold [0/5]\n",
      "\n",
      "bestTest = 0.4308540642\n",
      "bestIteration = 499\n",
      "\n",
      "Training on fold [1/5]\n",
      "\n",
      "bestTest = 0.4278529522\n",
      "bestIteration = 499\n",
      "\n",
      "Training on fold [2/5]\n",
      "\n",
      "bestTest = 0.4155330713\n",
      "bestIteration = 496\n",
      "\n",
      "Training on fold [3/5]\n",
      "\n",
      "bestTest = 0.4079931017\n",
      "bestIteration = 497\n",
      "\n",
      "Training on fold [4/5]\n"
     ]
    },
    {
     "name": "stderr",
     "output_type": "stream",
     "text": [
      "\u001b[32m[I 2022-01-27 20:15:48,832]\u001b[0m Trial 82 finished with value: 0.8689569692040227 and parameters: {'iterations': 500, 'learning_rate': 0.025226384294517887, 'random_strength': 3, 'bagging_temperature': 3, 'max_bin': 8, 'grow_policy': 'SymmetricTree', 'min_data_in_leaf': 3, 'max_depth': 7, 'l2_leaf_reg': 24.946457383390868, 'one_hot_max_size': 10, 'auto_class_weights': 'SqrtBalanced'}. Best is trial 81 with value: 0.8692412742401349.\u001b[0m\n"
     ]
    },
    {
     "name": "stdout",
     "output_type": "stream",
     "text": [
      "\n",
      "bestTest = 0.4214076886\n",
      "bestIteration = 499\n",
      "\n",
      "Training on fold [0/5]\n",
      "\n",
      "bestTest = 0.4359203764\n",
      "bestIteration = 499\n",
      "\n",
      "Training on fold [1/5]\n",
      "\n",
      "bestTest = 0.4327898436\n",
      "bestIteration = 499\n",
      "\n",
      "Training on fold [2/5]\n",
      "\n",
      "bestTest = 0.4202352764\n",
      "bestIteration = 499\n",
      "\n",
      "Training on fold [3/5]\n",
      "\n",
      "bestTest = 0.4142925352\n",
      "bestIteration = 499\n",
      "\n",
      "Training on fold [4/5]\n"
     ]
    },
    {
     "name": "stderr",
     "output_type": "stream",
     "text": [
      "\u001b[32m[I 2022-01-27 20:18:54,800]\u001b[0m Trial 83 finished with value: 0.8665175995926099 and parameters: {'iterations': 500, 'learning_rate': 0.013985402081450223, 'random_strength': 2, 'bagging_temperature': 3, 'max_bin': 8, 'grow_policy': 'SymmetricTree', 'min_data_in_leaf': 2, 'max_depth': 7, 'l2_leaf_reg': 55.431993115289565, 'one_hot_max_size': 10, 'auto_class_weights': 'SqrtBalanced'}. Best is trial 81 with value: 0.8692412742401349.\u001b[0m\n"
     ]
    },
    {
     "name": "stdout",
     "output_type": "stream",
     "text": [
      "\n",
      "bestTest = 0.4274819605\n",
      "bestIteration = 499\n",
      "\n",
      "Training on fold [0/5]\n",
      "\n",
      "bestTest = 0.4321854235\n",
      "bestIteration = 499\n",
      "\n",
      "Training on fold [1/5]\n",
      "\n",
      "bestTest = 0.4283636956\n",
      "bestIteration = 499\n",
      "\n",
      "Training on fold [2/5]\n",
      "\n",
      "bestTest = 0.4166082864\n",
      "bestIteration = 499\n",
      "\n",
      "Training on fold [3/5]\n",
      "\n",
      "bestTest = 0.4083596579\n",
      "bestIteration = 499\n",
      "\n",
      "Training on fold [4/5]\n"
     ]
    },
    {
     "name": "stderr",
     "output_type": "stream",
     "text": [
      "\u001b[32m[I 2022-01-27 20:19:15,070]\u001b[0m Trial 84 finished with value: 0.8689053324074104 and parameters: {'iterations': 500, 'learning_rate': 0.0245148902199189, 'random_strength': 3, 'bagging_temperature': 2, 'max_bin': 8, 'grow_policy': 'SymmetricTree', 'min_data_in_leaf': 2, 'max_depth': 7, 'l2_leaf_reg': 29.25643286237243, 'one_hot_max_size': 1024, 'auto_class_weights': 'SqrtBalanced'}. Best is trial 81 with value: 0.8692412742401349.\u001b[0m\n"
     ]
    },
    {
     "name": "stdout",
     "output_type": "stream",
     "text": [
      "\n",
      "bestTest = 0.4194431774\n",
      "bestIteration = 499\n",
      "\n",
      "Training on fold [0/5]\n",
      "\n",
      "bestTest = 0.4329545726\n",
      "bestIteration = 499\n",
      "\n",
      "Training on fold [1/5]\n",
      "\n",
      "bestTest = 0.4318426955\n",
      "bestIteration = 324\n",
      "\n",
      "Training on fold [2/5]\n",
      "\n",
      "bestTest = 0.416817331\n",
      "bestIteration = 497\n",
      "\n",
      "Training on fold [3/5]\n",
      "\n",
      "bestTest = 0.4073206736\n",
      "bestIteration = 498\n",
      "\n",
      "Training on fold [4/5]\n"
     ]
    },
    {
     "name": "stderr",
     "output_type": "stream",
     "text": [
      "\u001b[32m[I 2022-01-27 20:19:37,219]\u001b[0m Trial 85 finished with value: 0.8685520508185519 and parameters: {'iterations': 500, 'learning_rate': 0.023077447044719226, 'random_strength': 3, 'bagging_temperature': 2, 'max_bin': 8, 'grow_policy': 'SymmetricTree', 'min_data_in_leaf': 2, 'max_depth': 8, 'l2_leaf_reg': 25.78993439762022, 'one_hot_max_size': 1024, 'auto_class_weights': 'SqrtBalanced'}. Best is trial 81 with value: 0.8692412742401349.\u001b[0m\n"
     ]
    },
    {
     "name": "stdout",
     "output_type": "stream",
     "text": [
      "\n",
      "bestTest = 0.4197530221\n",
      "bestIteration = 499\n",
      "\n",
      "Training on fold [0/5]\n",
      "\n",
      "bestTest = 0.4324245692\n",
      "bestIteration = 467\n",
      "\n",
      "Training on fold [1/5]\n",
      "\n",
      "bestTest = 0.4267501258\n",
      "bestIteration = 497\n",
      "\n",
      "Training on fold [2/5]\n",
      "\n",
      "bestTest = 0.4147122178\n",
      "bestIteration = 498\n",
      "\n",
      "Training on fold [3/5]\n",
      "\n",
      "bestTest = 0.4060740647\n",
      "bestIteration = 494\n",
      "\n",
      "Training on fold [4/5]\n"
     ]
    },
    {
     "name": "stderr",
     "output_type": "stream",
     "text": [
      "\u001b[32m[I 2022-01-27 20:19:56,959]\u001b[0m Trial 86 finished with value: 0.8694331108012637 and parameters: {'iterations': 500, 'learning_rate': 0.02914787579303319, 'random_strength': 3, 'bagging_temperature': 1, 'max_bin': 8, 'grow_policy': 'SymmetricTree', 'min_data_in_leaf': 2, 'max_depth': 7, 'l2_leaf_reg': 24.243629436955278, 'one_hot_max_size': 1024, 'auto_class_weights': 'SqrtBalanced'}. Best is trial 86 with value: 0.8694331108012637.\u001b[0m\n"
     ]
    },
    {
     "name": "stdout",
     "output_type": "stream",
     "text": [
      "\n",
      "bestTest = 0.419163786\n",
      "bestIteration = 489\n",
      "\n",
      "Training on fold [0/5]\n",
      "\n",
      "bestTest = 0.4432577557\n",
      "bestIteration = 499\n",
      "\n",
      "Training on fold [1/5]\n",
      "\n",
      "bestTest = 0.4405642919\n",
      "bestIteration = 435\n",
      "\n",
      "Training on fold [2/5]\n",
      "\n",
      "bestTest = 0.4251806522\n",
      "bestIteration = 499\n",
      "\n",
      "Training on fold [3/5]\n",
      "\n",
      "bestTest = 0.4204438793\n",
      "bestIteration = 499\n",
      "\n",
      "Training on fold [4/5]\n"
     ]
    },
    {
     "name": "stderr",
     "output_type": "stream",
     "text": [
      "\u001b[32m[I 2022-01-27 20:20:17,583]\u001b[0m Trial 87 finished with value: 0.8625237296322267 and parameters: {'iterations': 500, 'learning_rate': 0.009203798264449274, 'random_strength': 2, 'bagging_temperature': 1, 'max_bin': 8, 'grow_policy': 'SymmetricTree', 'min_data_in_leaf': 2, 'max_depth': 7, 'l2_leaf_reg': 0.005044655106739308, 'one_hot_max_size': 1024, 'auto_class_weights': 'SqrtBalanced'}. Best is trial 86 with value: 0.8694331108012637.\u001b[0m\n"
     ]
    },
    {
     "name": "stdout",
     "output_type": "stream",
     "text": [
      "\n",
      "bestTest = 0.4311268996\n",
      "bestIteration = 498\n",
      "\n",
      "Training on fold [0/5]\n",
      "\n",
      "bestTest = 0.4405732861\n",
      "bestIteration = 299\n",
      "\n",
      "Training on fold [1/5]\n",
      "\n",
      "bestTest = 0.434771747\n",
      "bestIteration = 299\n",
      "\n",
      "Training on fold [2/5]\n",
      "\n",
      "bestTest = 0.4220158634\n",
      "bestIteration = 299\n",
      "\n",
      "Training on fold [3/5]\n",
      "\n",
      "bestTest = 0.4169949308\n",
      "bestIteration = 299\n",
      "\n",
      "Training on fold [4/5]\n"
     ]
    },
    {
     "name": "stderr",
     "output_type": "stream",
     "text": [
      "\u001b[32m[I 2022-01-27 20:20:33,320]\u001b[0m Trial 88 finished with value: 0.8658802633154485 and parameters: {'iterations': 300, 'learning_rate': 0.02851956865092028, 'random_strength': 3, 'bagging_temperature': 0, 'max_bin': 8, 'grow_policy': 'Lossguide', 'min_data_in_leaf': 2, 'max_depth': 9, 'l2_leaf_reg': 99.23461224004552, 'one_hot_max_size': 1024, 'auto_class_weights': 'SqrtBalanced'}. Best is trial 86 with value: 0.8694331108012637.\u001b[0m\n"
     ]
    },
    {
     "name": "stdout",
     "output_type": "stream",
     "text": [
      "\n",
      "bestTest = 0.4281283812\n",
      "bestIteration = 299\n",
      "\n",
      "Training on fold [0/5]\n",
      "\n",
      "bestTest = 0.4346111212\n",
      "bestIteration = 302\n",
      "\n",
      "Training on fold [1/5]\n",
      "\n",
      "bestTest = 0.4316538863\n",
      "bestIteration = 246\n",
      "\n",
      "Training on fold [2/5]\n",
      "\n",
      "bestTest = 0.4172505796\n",
      "bestIteration = 324\n",
      "\n",
      "Training on fold [3/5]\n",
      "\n",
      "bestTest = 0.4044867871\n",
      "bestIteration = 396\n",
      "\n",
      "Training on fold [4/5]\n"
     ]
    },
    {
     "name": "stderr",
     "output_type": "stream",
     "text": [
      "\u001b[32m[I 2022-01-27 20:20:49,972]\u001b[0m Trial 89 finished with value: 0.8684635227025916 and parameters: {'iterations': 500, 'learning_rate': 0.03459483826265179, 'random_strength': 3, 'bagging_temperature': 1, 'max_bin': 8, 'grow_policy': 'SymmetricTree', 'min_data_in_leaf': 3, 'max_depth': 8, 'l2_leaf_reg': 4.608860824567298, 'one_hot_max_size': 1024, 'auto_class_weights': 'SqrtBalanced'}. Best is trial 86 with value: 0.8694331108012637.\u001b[0m\n"
     ]
    },
    {
     "name": "stdout",
     "output_type": "stream",
     "text": [
      "\n",
      "bestTest = 0.4175307318\n",
      "bestIteration = 372\n",
      "\n",
      "Training on fold [0/5]\n",
      "\n",
      "bestTest = 0.4342909942\n",
      "bestIteration = 499\n",
      "\n",
      "Training on fold [1/5]\n",
      "\n",
      "bestTest = 0.431787948\n",
      "bestIteration = 498\n",
      "\n",
      "Training on fold [2/5]\n",
      "\n",
      "bestTest = 0.4188223868\n",
      "bestIteration = 499\n",
      "\n",
      "Training on fold [3/5]\n",
      "\n",
      "bestTest = 0.4126720326\n",
      "bestIteration = 499\n",
      "\n",
      "Training on fold [4/5]\n"
     ]
    },
    {
     "name": "stderr",
     "output_type": "stream",
     "text": [
      "\u001b[32m[I 2022-01-27 20:21:10,488]\u001b[0m Trial 90 finished with value: 0.8672353090081344 and parameters: {'iterations': 500, 'learning_rate': 0.019676676588300364, 'random_strength': 3, 'bagging_temperature': 1, 'max_bin': 8, 'grow_policy': 'SymmetricTree', 'min_data_in_leaf': 3, 'max_depth': 7, 'l2_leaf_reg': 10.766512596816835, 'one_hot_max_size': 1024, 'auto_class_weights': 'SqrtBalanced'}. Best is trial 86 with value: 0.8694331108012637.\u001b[0m\n"
     ]
    },
    {
     "name": "stdout",
     "output_type": "stream",
     "text": [
      "\n",
      "bestTest = 0.4222732268\n",
      "bestIteration = 499\n",
      "\n",
      "Training on fold [0/5]\n",
      "\n",
      "bestTest = 0.4320654977\n",
      "bestIteration = 210\n",
      "\n",
      "Training on fold [1/5]\n",
      "\n",
      "bestTest = 0.4278587487\n",
      "bestIteration = 255\n",
      "\n",
      "Training on fold [2/5]\n",
      "\n",
      "bestTest = 0.4144748234\n",
      "bestIteration = 235\n",
      "\n",
      "Training on fold [3/5]\n",
      "\n",
      "bestTest = 0.4058993849\n",
      "bestIteration = 252\n",
      "\n",
      "Training on fold [4/5]\n"
     ]
    },
    {
     "name": "stderr",
     "output_type": "stream",
     "text": [
      "\u001b[32m[I 2022-01-27 20:21:20,535]\u001b[0m Trial 91 finished with value: 0.8688954574385062 and parameters: {'iterations': 500, 'learning_rate': 0.062051674550193996, 'random_strength': 3, 'bagging_temperature': 2, 'max_bin': 8, 'grow_policy': 'SymmetricTree', 'min_data_in_leaf': 3, 'max_depth': 7, 'l2_leaf_reg': 26.02182059679235, 'one_hot_max_size': 1024, 'auto_class_weights': 'SqrtBalanced'}. Best is trial 86 with value: 0.8694331108012637.\u001b[0m\n"
     ]
    },
    {
     "name": "stdout",
     "output_type": "stream",
     "text": [
      "\n",
      "bestTest = 0.4200247818\n",
      "bestIteration = 206\n",
      "\n",
      "Training on fold [0/5]\n",
      "\n",
      "bestTest = 0.4338912234\n",
      "bestIteration = 264\n",
      "\n",
      "Training on fold [1/5]\n",
      "\n",
      "bestTest = 0.426208569\n",
      "bestIteration = 316\n",
      "\n",
      "Training on fold [2/5]\n",
      "\n",
      "bestTest = 0.4172908604\n",
      "bestIteration = 215\n",
      "\n",
      "Training on fold [3/5]\n",
      "\n",
      "bestTest = 0.4057004356\n",
      "bestIteration = 344\n",
      "\n",
      "Training on fold [4/5]\n"
     ]
    },
    {
     "name": "stderr",
     "output_type": "stream",
     "text": [
      "\u001b[32m[I 2022-01-27 20:21:32,318]\u001b[0m Trial 92 finished with value: 0.8692426264433193 and parameters: {'iterations': 500, 'learning_rate': 0.047872705799503285, 'random_strength': 3, 'bagging_temperature': 2, 'max_bin': 8, 'grow_policy': 'SymmetricTree', 'min_data_in_leaf': 3, 'max_depth': 7, 'l2_leaf_reg': 25.86242826631147, 'one_hot_max_size': 1024, 'auto_class_weights': 'SqrtBalanced'}. Best is trial 86 with value: 0.8694331108012637.\u001b[0m\n"
     ]
    },
    {
     "name": "stdout",
     "output_type": "stream",
     "text": [
      "\n",
      "bestTest = 0.41748494\n",
      "bestIteration = 309\n",
      "\n",
      "Training on fold [0/5]\n",
      "\n",
      "bestTest = 0.4339040186\n",
      "bestIteration = 231\n",
      "\n",
      "Training on fold [1/5]\n",
      "\n",
      "bestTest = 0.4311220683\n",
      "bestIteration = 175\n",
      "\n",
      "Training on fold [2/5]\n",
      "\n",
      "bestTest = 0.4186838801\n",
      "bestIteration = 236\n",
      "\n",
      "Training on fold [3/5]\n",
      "\n",
      "bestTest = 0.4061225613\n",
      "bestIteration = 312\n",
      "\n",
      "Training on fold [4/5]\n"
     ]
    },
    {
     "name": "stderr",
     "output_type": "stream",
     "text": [
      "\u001b[32m[I 2022-01-27 20:21:42,118]\u001b[0m Trial 93 finished with value: 0.8675711636384518 and parameters: {'iterations': 500, 'learning_rate': 0.04556521887452407, 'random_strength': 2, 'bagging_temperature': 3, 'max_bin': 8, 'grow_policy': 'SymmetricTree', 'min_data_in_leaf': 2, 'max_depth': 7, 'l2_leaf_reg': 2.100806534444429, 'one_hot_max_size': 1024, 'auto_class_weights': 'SqrtBalanced'}. Best is trial 86 with value: 0.8694331108012637.\u001b[0m\n"
     ]
    },
    {
     "name": "stdout",
     "output_type": "stream",
     "text": [
      "\n",
      "bestTest = 0.4212835587\n",
      "bestIteration = 218\n",
      "\n",
      "Training on fold [0/5]\n",
      "\n",
      "bestTest = 0.5467282447\n",
      "bestIteration = 499\n",
      "\n",
      "Training on fold [1/5]\n",
      "\n",
      "bestTest = 0.5437609693\n",
      "bestIteration = 499\n",
      "\n",
      "Training on fold [2/5]\n",
      "\n",
      "bestTest = 0.5420360484\n",
      "bestIteration = 499\n",
      "\n",
      "Training on fold [3/5]\n",
      "\n",
      "bestTest = 0.5420889226\n",
      "bestIteration = 499\n",
      "\n",
      "Training on fold [4/5]\n"
     ]
    },
    {
     "name": "stderr",
     "output_type": "stream",
     "text": [
      "\u001b[32m[I 2022-01-27 20:22:04,493]\u001b[0m Trial 94 finished with value: 0.8478334254034051 and parameters: {'iterations': 500, 'learning_rate': 0.0010697139583066145, 'random_strength': 4, 'bagging_temperature': 2, 'max_bin': 8, 'grow_policy': 'SymmetricTree', 'min_data_in_leaf': 2, 'max_depth': 8, 'l2_leaf_reg': 22.243424765241016, 'one_hot_max_size': 1024, 'auto_class_weights': 'SqrtBalanced'}. Best is trial 86 with value: 0.8694331108012637.\u001b[0m\n"
     ]
    },
    {
     "name": "stdout",
     "output_type": "stream",
     "text": [
      "\n",
      "bestTest = 0.5428038609\n",
      "bestIteration = 499\n",
      "\n",
      "Training on fold [0/5]\n",
      "\n",
      "bestTest = 0.4330708317\n",
      "bestIteration = 433\n",
      "\n",
      "Training on fold [1/5]\n",
      "\n",
      "bestTest = 0.4263793624\n",
      "bestIteration = 462\n",
      "\n",
      "Training on fold [2/5]\n",
      "\n",
      "bestTest = 0.4162915965\n",
      "bestIteration = 491\n",
      "\n",
      "Training on fold [3/5]\n",
      "\n",
      "bestTest = 0.4081220781\n",
      "bestIteration = 477\n",
      "\n",
      "Training on fold [4/5]\n"
     ]
    },
    {
     "name": "stderr",
     "output_type": "stream",
     "text": [
      "\u001b[32m[I 2022-01-27 20:22:21,335]\u001b[0m Trial 95 finished with value: 0.8689368203986314 and parameters: {'iterations': 500, 'learning_rate': 0.029287049102414378, 'random_strength': 3, 'bagging_temperature': 1, 'max_bin': 8, 'grow_policy': 'SymmetricTree', 'min_data_in_leaf': 3, 'max_depth': 6, 'l2_leaf_reg': 12.318845472314964, 'one_hot_max_size': 1024, 'auto_class_weights': 'SqrtBalanced'}. Best is trial 86 with value: 0.8694331108012637.\u001b[0m\n"
     ]
    },
    {
     "name": "stdout",
     "output_type": "stream",
     "text": [
      "\n",
      "bestTest = 0.4198352026\n",
      "bestIteration = 458\n",
      "\n",
      "Training on fold [0/5]\n",
      "\n",
      "bestTest = 0.4285610595\n",
      "bestIteration = 373\n",
      "\n",
      "Training on fold [1/5]\n",
      "\n",
      "bestTest = 0.4293733092\n",
      "bestIteration = 226\n",
      "\n",
      "Training on fold [2/5]\n",
      "\n",
      "bestTest = 0.4157071931\n",
      "bestIteration = 297\n",
      "\n",
      "Training on fold [3/5]\n",
      "\n",
      "bestTest = 0.4080303708\n",
      "bestIteration = 293\n",
      "\n",
      "Training on fold [4/5]\n"
     ]
    },
    {
     "name": "stderr",
     "output_type": "stream",
     "text": [
      "\u001b[32m[I 2022-01-27 20:23:39,797]\u001b[0m Trial 96 finished with value: 0.8688060868689405 and parameters: {'iterations': 1500, 'learning_rate': 0.05196133415935758, 'random_strength': 4, 'bagging_temperature': 1, 'max_bin': 8, 'grow_policy': 'SymmetricTree', 'min_data_in_leaf': 3, 'max_depth': 6, 'l2_leaf_reg': 14.164970648134474, 'one_hot_max_size': 12, 'auto_class_weights': 'SqrtBalanced'}. Best is trial 86 with value: 0.8694331108012637.\u001b[0m\n"
     ]
    },
    {
     "name": "stdout",
     "output_type": "stream",
     "text": [
      "\n",
      "bestTest = 0.4215480259\n",
      "bestIteration = 273\n",
      "\n",
      "Training on fold [0/5]\n",
      "\n",
      "bestTest = 0.439469823\n",
      "bestIteration = 493\n",
      "\n",
      "Training on fold [1/5]\n",
      "\n",
      "bestTest = 0.4338698444\n",
      "bestIteration = 499\n",
      "\n",
      "Training on fold [2/5]\n",
      "\n",
      "bestTest = 0.4223779002\n",
      "bestIteration = 498\n",
      "\n",
      "Training on fold [3/5]\n",
      "\n",
      "bestTest = 0.4135677592\n",
      "bestIteration = 498\n",
      "\n",
      "Training on fold [4/5]\n"
     ]
    },
    {
     "name": "stderr",
     "output_type": "stream",
     "text": [
      "\u001b[32m[I 2022-01-27 20:24:42,577]\u001b[0m Trial 97 finished with value: 0.8668028989102791 and parameters: {'iterations': 500, 'learning_rate': 0.011928768445864872, 'random_strength': 4, 'bagging_temperature': 0, 'max_bin': 8, 'grow_policy': 'Depthwise', 'min_data_in_leaf': 3, 'max_depth': 10, 'l2_leaf_reg': 6.364183799341204, 'one_hot_max_size': 1024, 'auto_class_weights': 'SqrtBalanced'}. Best is trial 86 with value: 0.8694331108012637.\u001b[0m\n"
     ]
    },
    {
     "name": "stdout",
     "output_type": "stream",
     "text": [
      "\n",
      "bestTest = 0.4239164291\n",
      "bestIteration = 499\n",
      "\n",
      "Training on fold [0/5]\n",
      "\n",
      "bestTest = 0.4323157905\n",
      "bestIteration = 465\n",
      "\n",
      "Training on fold [1/5]\n",
      "\n",
      "bestTest = 0.4293438385\n",
      "bestIteration = 439\n",
      "\n",
      "Training on fold [2/5]\n",
      "\n",
      "bestTest = 0.4163682032\n",
      "bestIteration = 461\n",
      "\n",
      "Training on fold [3/5]\n",
      "\n",
      "bestTest = 0.4079713726\n",
      "bestIteration = 479\n",
      "\n",
      "Training on fold [4/5]\n"
     ]
    },
    {
     "name": "stderr",
     "output_type": "stream",
     "text": [
      "\u001b[32m[I 2022-01-27 20:24:59,416]\u001b[0m Trial 98 finished with value: 0.8685959911974471 and parameters: {'iterations': 500, 'learning_rate': 0.029567615803313022, 'random_strength': 3, 'bagging_temperature': 1, 'max_bin': 8, 'grow_policy': 'SymmetricTree', 'min_data_in_leaf': 2, 'max_depth': 6, 'l2_leaf_reg': 10.433169679318004, 'one_hot_max_size': 1024, 'auto_class_weights': 'SqrtBalanced'}. Best is trial 86 with value: 0.8694331108012637.\u001b[0m\n"
     ]
    },
    {
     "name": "stdout",
     "output_type": "stream",
     "text": [
      "\n",
      "bestTest = 0.4197799304\n",
      "bestIteration = 449\n",
      "\n",
      "Training on fold [0/5]\n",
      "\n",
      "bestTest = 0.4339955229\n",
      "bestIteration = 317\n",
      "\n",
      "Training on fold [1/5]\n",
      "\n",
      "bestTest = 0.4301335254\n",
      "bestIteration = 258\n",
      "\n",
      "Training on fold [2/5]\n",
      "\n",
      "bestTest = 0.4182372541\n",
      "bestIteration = 306\n",
      "\n",
      "Training on fold [3/5]\n",
      "\n",
      "bestTest = 0.4085325551\n",
      "bestIteration = 320\n",
      "\n",
      "Training on fold [4/5]\n"
     ]
    },
    {
     "name": "stderr",
     "output_type": "stream",
     "text": [
      "\u001b[32m[I 2022-01-27 20:25:12,345]\u001b[0m Trial 99 finished with value: 0.86790798068735 and parameters: {'iterations': 500, 'learning_rate': 0.03796450751048371, 'random_strength': 2, 'bagging_temperature': 4, 'max_bin': 8, 'grow_policy': 'SymmetricTree', 'min_data_in_leaf': 3, 'max_depth': 6, 'l2_leaf_reg': 1.1649764536827492, 'one_hot_max_size': 1024, 'auto_class_weights': 'SqrtBalanced'}. Best is trial 86 with value: 0.8694331108012637.\u001b[0m\n"
     ]
    },
    {
     "name": "stdout",
     "output_type": "stream",
     "text": [
      "\n",
      "bestTest = 0.4193644786\n",
      "bestIteration = 394\n",
      "\n"
     ]
    }
   ],
   "source": [
    "sampler = optuna.samplers.TPESampler(seed=68)\n",
    "study = optuna.create_study(direction=\"maximize\", sampler=sampler)\n",
    "study.optimize(objective, n_trials=100)"
   ]
  },
  {
   "cell_type": "code",
   "execution_count": 34,
   "metadata": {},
   "outputs": [
    {
     "name": "stdout",
     "output_type": "stream",
     "text": [
      "Number of finished trials: 100\n",
      "Best trial:\n",
      "  Value: 0.8694331108012637\n",
      "  Params: \n",
      "    iterations=500,\n",
      "    learning_rate=0.02914787579303319,\n",
      "    random_strength=3,\n",
      "    bagging_temperature=1,\n",
      "    max_bin=8,\n",
      "    grow_policy=SymmetricTree,\n",
      "    min_data_in_leaf=2,\n",
      "    max_depth=7,\n",
      "    l2_leaf_reg=24.243629436955278,\n",
      "    one_hot_max_size=1024,\n",
      "    auto_class_weights=SqrtBalanced,\n"
     ]
    }
   ],
   "source": [
    "print(\"Number of finished trials: {}\".format(len(study.trials)))\n",
    "print(\"Best trial:\")\n",
    "trial = study.best_trial\n",
    "print(\"  Value: {}\".format(trial.value))\n",
    "print(\"  Params: \")\n",
    "for key, value in trial.params.items():\n",
    "    print(\"    {}={},\".format(key, value))"
   ]
  },
  {
   "cell_type": "code",
   "execution_count": 23,
   "metadata": {},
   "outputs": [],
   "source": [
    "params1 = {'iterations':500,\n",
    "         'learning_rate':0.02914787579303319,\n",
    "         'random_strength':3,\n",
    "         'bagging_temperature':1,\n",
    "         'max_bin':8,\n",
    "         'grow_policy':'SymmetricTree',\n",
    "         'min_data_in_leaf':2,\n",
    "         'max_depth':7,\n",
    "         'l2_leaf_reg':24.243629436955278,\n",
    "         'one_hot_max_size':1024,\n",
    "         'auto_class_weights':'SqrtBalanced',\n",
    "         'eval_metric':'AUC',\n",
    "         'verbose':False,\n",
    "          }"
   ]
  },
  {
   "cell_type": "markdown",
   "metadata": {},
   "source": [
    "As in the CatBoost notebook, because we don't want to be calling the hyperparameters that we want to use every time we use the CatBoostClassifier, we can use \\**params instead."
   ]
  },
  {
   "cell_type": "code",
   "execution_count": 31,
   "metadata": {},
   "outputs": [],
   "source": [
    "best_model_h1n1 = CatBoostClassifier(cat_features=categorical_features_indices, **params1)"
   ]
  },
  {
   "cell_type": "code",
   "execution_count": 32,
   "metadata": {},
   "outputs": [
    {
     "data": {
      "text/plain": [
       "<catboost.core.CatBoostClassifier at 0x21434c3ef70>"
      ]
     },
     "execution_count": 32,
     "metadata": {},
     "output_type": "execute_result"
    }
   ],
   "source": [
    "best_model_h1n1.fit(X_train, y_train.h1n1_vaccine)"
   ]
  },
  {
   "cell_type": "code",
   "execution_count": 36,
   "metadata": {},
   "outputs": [],
   "source": [
    "preds_h1n1 = best_model_h1n1.predict(X_test)"
   ]
  },
  {
   "cell_type": "code",
   "execution_count": 37,
   "metadata": {},
   "outputs": [
    {
     "data": {
      "text/plain": [
       "0.8476226132534631"
      ]
     },
     "execution_count": 37,
     "metadata": {},
     "output_type": "execute_result"
    }
   ],
   "source": [
    "accuracy_score(y_test.h1n1_vaccine, preds_h1n1)"
   ]
  },
  {
   "cell_type": "code",
   "execution_count": 33,
   "metadata": {},
   "outputs": [],
   "source": [
    "pred_h1n1 = best_model_h1n1.predict_proba(X_test)"
   ]
  },
  {
   "cell_type": "code",
   "execution_count": 34,
   "metadata": {},
   "outputs": [],
   "source": [
    "pred_h1n1 = pred_h1n1[:,1].reshape(-1,1)"
   ]
  },
  {
   "cell_type": "code",
   "execution_count": 35,
   "metadata": {},
   "outputs": [
    {
     "data": {
      "text/plain": [
       "0.8712674412152177"
      ]
     },
     "execution_count": 35,
     "metadata": {},
     "output_type": "execute_result"
    }
   ],
   "source": [
    "roc_auc_score(y_test.h1n1_vaccine, pred_h1n1)"
   ]
  },
  {
   "cell_type": "markdown",
   "metadata": {},
   "source": [
    "### Confusion Matrix"
   ]
  },
  {
   "cell_type": "code",
   "execution_count": 40,
   "metadata": {},
   "outputs": [
    {
     "data": {
      "image/png": "[encoded data removed]",
      "text/plain": [
       "<Figure size 432x288 with 2 Axes>"
      ]
     },
     "metadata": {
      "needs_background": "light"
     },
     "output_type": "display_data"
    }
   ],
   "source": [
    "plot_confusion_matrix(best_model_h1n1, X_test, y_test.h1n1_vaccine)\n",
    "plt.show();"
   ]
  },
  {
   "cell_type": "markdown",
   "metadata": {},
   "source": [
    "### ROC Curve"
   ]
  },
  {
   "cell_type": "code",
   "execution_count": 41,
   "metadata": {},
   "outputs": [],
   "source": [
    "def plot_roc(y_true, y_score, label_name, ax):\n",
    "    fpr, tpr, thresholds = roc_curve(y_true, y_score)\n",
    "    ax.plot(fpr, tpr)\n",
    "    ax.plot([0, 1], [0, 1], color='grey', linestyle='--')\n",
    "    ax.set_ylabel('TPR')\n",
    "    ax.set_xlabel('FPR')\n",
    "    ax.set_title(\n",
    "        f\"{label_name}: AUC = {roc_auc_score(y_true, y_score):.4f}\"\n",
    "    )"
   ]
  },
  {
   "cell_type": "code",
   "execution_count": 42,
   "metadata": {},
   "outputs": [
    {
     "data": {
      "image/png": "[encoded data removed]",
      "text/plain": [
       "<Figure size 720x576 with 1 Axes>"
      ]
     },
     "metadata": {
      "needs_background": "light"
     },
     "output_type": "display_data"
    }
   ],
   "source": [
    "fig, ax = plt.subplots(1, 1, figsize=(10, 8))\n",
    "plot_roc(\n",
    "    y_test['h1n1_vaccine'], \n",
    "    pred_h1n1, \n",
    "    'h1n1_vaccine',\n",
    "    ax=ax\n",
    ")"
   ]
  },
  {
   "cell_type": "markdown",
   "metadata": {},
   "source": [
    "### Permutation Feature Importance"
   ]
  },
  {
   "cell_type": "code",
   "execution_count": 43,
   "metadata": {},
   "outputs": [
    {
     "data": {
      "image/png": "[encoded data removed]",
      "text/plain": [
       "<Figure size 1152x648 with 1 Axes>"
      ]
     },
     "metadata": {
      "needs_background": "light"
     },
     "output_type": "display_data"
    }
   ],
   "source": [
    "result1 = permutation_importance(\n",
    "    best_model_h1n1, X_test, y_test.h1n1_vaccine, n_repeats=10, random_state=42, n_jobs=2\n",
    ")\n",
    "sorted_idx = result1.importances_mean.argsort()\n",
    "fig, ax = plt.subplots(figsize=(16,9))\n",
    "ax.boxplot(\n",
    "    result1.importances[sorted_idx].T, vert=False, labels=X_test.columns[sorted_idx]\n",
    ")\n",
    "ax.set_title(\"Permutation Importances (test set)\")\n",
    "fig.tight_layout()\n",
    "plt.show()"
   ]
  },
  {
   "cell_type": "markdown",
   "metadata": {},
   "source": [
    "## Optuna - Seasonal Vaccine"
   ]
  },
  {
   "cell_type": "code",
   "execution_count": 48,
   "metadata": {},
   "outputs": [],
   "source": [
    "train_dataset_se = Pool(data=X_train,\n",
    "                     label=y_train.seasonal_vaccine,\n",
    "                     cat_features = categorical_features_indices)"
   ]
  },
  {
   "cell_type": "code",
   "execution_count": 49,
   "metadata": {},
   "outputs": [],
   "source": [
    "def objective2(trial):\n",
    "    param = {\n",
    "        'iterations':trial.suggest_categorical('iterations', [100,200,300,500,1000,1200,1500]),\n",
    "        'learning_rate':trial.suggest_float('learning_rate', 0.001, 0.3),\n",
    "        'random_strength':trial.suggest_int('random_strength', 1,10),\n",
    "        'bagging_temperature':trial.suggest_int('bagging_temperature', 0,10),\n",
    "        'max_bin':trial.suggest_categorical('max_bin', [4,5,6,8,10,20,30]),\n",
    "        'grow_policy':trial.suggest_categorical('grow_policy', ['SymmetricTree', 'Depthwise', 'Lossguide']),\n",
    "        'min_data_in_leaf':trial.suggest_int('min_data_in_leaf', 1,10),\n",
    "        'od_type' : \"Iter\",\n",
    "        'od_wait' : 100,\n",
    "        'depth': trial.suggest_int('max_depth', 2,10),\n",
    "        'l2_leaf_reg': trial.suggest_loguniform('l2_leaf_reg', 1e-8, 100),\n",
    "        'one_hot_max_size':trial.suggest_categorical('one_hot_max_size', [5,10,12,100,500,1024]),\n",
    "        'custom_metric' : ['AUC'],\n",
    "        'loss_function': \"Logloss\",\n",
    "        'auto_class_weights':trial.suggest_categorical('auto_class_weights', ['Balanced', 'SqrtBalanced']),\n",
    "        }\n",
    "\n",
    "    scores = cv(train_dataset_se,\n",
    "            param,\n",
    "            fold_count=5, \n",
    "            early_stopping_rounds=10,         \n",
    "            plot=False, verbose=False) \n",
    "\n",
    "    return scores['test-AUC-mean'].max()"
   ]
  },
  {
   "cell_type": "code",
   "execution_count": 50,
   "metadata": {
    "scrolled": true
   },
   "outputs": [
    {
     "name": "stderr",
     "output_type": "stream",
     "text": [
      "\u001b[32m[I 2022-01-27 20:30:27,908]\u001b[0m A new study created in memory with name: no-name-34a547f5-f2d9-482c-9df6-50e87a0b1dc8\u001b[0m\n"
     ]
    },
    {
     "name": "stdout",
     "output_type": "stream",
     "text": [
      "Training on fold [0/5]\n",
      "\n",
      "bestTest = 0.4748952616\n",
      "bestIteration = 609\n",
      "\n",
      "Training on fold [1/5]\n",
      "\n",
      "bestTest = 0.4635323442\n",
      "bestIteration = 620\n",
      "\n",
      "Training on fold [2/5]\n",
      "\n",
      "bestTest = 0.4644987313\n",
      "bestIteration = 520\n",
      "\n",
      "Training on fold [3/5]\n",
      "\n",
      "bestTest = 0.4525333453\n",
      "bestIteration = 729\n",
      "\n",
      "Training on fold [4/5]\n"
     ]
    },
    {
     "name": "stderr",
     "output_type": "stream",
     "text": [
      "\u001b[32m[I 2022-01-27 20:30:44,446]\u001b[0m Trial 0 finished with value: 0.8627580850168494 and parameters: {'iterations': 1500, 'learning_rate': 0.029356482739949695, 'random_strength': 8, 'bagging_temperature': 10, 'max_bin': 6, 'grow_policy': 'SymmetricTree', 'min_data_in_leaf': 1, 'max_depth': 4, 'l2_leaf_reg': 0.001991194871120998, 'one_hot_max_size': 100, 'auto_class_weights': 'SqrtBalanced'}. Best is trial 0 with value: 0.8627580850168494.\u001b[0m\n"
     ]
    },
    {
     "name": "stdout",
     "output_type": "stream",
     "text": [
      "\n",
      "bestTest = 0.4637033079\n",
      "bestIteration = 529\n",
      "\n",
      "Training on fold [0/5]\n",
      "\n",
      "bestTest = 0.4771464811\n",
      "bestIteration = 170\n",
      "\n",
      "Training on fold [1/5]\n",
      "\n",
      "bestTest = 0.4628947806\n",
      "bestIteration = 139\n",
      "\n",
      "Training on fold [2/5]\n",
      "\n",
      "bestTest = 0.4672504644\n",
      "bestIteration = 109\n",
      "\n",
      "Training on fold [3/5]\n",
      "\n",
      "bestTest = 0.4549376664\n",
      "bestIteration = 163\n",
      "\n",
      "Training on fold [4/5]\n"
     ]
    },
    {
     "name": "stderr",
     "output_type": "stream",
     "text": [
      "\u001b[32m[I 2022-01-27 20:30:48,671]\u001b[0m Trial 1 finished with value: 0.8611740222191514 and parameters: {'iterations': 200, 'learning_rate': 0.1464067066361795, 'random_strength': 10, 'bagging_temperature': 3, 'max_bin': 10, 'grow_policy': 'Depthwise', 'min_data_in_leaf': 1, 'max_depth': 3, 'l2_leaf_reg': 0.028402775147703313, 'one_hot_max_size': 500, 'auto_class_weights': 'SqrtBalanced'}. Best is trial 0 with value: 0.8627580850168494.\u001b[0m\n"
     ]
    },
    {
     "name": "stdout",
     "output_type": "stream",
     "text": [
      "\n",
      "bestTest = 0.4641225589\n",
      "bestIteration = 128\n",
      "\n",
      "Training on fold [0/5]\n",
      "\n",
      "bestTest = 0.4850772406\n",
      "bestIteration = 53\n",
      "\n",
      "Training on fold [1/5]\n",
      "\n",
      "bestTest = 0.4672937142\n",
      "bestIteration = 79\n",
      "\n",
      "Training on fold [2/5]\n",
      "\n",
      "bestTest = 0.4650299945\n",
      "bestIteration = 80\n",
      "\n",
      "Training on fold [3/5]\n",
      "\n",
      "bestTest = 0.4607614963\n",
      "bestIteration = 62\n",
      "\n",
      "Training on fold [4/5]\n"
     ]
    },
    {
     "name": "stderr",
     "output_type": "stream",
     "text": [
      "\u001b[32m[I 2022-01-27 20:31:05,506]\u001b[0m Trial 2 finished with value: 0.8590823235034692 and parameters: {'iterations': 200, 'learning_rate': 0.27287829596201946, 'random_strength': 8, 'bagging_temperature': 8, 'max_bin': 10, 'grow_policy': 'SymmetricTree', 'min_data_in_leaf': 1, 'max_depth': 5, 'l2_leaf_reg': 0.027330135035255495, 'one_hot_max_size': 10, 'auto_class_weights': 'SqrtBalanced'}. Best is trial 0 with value: 0.8627580850168494.\u001b[0m\n"
     ]
    },
    {
     "name": "stdout",
     "output_type": "stream",
     "text": [
      "\n",
      "bestTest = 0.4652331875\n",
      "bestIteration = 49\n",
      "\n",
      "Training on fold [0/5]\n",
      "\n",
      "bestTest = 0.4775745095\n",
      "bestIteration = 520\n",
      "\n",
      "Training on fold [1/5]\n",
      "\n",
      "bestTest = 0.4665665042\n",
      "bestIteration = 521\n",
      "\n",
      "Training on fold [2/5]\n",
      "\n",
      "bestTest = 0.4684350626\n",
      "bestIteration = 282\n",
      "\n",
      "Training on fold [3/5]\n",
      "\n",
      "bestTest = 0.4570215141\n",
      "bestIteration = 519\n",
      "\n",
      "Training on fold [4/5]\n"
     ]
    },
    {
     "name": "stderr",
     "output_type": "stream",
     "text": [
      "\u001b[32m[I 2022-01-27 20:31:48,662]\u001b[0m Trial 3 finished with value: 0.8606738103520618 and parameters: {'iterations': 1200, 'learning_rate': 0.0603209284932487, 'random_strength': 3, 'bagging_temperature': 7, 'max_bin': 4, 'grow_policy': 'SymmetricTree', 'min_data_in_leaf': 2, 'max_depth': 2, 'l2_leaf_reg': 1.300471404766049e-07, 'one_hot_max_size': 10, 'auto_class_weights': 'SqrtBalanced'}. Best is trial 0 with value: 0.8627580850168494.\u001b[0m\n"
     ]
    },
    {
     "name": "stdout",
     "output_type": "stream",
     "text": [
      "\n",
      "bestTest = 0.4655990405\n",
      "bestIteration = 536\n",
      "\n",
      "Training on fold [0/5]\n",
      "\n",
      "bestTest = 0.4791590112\n",
      "bestIteration = 88\n",
      "\n",
      "Training on fold [1/5]\n",
      "\n",
      "bestTest = 0.4719441984\n",
      "bestIteration = 64\n",
      "\n",
      "Training on fold [2/5]\n",
      "\n",
      "bestTest = 0.4669440659\n",
      "bestIteration = 81\n",
      "\n",
      "Training on fold [3/5]\n",
      "\n",
      "bestTest = 0.4572112713\n",
      "bestIteration = 96\n",
      "\n",
      "Training on fold [4/5]\n"
     ]
    },
    {
     "name": "stderr",
     "output_type": "stream",
     "text": [
      "\u001b[32m[I 2022-01-27 20:31:51,184]\u001b[0m Trial 4 finished with value: 0.8594257413241418 and parameters: {'iterations': 300, 'learning_rate': 0.22423670437233847, 'random_strength': 6, 'bagging_temperature': 2, 'max_bin': 30, 'grow_policy': 'SymmetricTree', 'min_data_in_leaf': 4, 'max_depth': 4, 'l2_leaf_reg': 0.00010293033487726667, 'one_hot_max_size': 500, 'auto_class_weights': 'SqrtBalanced'}. Best is trial 0 with value: 0.8627580850168494.\u001b[0m\n"
     ]
    },
    {
     "name": "stdout",
     "output_type": "stream",
     "text": [
      "\n",
      "bestTest = 0.4667886462\n",
      "bestIteration = 56\n",
      "\n",
      "Training on fold [0/5]\n",
      "\n",
      "bestTest = 0.5020764782\n",
      "bestIteration = 99\n",
      "\n",
      "Training on fold [1/5]\n",
      "\n",
      "bestTest = 0.4927437615\n",
      "bestIteration = 99\n",
      "\n",
      "Training on fold [2/5]\n",
      "\n",
      "bestTest = 0.4915870289\n",
      "bestIteration = 99\n",
      "\n",
      "Training on fold [3/5]\n",
      "\n",
      "bestTest = 0.4877444123\n",
      "bestIteration = 99\n",
      "\n",
      "Training on fold [4/5]\n"
     ]
    },
    {
     "name": "stderr",
     "output_type": "stream",
     "text": [
      "\u001b[32m[I 2022-01-27 20:31:53,780]\u001b[0m Trial 5 finished with value: 0.8498357379274741 and parameters: {'iterations': 100, 'learning_rate': 0.06628011038512191, 'random_strength': 4, 'bagging_temperature': 4, 'max_bin': 20, 'grow_policy': 'Lossguide', 'min_data_in_leaf': 3, 'max_depth': 2, 'l2_leaf_reg': 13.751833235431702, 'one_hot_max_size': 100, 'auto_class_weights': 'Balanced'}. Best is trial 0 with value: 0.8627580850168494.\u001b[0m\n"
     ]
    },
    {
     "name": "stdout",
     "output_type": "stream",
     "text": [
      "\n",
      "bestTest = 0.4880520278\n",
      "bestIteration = 99\n",
      "\n",
      "Training on fold [0/5]\n",
      "\n",
      "bestTest = 0.482551796\n",
      "bestIteration = 128\n",
      "\n",
      "Training on fold [1/5]\n",
      "\n",
      "bestTest = 0.4633644759\n",
      "bestIteration = 128\n",
      "\n",
      "Training on fold [2/5]\n",
      "\n",
      "bestTest = 0.470313187\n",
      "bestIteration = 113\n",
      "\n",
      "Training on fold [3/5]\n",
      "\n",
      "bestTest = 0.4612752081\n",
      "bestIteration = 104\n",
      "\n",
      "Training on fold [4/5]\n"
     ]
    },
    {
     "name": "stderr",
     "output_type": "stream",
     "text": [
      "\u001b[32m[I 2022-01-27 20:32:43,449]\u001b[0m Trial 6 finished with value: 0.8584395004042653 and parameters: {'iterations': 1200, 'learning_rate': 0.09658215406978513, 'random_strength': 8, 'bagging_temperature': 2, 'max_bin': 30, 'grow_policy': 'Depthwise', 'min_data_in_leaf': 6, 'max_depth': 10, 'l2_leaf_reg': 2.6558249848041764, 'one_hot_max_size': 5, 'auto_class_weights': 'SqrtBalanced'}. Best is trial 0 with value: 0.8627580850168494.\u001b[0m\n"
     ]
    },
    {
     "name": "stdout",
     "output_type": "stream",
     "text": [
      "\n",
      "bestTest = 0.4655649016\n",
      "bestIteration = 118\n",
      "\n",
      "Training on fold [0/5]\n",
      "\n",
      "bestTest = 0.477366831\n",
      "bestIteration = 120\n",
      "\n",
      "Training on fold [1/5]\n",
      "\n",
      "bestTest = 0.4639659695\n",
      "bestIteration = 114\n",
      "\n",
      "Training on fold [2/5]\n",
      "\n",
      "bestTest = 0.4655418245\n",
      "bestIteration = 120\n",
      "\n",
      "Training on fold [3/5]\n",
      "\n",
      "bestTest = 0.457549287\n",
      "bestIteration = 133\n",
      "\n",
      "Training on fold [4/5]\n"
     ]
    },
    {
     "name": "stderr",
     "output_type": "stream",
     "text": [
      "\u001b[32m[I 2022-01-27 20:32:47,000]\u001b[0m Trial 7 finished with value: 0.8611239739553932 and parameters: {'iterations': 500, 'learning_rate': 0.2714096381817127, 'random_strength': 4, 'bagging_temperature': 6, 'max_bin': 8, 'grow_policy': 'Depthwise', 'min_data_in_leaf': 1, 'max_depth': 2, 'l2_leaf_reg': 4.9369231964322795, 'one_hot_max_size': 1024, 'auto_class_weights': 'Balanced'}. Best is trial 0 with value: 0.8627580850168494.\u001b[0m\n"
     ]
    },
    {
     "name": "stdout",
     "output_type": "stream",
     "text": [
      "\n",
      "bestTest = 0.4646827757\n",
      "bestIteration = 124\n",
      "\n",
      "Training on fold [0/5]\n",
      "\n",
      "bestTest = 0.4786622074\n",
      "bestIteration = 125\n",
      "\n",
      "Training on fold [1/5]\n",
      "\n",
      "bestTest = 0.467580989\n",
      "bestIteration = 90\n",
      "\n",
      "Training on fold [2/5]\n",
      "\n",
      "bestTest = 0.4673626457\n",
      "bestIteration = 88\n",
      "\n",
      "Training on fold [3/5]\n",
      "\n",
      "bestTest = 0.4559778207\n",
      "bestIteration = 123\n",
      "\n",
      "Training on fold [4/5]\n"
     ]
    },
    {
     "name": "stderr",
     "output_type": "stream",
     "text": [
      "\u001b[32m[I 2022-01-27 20:32:50,181]\u001b[0m Trial 8 finished with value: 0.8592987798960422 and parameters: {'iterations': 1500, 'learning_rate': 0.2053434310118264, 'random_strength': 8, 'bagging_temperature': 0, 'max_bin': 20, 'grow_policy': 'Depthwise', 'min_data_in_leaf': 10, 'max_depth': 3, 'l2_leaf_reg': 9.501510078266123e-06, 'one_hot_max_size': 500, 'auto_class_weights': 'SqrtBalanced'}. Best is trial 0 with value: 0.8627580850168494.\u001b[0m\n"
     ]
    },
    {
     "name": "stdout",
     "output_type": "stream",
     "text": [
      "\n",
      "bestTest = 0.4698311916\n",
      "bestIteration = 73\n",
      "\n",
      "Training on fold [0/5]\n",
      "\n",
      "bestTest = 0.4875586496\n",
      "bestIteration = 29\n",
      "\n",
      "Training on fold [1/5]\n",
      "\n",
      "bestTest = 0.4762643189\n",
      "bestIteration = 39\n",
      "\n",
      "Training on fold [2/5]\n",
      "\n",
      "bestTest = 0.47659538\n",
      "bestIteration = 21\n",
      "\n",
      "Training on fold [3/5]\n",
      "\n",
      "bestTest = 0.4693572586\n",
      "bestIteration = 45\n",
      "\n",
      "Training on fold [4/5]\n"
     ]
    },
    {
     "name": "stderr",
     "output_type": "stream",
     "text": [
      "\u001b[32m[I 2022-01-27 20:33:36,132]\u001b[0m Trial 9 finished with value: 0.8542211247023589 and parameters: {'iterations': 100, 'learning_rate': 0.25900665720714294, 'random_strength': 3, 'bagging_temperature': 0, 'max_bin': 6, 'grow_policy': 'Lossguide', 'min_data_in_leaf': 8, 'max_depth': 7, 'l2_leaf_reg': 1.1694576328936887e-07, 'one_hot_max_size': 12, 'auto_class_weights': 'SqrtBalanced'}. Best is trial 0 with value: 0.8627580850168494.\u001b[0m\n"
     ]
    },
    {
     "name": "stdout",
     "output_type": "stream",
     "text": [
      "\n",
      "bestTest = 0.4729975379\n",
      "bestIteration = 50\n",
      "\n",
      "Training on fold [0/5]\n",
      "\n",
      "bestTest = 0.4826327795\n",
      "bestIteration = 1495\n",
      "\n",
      "Training on fold [1/5]\n",
      "\n",
      "bestTest = 0.4711192687\n",
      "bestIteration = 1499\n",
      "\n",
      "Training on fold [2/5]\n",
      "\n",
      "bestTest = 0.4751597318\n",
      "bestIteration = 1371\n",
      "\n",
      "Training on fold [3/5]\n",
      "\n",
      "bestTest = 0.4656827279\n",
      "bestIteration = 1497\n",
      "\n",
      "Training on fold [4/5]\n"
     ]
    },
    {
     "name": "stderr",
     "output_type": "stream",
     "text": [
      "\u001b[32m[I 2022-01-27 20:34:28,762]\u001b[0m Trial 10 finished with value: 0.858646654559599 and parameters: {'iterations': 1500, 'learning_rate': 0.006050647464439618, 'random_strength': 10, 'bagging_temperature': 10, 'max_bin': 6, 'grow_policy': 'SymmetricTree', 'min_data_in_leaf': 6, 'max_depth': 7, 'l2_leaf_reg': 0.007150186521078341, 'one_hot_max_size': 100, 'auto_class_weights': 'Balanced'}. Best is trial 0 with value: 0.8627580850168494.\u001b[0m\n"
     ]
    },
    {
     "name": "stdout",
     "output_type": "stream",
     "text": [
      "\n",
      "bestTest = 0.4687543682\n",
      "bestIteration = 1495\n",
      "\n",
      "Training on fold [0/5]\n",
      "\n",
      "bestTest = 0.4820489868\n",
      "bestIteration = 107\n",
      "\n",
      "Training on fold [1/5]\n",
      "\n",
      "bestTest = 0.4695961622\n",
      "bestIteration = 118\n",
      "\n",
      "Training on fold [2/5]\n",
      "\n",
      "bestTest = 0.4646838003\n",
      "bestIteration = 111\n",
      "\n",
      "Training on fold [3/5]\n",
      "\n",
      "bestTest = 0.4572927967\n",
      "bestIteration = 100\n",
      "\n",
      "Training on fold [4/5]\n"
     ]
    },
    {
     "name": "stderr",
     "output_type": "stream",
     "text": [
      "\u001b[32m[I 2022-01-27 20:34:33,650]\u001b[0m Trial 11 finished with value: 0.8588830117499345 and parameters: {'iterations': 200, 'learning_rate': 0.13750920329129512, 'random_strength': 10, 'bagging_temperature': 4, 'max_bin': 5, 'grow_policy': 'Depthwise', 'min_data_in_leaf': 4, 'max_depth': 5, 'l2_leaf_reg': 0.06857418244454487, 'one_hot_max_size': 100, 'auto_class_weights': 'SqrtBalanced'}. Best is trial 0 with value: 0.8627580850168494.\u001b[0m\n"
     ]
    },
    {
     "name": "stdout",
     "output_type": "stream",
     "text": [
      "\n",
      "bestTest = 0.4683737821\n",
      "bestIteration = 107\n",
      "\n",
      "Training on fold [0/5]\n",
      "\n",
      "bestTest = 0.4834239839\n",
      "bestIteration = 94\n",
      "\n",
      "Training on fold [1/5]\n",
      "\n",
      "bestTest = 0.4703926808\n",
      "bestIteration = 91\n",
      "\n",
      "Training on fold [2/5]\n",
      "\n",
      "bestTest = 0.4658457411\n",
      "bestIteration = 87\n",
      "\n",
      "Training on fold [3/5]\n",
      "\n",
      "bestTest = 0.4591433679\n",
      "bestIteration = 85\n",
      "\n",
      "Training on fold [4/5]\n"
     ]
    },
    {
     "name": "stderr",
     "output_type": "stream",
     "text": [
      "\u001b[32m[I 2022-01-27 20:34:37,154]\u001b[0m Trial 12 finished with value: 0.8586543273365901 and parameters: {'iterations': 1000, 'learning_rate': 0.16136188689816064, 'random_strength': 7, 'bagging_temperature': 10, 'max_bin': 10, 'grow_policy': 'Depthwise', 'min_data_in_leaf': 1, 'max_depth': 4, 'l2_leaf_reg': 0.00013028549097931553, 'one_hot_max_size': 500, 'auto_class_weights': 'SqrtBalanced'}. Best is trial 0 with value: 0.8627580850168494.\u001b[0m\n"
     ]
    },
    {
     "name": "stdout",
     "output_type": "stream",
     "text": [
      "\n",
      "bestTest = 0.4668607887\n",
      "bestIteration = 90\n",
      "\n",
      "Training on fold [0/5]\n",
      "\n",
      "bestTest = 0.4878735862\n",
      "bestIteration = 199\n",
      "\n",
      "Training on fold [1/5]\n",
      "\n",
      "bestTest = 0.4792717157\n",
      "bestIteration = 199\n",
      "\n",
      "Training on fold [2/5]\n",
      "\n",
      "bestTest = 0.4756771724\n",
      "bestIteration = 199\n",
      "\n",
      "Training on fold [3/5]\n",
      "\n",
      "bestTest = 0.4725771929\n",
      "bestIteration = 199\n",
      "\n",
      "Training on fold [4/5]\n"
     ]
    },
    {
     "name": "stderr",
     "output_type": "stream",
     "text": [
      "\u001b[32m[I 2022-01-27 20:34:44,369]\u001b[0m Trial 13 finished with value: 0.85679782726342 and parameters: {'iterations': 200, 'learning_rate': 0.015312092326589866, 'random_strength': 1, 'bagging_temperature': 3, 'max_bin': 6, 'grow_policy': 'SymmetricTree', 'min_data_in_leaf': 3, 'max_depth': 6, 'l2_leaf_reg': 0.21656942139045643, 'one_hot_max_size': 1024, 'auto_class_weights': 'SqrtBalanced'}. Best is trial 0 with value: 0.8627580850168494.\u001b[0m\n"
     ]
    },
    {
     "name": "stdout",
     "output_type": "stream",
     "text": [
      "\n",
      "bestTest = 0.4773935453\n",
      "bestIteration = 199\n",
      "\n",
      "Training on fold [0/5]\n",
      "\n",
      "bestTest = 0.4828377643\n",
      "bestIteration = 104\n",
      "\n",
      "Training on fold [1/5]\n",
      "\n",
      "bestTest = 0.4713406209\n",
      "bestIteration = 109\n",
      "\n",
      "Training on fold [2/5]\n",
      "\n",
      "bestTest = 0.4744546723\n",
      "bestIteration = 98\n",
      "\n",
      "Training on fold [3/5]\n",
      "\n",
      "bestTest = 0.4597730447\n",
      "bestIteration = 98\n",
      "\n",
      "Training on fold [4/5]\n"
     ]
    },
    {
     "name": "stderr",
     "output_type": "stream",
     "text": [
      "\u001b[32m[I 2022-01-27 20:36:45,137]\u001b[0m Trial 14 finished with value: 0.8572509900857804 and parameters: {'iterations': 1500, 'learning_rate': 0.14690216116501453, 'random_strength': 10, 'bagging_temperature': 8, 'max_bin': 10, 'grow_policy': 'Lossguide', 'min_data_in_leaf': 3, 'max_depth': 9, 'l2_leaf_reg': 0.0012700604558864655, 'one_hot_max_size': 5, 'auto_class_weights': 'Balanced'}. Best is trial 0 with value: 0.8627580850168494.\u001b[0m\n"
     ]
    },
    {
     "name": "stdout",
     "output_type": "stream",
     "text": [
      "\n",
      "bestTest = 0.4681899698\n",
      "bestIteration = 101\n",
      "\n",
      "Training on fold [0/5]\n",
      "\n",
      "bestTest = 0.4782071923\n",
      "bestIteration = 143\n",
      "\n",
      "Training on fold [1/5]\n",
      "\n",
      "bestTest = 0.467021288\n",
      "bestIteration = 164\n",
      "\n",
      "Training on fold [2/5]\n",
      "\n",
      "bestTest = 0.4620046656\n",
      "bestIteration = 170\n",
      "\n",
      "Training on fold [3/5]\n",
      "\n",
      "bestTest = 0.4545277016\n",
      "bestIteration = 153\n",
      "\n",
      "Training on fold [4/5]\n"
     ]
    },
    {
     "name": "stderr",
     "output_type": "stream",
     "text": [
      "\u001b[32m[I 2022-01-27 20:37:09,797]\u001b[0m Trial 15 finished with value: 0.8609508641636907 and parameters: {'iterations': 500, 'learning_rate': 0.10902072034609422, 'random_strength': 9, 'bagging_temperature': 5, 'max_bin': 4, 'grow_policy': 'Depthwise', 'min_data_in_leaf': 5, 'max_depth': 4, 'l2_leaf_reg': 9.46314667205651e-06, 'one_hot_max_size': 12, 'auto_class_weights': 'SqrtBalanced'}. Best is trial 0 with value: 0.8627580850168494.\u001b[0m\n"
     ]
    },
    {
     "name": "stdout",
     "output_type": "stream",
     "text": [
      "\n",
      "bestTest = 0.4661948129\n",
      "bestIteration = 161\n",
      "\n",
      "Training on fold [0/5]\n",
      "\n",
      "bestTest = 0.4784425806\n",
      "bestIteration = 103\n",
      "\n",
      "Training on fold [1/5]\n",
      "\n",
      "bestTest = 0.4665572667\n",
      "bestIteration = 108\n",
      "\n",
      "Training on fold [2/5]\n",
      "\n",
      "bestTest = 0.4676947113\n",
      "bestIteration = 89\n",
      "\n",
      "Training on fold [3/5]\n",
      "\n",
      "bestTest = 0.4559436083\n",
      "bestIteration = 124\n",
      "\n",
      "Training on fold [4/5]\n"
     ]
    },
    {
     "name": "stderr",
     "output_type": "stream",
     "text": [
      "\u001b[32m[I 2022-01-27 20:37:12,832]\u001b[0m Trial 16 finished with value: 0.8603481538249709 and parameters: {'iterations': 300, 'learning_rate': 0.18724782574165397, 'random_strength': 6, 'bagging_temperature': 2, 'max_bin': 8, 'grow_policy': 'SymmetricTree', 'min_data_in_leaf': 8, 'max_depth': 3, 'l2_leaf_reg': 0.002044181008008903, 'one_hot_max_size': 500, 'auto_class_weights': 'SqrtBalanced'}. Best is trial 0 with value: 0.8627580850168494.\u001b[0m\n"
     ]
    },
    {
     "name": "stdout",
     "output_type": "stream",
     "text": [
      "\n",
      "bestTest = 0.4650553299\n",
      "bestIteration = 142\n",
      "\n",
      "Training on fold [0/5]\n",
      "\n",
      "bestTest = 0.4749212253\n",
      "bestIteration = 329\n",
      "\n",
      "Training on fold [1/5]\n",
      "\n",
      "bestTest = 0.4635231471\n",
      "bestIteration = 334\n",
      "\n",
      "Training on fold [2/5]\n",
      "\n",
      "bestTest = 0.460528606\n",
      "bestIteration = 352\n",
      "\n",
      "Training on fold [3/5]\n",
      "\n",
      "bestTest = 0.4507803849\n",
      "bestIteration = 416\n",
      "\n",
      "Training on fold [4/5]\n"
     ]
    },
    {
     "name": "stderr",
     "output_type": "stream",
     "text": [
      "\u001b[32m[I 2022-01-27 20:37:24,934]\u001b[0m Trial 17 finished with value: 0.8631714834013792 and parameters: {'iterations': 1000, 'learning_rate': 0.049633505636177605, 'random_strength': 9, 'bagging_temperature': 6, 'max_bin': 5, 'grow_policy': 'SymmetricTree', 'min_data_in_leaf': 2, 'max_depth': 6, 'l2_leaf_reg': 0.4780668252251499, 'one_hot_max_size': 100, 'auto_class_weights': 'SqrtBalanced'}. Best is trial 17 with value: 0.8631714834013792.\u001b[0m\n"
     ]
    },
    {
     "name": "stdout",
     "output_type": "stream",
     "text": [
      "\n",
      "bestTest = 0.4606393565\n",
      "bestIteration = 290\n",
      "\n",
      "Training on fold [0/5]\n",
      "\n",
      "bestTest = 0.4730461685\n",
      "bestIteration = 421\n",
      "\n",
      "Training on fold [1/5]\n",
      "\n",
      "bestTest = 0.4633375647\n",
      "bestIteration = 380\n",
      "\n",
      "Training on fold [2/5]\n",
      "\n",
      "bestTest = 0.4613829303\n",
      "bestIteration = 426\n",
      "\n",
      "Training on fold [3/5]\n",
      "\n",
      "bestTest = 0.4502674884\n",
      "bestIteration = 548\n",
      "\n",
      "Training on fold [4/5]\n"
     ]
    },
    {
     "name": "stderr",
     "output_type": "stream",
     "text": [
      "\u001b[32m[I 2022-01-27 20:37:45,606]\u001b[0m Trial 18 finished with value: 0.8641042075455369 and parameters: {'iterations': 1000, 'learning_rate': 0.040343063238085314, 'random_strength': 7, 'bagging_temperature': 9, 'max_bin': 5, 'grow_policy': 'SymmetricTree', 'min_data_in_leaf': 2, 'max_depth': 8, 'l2_leaf_reg': 87.51650927197507, 'one_hot_max_size': 100, 'auto_class_weights': 'Balanced'}. Best is trial 18 with value: 0.8641042075455369.\u001b[0m\n"
     ]
    },
    {
     "name": "stdout",
     "output_type": "stream",
     "text": [
      "\n",
      "bestTest = 0.4592782971\n",
      "bestIteration = 448\n",
      "\n",
      "Training on fold [0/5]\n",
      "\n",
      "bestTest = 0.4721585093\n",
      "bestIteration = 354\n",
      "\n",
      "Training on fold [1/5]\n",
      "\n",
      "bestTest = 0.4623671663\n",
      "bestIteration = 334\n",
      "\n",
      "Training on fold [2/5]\n",
      "\n",
      "bestTest = 0.4626100813\n",
      "bestIteration = 343\n",
      "\n",
      "Training on fold [3/5]\n",
      "\n",
      "bestTest = 0.4508784715\n",
      "bestIteration = 419\n",
      "\n",
      "Training on fold [4/5]\n"
     ]
    },
    {
     "name": "stderr",
     "output_type": "stream",
     "text": [
      "\u001b[32m[I 2022-01-27 20:38:02,919]\u001b[0m Trial 19 finished with value: 0.8638564070722827 and parameters: {'iterations': 1000, 'learning_rate': 0.05235643959322728, 'random_strength': 7, 'bagging_temperature': 8, 'max_bin': 5, 'grow_policy': 'SymmetricTree', 'min_data_in_leaf': 5, 'max_depth': 8, 'l2_leaf_reg': 99.11695455168547, 'one_hot_max_size': 100, 'auto_class_weights': 'Balanced'}. Best is trial 18 with value: 0.8641042075455369.\u001b[0m\n"
     ]
    },
    {
     "name": "stdout",
     "output_type": "stream",
     "text": [
      "\n",
      "bestTest = 0.4599893048\n",
      "bestIteration = 322\n",
      "\n",
      "Training on fold [0/5]\n",
      "\n",
      "bestTest = 0.4739774034\n",
      "bestIteration = 166\n",
      "\n",
      "Training on fold [1/5]\n",
      "\n",
      "bestTest = 0.4617594557\n",
      "bestIteration = 195\n",
      "\n",
      "Training on fold [2/5]\n",
      "\n",
      "bestTest = 0.4618301291\n",
      "bestIteration = 179\n",
      "\n",
      "Training on fold [3/5]\n",
      "\n",
      "bestTest = 0.4545295079\n",
      "bestIteration = 150\n",
      "\n",
      "Training on fold [4/5]\n"
     ]
    },
    {
     "name": "stderr",
     "output_type": "stream",
     "text": [
      "\u001b[32m[I 2022-01-27 20:38:12,027]\u001b[0m Trial 20 finished with value: 0.8634330226542218 and parameters: {'iterations': 1000, 'learning_rate': 0.09513730589371244, 'random_strength': 5, 'bagging_temperature': 8, 'max_bin': 5, 'grow_policy': 'SymmetricTree', 'min_data_in_leaf': 8, 'max_depth': 8, 'l2_leaf_reg': 90.56559174112061, 'one_hot_max_size': 100, 'auto_class_weights': 'Balanced'}. Best is trial 18 with value: 0.8641042075455369.\u001b[0m\n"
     ]
    },
    {
     "name": "stdout",
     "output_type": "stream",
     "text": [
      "\n",
      "bestTest = 0.4604473951\n",
      "bestIteration = 167\n",
      "\n",
      "Training on fold [0/5]\n",
      "\n",
      "bestTest = 0.4729144591\n",
      "bestIteration = 177\n",
      "\n",
      "Training on fold [1/5]\n",
      "\n",
      "bestTest = 0.4623367038\n",
      "bestIteration = 201\n",
      "\n",
      "Training on fold [2/5]\n",
      "\n",
      "bestTest = 0.460244771\n",
      "bestIteration = 245\n",
      "\n",
      "Training on fold [3/5]\n",
      "\n",
      "bestTest = 0.4509554178\n",
      "bestIteration = 218\n",
      "\n",
      "Training on fold [4/5]\n"
     ]
    },
    {
     "name": "stderr",
     "output_type": "stream",
     "text": [
      "\u001b[32m[I 2022-01-27 20:38:22,331]\u001b[0m Trial 21 finished with value: 0.8638930565420887 and parameters: {'iterations': 1000, 'learning_rate': 0.09441898044121402, 'random_strength': 5, 'bagging_temperature': 8, 'max_bin': 5, 'grow_policy': 'SymmetricTree', 'min_data_in_leaf': 8, 'max_depth': 8, 'l2_leaf_reg': 98.73471636156114, 'one_hot_max_size': 100, 'auto_class_weights': 'Balanced'}. Best is trial 18 with value: 0.8641042075455369.\u001b[0m\n"
     ]
    },
    {
     "name": "stdout",
     "output_type": "stream",
     "text": [
      "\n",
      "bestTest = 0.4607724896\n",
      "bestIteration = 182\n",
      "\n",
      "Training on fold [0/5]\n",
      "\n",
      "bestTest = 0.4739687977\n",
      "bestIteration = 207\n",
      "\n",
      "Training on fold [1/5]\n",
      "\n",
      "bestTest = 0.4628342627\n",
      "bestIteration = 213\n",
      "\n",
      "Training on fold [2/5]\n",
      "\n",
      "bestTest = 0.4620078841\n",
      "bestIteration = 224\n",
      "\n",
      "Training on fold [3/5]\n",
      "\n",
      "bestTest = 0.4503564781\n",
      "bestIteration = 274\n",
      "\n",
      "Training on fold [4/5]\n"
     ]
    },
    {
     "name": "stderr",
     "output_type": "stream",
     "text": [
      "\u001b[32m[I 2022-01-27 20:38:36,482]\u001b[0m Trial 22 finished with value: 0.8632808189444248 and parameters: {'iterations': 1000, 'learning_rate': 0.07688467875886079, 'random_strength': 7, 'bagging_temperature': 9, 'max_bin': 5, 'grow_policy': 'SymmetricTree', 'min_data_in_leaf': 7, 'max_depth': 9, 'l2_leaf_reg': 91.69888044928044, 'one_hot_max_size': 100, 'auto_class_weights': 'Balanced'}. Best is trial 18 with value: 0.8641042075455369.\u001b[0m\n"
     ]
    },
    {
     "name": "stdout",
     "output_type": "stream",
     "text": [
      "\n",
      "bestTest = 0.463113335\n",
      "bestIteration = 226\n",
      "\n",
      "Training on fold [0/5]\n",
      "\n",
      "bestTest = 0.4739771821\n",
      "bestIteration = 344\n",
      "\n",
      "Training on fold [1/5]\n",
      "\n",
      "bestTest = 0.462731463\n",
      "bestIteration = 422\n",
      "\n",
      "Training on fold [2/5]\n",
      "\n",
      "bestTest = 0.460766233\n",
      "bestIteration = 372\n",
      "\n",
      "Training on fold [3/5]\n",
      "\n",
      "bestTest = 0.4506518166\n",
      "bestIteration = 406\n",
      "\n",
      "Training on fold [4/5]\n"
     ]
    },
    {
     "name": "stderr",
     "output_type": "stream",
     "text": [
      "\u001b[32m[I 2022-01-27 20:38:55,029]\u001b[0m Trial 23 finished with value: 0.86379915971164 and parameters: {'iterations': 1000, 'learning_rate': 0.04005862366031986, 'random_strength': 5, 'bagging_temperature': 9, 'max_bin': 5, 'grow_policy': 'SymmetricTree', 'min_data_in_leaf': 9, 'max_depth': 8, 'l2_leaf_reg': 16.318715042880733, 'one_hot_max_size': 100, 'auto_class_weights': 'Balanced'}. Best is trial 18 with value: 0.8641042075455369.\u001b[0m\n"
     ]
    },
    {
     "name": "stdout",
     "output_type": "stream",
     "text": [
      "\n",
      "bestTest = 0.460753233\n",
      "bestIteration = 360\n",
      "\n",
      "Training on fold [0/5]\n",
      "\n",
      "bestTest = 0.4833432886\n",
      "bestIteration = 69\n",
      "\n",
      "Training on fold [1/5]\n",
      "\n",
      "bestTest = 0.4676300075\n",
      "bestIteration = 92\n",
      "\n",
      "Training on fold [2/5]\n",
      "\n",
      "bestTest = 0.4702159828\n",
      "bestIteration = 94\n",
      "\n",
      "Training on fold [3/5]\n",
      "\n",
      "bestTest = 0.4543314676\n",
      "bestIteration = 118\n",
      "\n",
      "Training on fold [4/5]\n"
     ]
    },
    {
     "name": "stderr",
     "output_type": "stream",
     "text": [
      "\u001b[32m[I 2022-01-27 20:39:00,910]\u001b[0m Trial 24 finished with value: 0.8595104702556275 and parameters: {'iterations': 1000, 'learning_rate': 0.11612659206343381, 'random_strength': 7, 'bagging_temperature': 7, 'max_bin': 5, 'grow_policy': 'SymmetricTree', 'min_data_in_leaf': 5, 'max_depth': 8, 'l2_leaf_reg': 1.21575619956532, 'one_hot_max_size': 100, 'auto_class_weights': 'Balanced'}. Best is trial 18 with value: 0.8641042075455369.\u001b[0m\n"
     ]
    },
    {
     "name": "stdout",
     "output_type": "stream",
     "text": [
      "\n",
      "bestTest = 0.4643379327\n",
      "bestIteration = 128\n",
      "\n",
      "Training on fold [0/5]\n",
      "\n",
      "bestTest = 0.4755329424\n",
      "bestIteration = 164\n",
      "\n",
      "Training on fold [1/5]\n",
      "\n",
      "bestTest = 0.4655922374\n",
      "bestIteration = 166\n",
      "\n",
      "Training on fold [2/5]\n",
      "\n",
      "bestTest = 0.4630070103\n",
      "bestIteration = 222\n",
      "\n",
      "Training on fold [3/5]\n",
      "\n",
      "bestTest = 0.45027909\n",
      "bestIteration = 212\n",
      "\n",
      "Training on fold [4/5]\n"
     ]
    },
    {
     "name": "stderr",
     "output_type": "stream",
     "text": [
      "\u001b[32m[I 2022-01-27 20:39:16,363]\u001b[0m Trial 25 finished with value: 0.8628473158611143 and parameters: {'iterations': 1000, 'learning_rate': 0.0790212971445058, 'random_strength': 6, 'bagging_temperature': 9, 'max_bin': 5, 'grow_policy': 'SymmetricTree', 'min_data_in_leaf': 7, 'max_depth': 10, 'l2_leaf_reg': 24.626076631537728, 'one_hot_max_size': 100, 'auto_class_weights': 'Balanced'}. Best is trial 18 with value: 0.8641042075455369.\u001b[0m\n"
     ]
    },
    {
     "name": "stdout",
     "output_type": "stream",
     "text": [
      "\n",
      "bestTest = 0.4598101146\n",
      "bestIteration = 163\n",
      "\n",
      "Training on fold [0/5]\n",
      "\n",
      "bestTest = 0.4724740395\n",
      "bestIteration = 481\n",
      "\n",
      "Training on fold [1/5]\n",
      "\n",
      "bestTest = 0.4610224434\n",
      "bestIteration = 560\n",
      "\n",
      "Training on fold [2/5]\n",
      "\n",
      "bestTest = 0.461652193\n",
      "bestIteration = 451\n",
      "\n",
      "Training on fold [3/5]\n",
      "\n",
      "bestTest = 0.4503963552\n",
      "bestIteration = 568\n",
      "\n",
      "Training on fold [4/5]\n"
     ]
    },
    {
     "name": "stderr",
     "output_type": "stream",
     "text": [
      "\u001b[32m[I 2022-01-27 20:39:43,186]\u001b[0m Trial 26 finished with value: 0.8643163209172358 and parameters: {'iterations': 1000, 'learning_rate': 0.029825923096093006, 'random_strength': 4, 'bagging_temperature': 7, 'max_bin': 5, 'grow_policy': 'Lossguide', 'min_data_in_leaf': 10, 'max_depth': 7, 'l2_leaf_reg': 96.07024350178433, 'one_hot_max_size': 100, 'auto_class_weights': 'Balanced'}. Best is trial 26 with value: 0.8643163209172358.\u001b[0m\n"
     ]
    },
    {
     "name": "stdout",
     "output_type": "stream",
     "text": [
      "\n",
      "bestTest = 0.4602416847\n",
      "bestIteration = 476\n",
      "\n",
      "Training on fold [0/5]\n",
      "\n",
      "bestTest = 0.4734473628\n",
      "bestIteration = 514\n",
      "\n",
      "Training on fold [1/5]\n",
      "\n",
      "bestTest = 0.4614885195\n",
      "bestIteration = 567\n",
      "\n",
      "Training on fold [2/5]\n",
      "\n",
      "bestTest = 0.4644399223\n",
      "bestIteration = 388\n",
      "\n",
      "Training on fold [3/5]\n",
      "\n",
      "bestTest = 0.4498991604\n",
      "bestIteration = 476\n",
      "\n",
      "Training on fold [4/5]\n"
     ]
    },
    {
     "name": "stderr",
     "output_type": "stream",
     "text": [
      "\u001b[32m[I 2022-01-27 20:48:05,393]\u001b[0m Trial 27 finished with value: 0.8638223629017556 and parameters: {'iterations': 1000, 'learning_rate': 0.024578990218377034, 'random_strength': 2, 'bagging_temperature': 7, 'max_bin': 5, 'grow_policy': 'Lossguide', 'min_data_in_leaf': 10, 'max_depth': 7, 'l2_leaf_reg': 4.221458204769845, 'one_hot_max_size': 12, 'auto_class_weights': 'Balanced'}. Best is trial 26 with value: 0.8643163209172358.\u001b[0m\n"
     ]
    },
    {
     "name": "stdout",
     "output_type": "stream",
     "text": [
      "\n",
      "bestTest = 0.4608138273\n",
      "bestIteration = 503\n",
      "\n",
      "Training on fold [0/5]\n",
      "\n",
      "bestTest = 0.4853544619\n",
      "bestIteration = 999\n",
      "\n",
      "Training on fold [1/5]\n",
      "\n",
      "bestTest = 0.4767482477\n",
      "bestIteration = 999\n",
      "\n",
      "Training on fold [2/5]\n",
      "\n",
      "bestTest = 0.4744012869\n",
      "bestIteration = 999\n",
      "\n",
      "Training on fold [3/5]\n",
      "\n",
      "bestTest = 0.4680316693\n",
      "bestIteration = 999\n",
      "\n",
      "Training on fold [4/5]\n"
     ]
    },
    {
     "name": "stderr",
     "output_type": "stream",
     "text": [
      "\u001b[32m[I 2022-01-27 21:02:47,066]\u001b[0m Trial 28 finished with value: 0.8585647212843306 and parameters: {'iterations': 1000, 'learning_rate': 0.00558037108948542, 'random_strength': 4, 'bagging_temperature': 6, 'max_bin': 5, 'grow_policy': 'Lossguide', 'min_data_in_leaf': 9, 'max_depth': 6, 'l2_leaf_reg': 0.47230055820807965, 'one_hot_max_size': 5, 'auto_class_weights': 'Balanced'}. Best is trial 26 with value: 0.8643163209172358.\u001b[0m\n"
     ]
    },
    {
     "name": "stdout",
     "output_type": "stream",
     "text": [
      "\n",
      "bestTest = 0.4747990779\n",
      "bestIteration = 999\n",
      "\n",
      "Training on fold [0/5]\n",
      "\n",
      "bestTest = 0.4713079697\n",
      "bestIteration = 533\n",
      "\n",
      "Training on fold [1/5]\n",
      "\n",
      "bestTest = 0.4623970813\n",
      "bestIteration = 446\n",
      "\n",
      "Training on fold [2/5]\n",
      "\n",
      "bestTest = 0.4612075706\n",
      "bestIteration = 459\n",
      "\n",
      "Training on fold [3/5]\n",
      "\n",
      "bestTest = 0.4511521597\n",
      "bestIteration = 503\n",
      "\n",
      "Training on fold [4/5]\n"
     ]
    },
    {
     "name": "stderr",
     "output_type": "stream",
     "text": [
      "\u001b[32m[I 2022-01-27 21:03:13,413]\u001b[0m Trial 29 finished with value: 0.8640815107906533 and parameters: {'iterations': 1000, 'learning_rate': 0.032747749334154246, 'random_strength': 5, 'bagging_temperature': 10, 'max_bin': 5, 'grow_policy': 'Lossguide', 'min_data_in_leaf': 10, 'max_depth': 9, 'l2_leaf_reg': 18.57962015993573, 'one_hot_max_size': 100, 'auto_class_weights': 'Balanced'}. Best is trial 26 with value: 0.8643163209172358.\u001b[0m\n"
     ]
    },
    {
     "name": "stdout",
     "output_type": "stream",
     "text": [
      "\n",
      "bestTest = 0.4605626243\n",
      "bestIteration = 429\n",
      "\n",
      "Training on fold [0/5]\n",
      "\n",
      "bestTest = 0.4724510367\n",
      "bestIteration = 514\n",
      "\n",
      "Training on fold [1/5]\n",
      "\n",
      "bestTest = 0.4606802758\n",
      "bestIteration = 411\n",
      "\n",
      "Training on fold [2/5]\n",
      "\n",
      "bestTest = 0.4619566685\n",
      "bestIteration = 351\n",
      "\n",
      "Training on fold [3/5]\n",
      "\n",
      "bestTest = 0.4486409331\n",
      "bestIteration = 428\n",
      "\n",
      "Training on fold [4/5]\n"
     ]
    },
    {
     "name": "stderr",
     "output_type": "stream",
     "text": [
      "\u001b[32m[I 2022-01-27 21:11:03,370]\u001b[0m Trial 30 finished with value: 0.864686573317728 and parameters: {'iterations': 1200, 'learning_rate': 0.03327815917148751, 'random_strength': 2, 'bagging_temperature': 10, 'max_bin': 30, 'grow_policy': 'Lossguide', 'min_data_in_leaf': 9, 'max_depth': 9, 'l2_leaf_reg': 13.041650670725405, 'one_hot_max_size': 10, 'auto_class_weights': 'Balanced'}. Best is trial 30 with value: 0.864686573317728.\u001b[0m\n"
     ]
    },
    {
     "name": "stdout",
     "output_type": "stream",
     "text": [
      "\n",
      "bestTest = 0.4599300398\n",
      "bestIteration = 359\n",
      "\n",
      "Training on fold [0/5]\n",
      "\n",
      "bestTest = 0.4727472552\n",
      "bestIteration = 441\n",
      "\n",
      "Training on fold [1/5]\n",
      "\n",
      "bestTest = 0.4630922013\n",
      "bestIteration = 445\n",
      "\n",
      "Training on fold [2/5]\n",
      "\n",
      "bestTest = 0.4615031201\n",
      "bestIteration = 452\n",
      "\n",
      "Training on fold [3/5]\n",
      "\n",
      "bestTest = 0.4484945413\n",
      "bestIteration = 450\n",
      "\n",
      "Training on fold [4/5]\n"
     ]
    },
    {
     "name": "stderr",
     "output_type": "stream",
     "text": [
      "\u001b[32m[I 2022-01-27 21:19:42,896]\u001b[0m Trial 31 finished with value: 0.8641535930764295 and parameters: {'iterations': 1200, 'learning_rate': 0.02648745798698701, 'random_strength': 1, 'bagging_temperature': 10, 'max_bin': 30, 'grow_policy': 'Lossguide', 'min_data_in_leaf': 10, 'max_depth': 9, 'l2_leaf_reg': 14.475515503203349, 'one_hot_max_size': 10, 'auto_class_weights': 'Balanced'}. Best is trial 30 with value: 0.864686573317728.\u001b[0m\n"
     ]
    },
    {
     "name": "stdout",
     "output_type": "stream",
     "text": [
      "\n",
      "bestTest = 0.4619671133\n",
      "bestIteration = 401\n",
      "\n",
      "Training on fold [0/5]\n",
      "\n",
      "bestTest = 0.4748706379\n",
      "bestIteration = 348\n",
      "\n",
      "Training on fold [1/5]\n",
      "\n",
      "bestTest = 0.4628243098\n",
      "bestIteration = 359\n",
      "\n",
      "Training on fold [2/5]\n",
      "\n",
      "bestTest = 0.4647751894\n",
      "bestIteration = 268\n",
      "\n",
      "Training on fold [3/5]\n",
      "\n",
      "bestTest = 0.4487926088\n",
      "bestIteration = 423\n",
      "\n",
      "Training on fold [4/5]\n"
     ]
    },
    {
     "name": "stderr",
     "output_type": "stream",
     "text": [
      "\u001b[32m[I 2022-01-27 21:26:21,373]\u001b[0m Trial 32 finished with value: 0.86345694240632 and parameters: {'iterations': 1200, 'learning_rate': 0.02994248807416655, 'random_strength': 1, 'bagging_temperature': 9, 'max_bin': 30, 'grow_policy': 'Lossguide', 'min_data_in_leaf': 9, 'max_depth': 9, 'l2_leaf_reg': 1.7913285499878862, 'one_hot_max_size': 10, 'auto_class_weights': 'Balanced'}. Best is trial 30 with value: 0.864686573317728.\u001b[0m\n"
     ]
    },
    {
     "name": "stdout",
     "output_type": "stream",
     "text": [
      "\n",
      "bestTest = 0.4625002645\n",
      "bestIteration = 310\n",
      "\n",
      "Training on fold [0/5]\n",
      "\n",
      "bestTest = 0.5080486631\n",
      "bestIteration = 1199\n",
      "\n",
      "Training on fold [1/5]\n",
      "\n",
      "bestTest = 0.5033598047\n",
      "bestIteration = 1199\n",
      "\n",
      "Training on fold [2/5]\n",
      "\n",
      "bestTest = 0.4976920166\n",
      "bestIteration = 1199\n",
      "\n",
      "Training on fold [3/5]\n",
      "\n",
      "bestTest = 0.4962335017\n",
      "bestIteration = 1199\n",
      "\n",
      "Training on fold [4/5]\n"
     ]
    },
    {
     "name": "stderr",
     "output_type": "stream",
     "text": [
      "\u001b[32m[I 2022-01-27 21:50:22,333]\u001b[0m Trial 33 finished with value: 0.8516549860288368 and parameters: {'iterations': 1200, 'learning_rate': 0.0017867322227078791, 'random_strength': 2, 'bagging_temperature': 10, 'max_bin': 30, 'grow_policy': 'Lossguide', 'min_data_in_leaf': 10, 'max_depth': 10, 'l2_leaf_reg': 9.027942246539478, 'one_hot_max_size': 10, 'auto_class_weights': 'Balanced'}. Best is trial 30 with value: 0.864686573317728.\u001b[0m\n"
     ]
    },
    {
     "name": "stdout",
     "output_type": "stream",
     "text": [
      "\n",
      "bestTest = 0.499704131\n",
      "bestIteration = 1199\n",
      "\n",
      "Training on fold [0/5]\n",
      "\n",
      "bestTest = 0.4745292981\n",
      "bestIteration = 286\n",
      "\n",
      "Training on fold [1/5]\n",
      "\n",
      "bestTest = 0.4636861248\n",
      "bestIteration = 303\n",
      "\n",
      "Training on fold [2/5]\n",
      "\n",
      "bestTest = 0.462470602\n",
      "bestIteration = 293\n",
      "\n",
      "Training on fold [3/5]\n",
      "\n",
      "bestTest = 0.4497817013\n",
      "bestIteration = 334\n",
      "\n",
      "Training on fold [4/5]\n"
     ]
    },
    {
     "name": "stderr",
     "output_type": "stream",
     "text": [
      "\u001b[32m[I 2022-01-27 21:55:44,259]\u001b[0m Trial 34 finished with value: 0.863292546332054 and parameters: {'iterations': 1200, 'learning_rate': 0.041363109346287605, 'random_strength': 2, 'bagging_temperature': 9, 'max_bin': 30, 'grow_policy': 'Lossguide', 'min_data_in_leaf': 9, 'max_depth': 7, 'l2_leaf_reg': 0.09256479550926446, 'one_hot_max_size': 10, 'auto_class_weights': 'Balanced'}. Best is trial 30 with value: 0.864686573317728.\u001b[0m\n"
     ]
    },
    {
     "name": "stdout",
     "output_type": "stream",
     "text": [
      "\n",
      "bestTest = 0.4619228392\n",
      "bestIteration = 299\n",
      "\n",
      "Training on fold [0/5]\n",
      "\n",
      "bestTest = 0.4735253687\n",
      "bestIteration = 212\n",
      "\n",
      "Training on fold [1/5]\n",
      "\n",
      "bestTest = 0.4615463591\n",
      "bestIteration = 239\n",
      "\n",
      "Training on fold [2/5]\n",
      "\n",
      "bestTest = 0.4618102999\n",
      "bestIteration = 200\n",
      "\n",
      "Training on fold [3/5]\n",
      "\n",
      "bestTest = 0.4467348591\n",
      "bestIteration = 253\n",
      "\n",
      "Training on fold [4/5]\n"
     ]
    },
    {
     "name": "stderr",
     "output_type": "stream",
     "text": [
      "\u001b[32m[I 2022-01-27 22:00:00,318]\u001b[0m Trial 35 finished with value: 0.8641440142338679 and parameters: {'iterations': 1200, 'learning_rate': 0.06863573826556611, 'random_strength': 3, 'bagging_temperature': 10, 'max_bin': 30, 'grow_policy': 'Lossguide', 'min_data_in_leaf': 10, 'max_depth': 9, 'l2_leaf_reg': 30.683309539186073, 'one_hot_max_size': 10, 'auto_class_weights': 'Balanced'}. Best is trial 30 with value: 0.864686573317728.\u001b[0m\n"
     ]
    },
    {
     "name": "stdout",
     "output_type": "stream",
     "text": [
      "\n",
      "bestTest = 0.4608078643\n",
      "bestIteration = 210\n",
      "\n",
      "Training on fold [0/5]\n",
      "\n",
      "bestTest = 0.4756859328\n",
      "bestIteration = 224\n",
      "\n",
      "Training on fold [1/5]\n",
      "\n",
      "bestTest = 0.4668973862\n",
      "bestIteration = 217\n",
      "\n",
      "Training on fold [2/5]\n",
      "\n",
      "bestTest = 0.4638157314\n",
      "bestIteration = 204\n",
      "\n",
      "Training on fold [3/5]\n",
      "\n",
      "bestTest = 0.4493143922\n",
      "bestIteration = 242\n",
      "\n",
      "Training on fold [4/5]\n"
     ]
    },
    {
     "name": "stderr",
     "output_type": "stream",
     "text": [
      "\u001b[32m[I 2022-01-27 22:04:23,791]\u001b[0m Trial 36 finished with value: 0.862448270132733 and parameters: {'iterations': 1200, 'learning_rate': 0.05870117345185181, 'random_strength': 3, 'bagging_temperature': 10, 'max_bin': 30, 'grow_policy': 'Lossguide', 'min_data_in_leaf': 10, 'max_depth': 9, 'l2_leaf_reg': 0.0179020414048635, 'one_hot_max_size': 10, 'auto_class_weights': 'Balanced'}. Best is trial 30 with value: 0.864686573317728.\u001b[0m\n"
     ]
    },
    {
     "name": "stdout",
     "output_type": "stream",
     "text": [
      "\n",
      "bestTest = 0.4635620627\n",
      "bestIteration = 241\n",
      "\n",
      "Training on fold [0/5]\n",
      "\n",
      "bestTest = 0.473496007\n",
      "bestIteration = 206\n",
      "\n",
      "Training on fold [1/5]\n",
      "\n",
      "bestTest = 0.4642416566\n",
      "bestIteration = 183\n",
      "\n",
      "Training on fold [2/5]\n",
      "\n",
      "bestTest = 0.4653642256\n",
      "bestIteration = 181\n",
      "\n",
      "Training on fold [3/5]\n",
      "\n",
      "bestTest = 0.4489143652\n",
      "bestIteration = 236\n",
      "\n",
      "Training on fold [4/5]\n"
     ]
    },
    {
     "name": "stderr",
     "output_type": "stream",
     "text": [
      "\u001b[32m[I 2022-01-27 22:08:25,068]\u001b[0m Trial 37 finished with value: 0.8624251992605185 and parameters: {'iterations': 1200, 'learning_rate': 0.07259644446472877, 'random_strength': 3, 'bagging_temperature': 10, 'max_bin': 30, 'grow_policy': 'Lossguide', 'min_data_in_leaf': 9, 'max_depth': 10, 'l2_leaf_reg': 1.4651712481369712, 'one_hot_max_size': 10, 'auto_class_weights': 'Balanced'}. Best is trial 30 with value: 0.864686573317728.\u001b[0m\n"
     ]
    },
    {
     "name": "stdout",
     "output_type": "stream",
     "text": [
      "\n",
      "bestTest = 0.4640158513\n",
      "bestIteration = 178\n",
      "\n",
      "Training on fold [0/5]\n",
      "\n",
      "bestTest = 0.4732624198\n",
      "bestIteration = 455\n",
      "\n",
      "Training on fold [1/5]\n",
      "\n",
      "bestTest = 0.4625680941\n",
      "bestIteration = 461\n",
      "\n",
      "Training on fold [2/5]\n",
      "\n",
      "bestTest = 0.4621801146\n",
      "bestIteration = 375\n",
      "\n",
      "Training on fold [3/5]\n",
      "\n",
      "bestTest = 0.451161463\n",
      "bestIteration = 424\n",
      "\n",
      "Training on fold [4/5]\n"
     ]
    },
    {
     "name": "stderr",
     "output_type": "stream",
     "text": [
      "\u001b[32m[I 2022-01-27 22:17:31,451]\u001b[0m Trial 38 finished with value: 0.8640014774638745 and parameters: {'iterations': 1200, 'learning_rate': 0.02434607134933131, 'random_strength': 1, 'bagging_temperature': 7, 'max_bin': 30, 'grow_policy': 'Lossguide', 'min_data_in_leaf': 10, 'max_depth': 9, 'l2_leaf_reg': 25.083490671320504, 'one_hot_max_size': 10, 'auto_class_weights': 'Balanced'}. Best is trial 30 with value: 0.864686573317728.\u001b[0m\n"
     ]
    },
    {
     "name": "stdout",
     "output_type": "stream",
     "text": [
      "\n",
      "bestTest = 0.4615543206\n",
      "bestIteration = 458\n",
      "\n",
      "Training on fold [0/5]\n",
      "\n",
      "bestTest = 0.4800438056\n",
      "bestIteration = 114\n",
      "\n",
      "Training on fold [1/5]\n",
      "\n",
      "bestTest = 0.4695741805\n",
      "bestIteration = 140\n",
      "\n",
      "Training on fold [2/5]\n",
      "\n",
      "bestTest = 0.4687551871\n",
      "bestIteration = 118\n",
      "\n",
      "Training on fold [3/5]\n",
      "\n",
      "bestTest = 0.455738705\n",
      "bestIteration = 202\n",
      "\n",
      "Training on fold [4/5]\n"
     ]
    },
    {
     "name": "stderr",
     "output_type": "stream",
     "text": [
      "\u001b[32m[I 2022-01-27 22:20:32,392]\u001b[0m Trial 39 finished with value: 0.8590031751409504 and parameters: {'iterations': 1200, 'learning_rate': 0.06372749946631942, 'random_strength': 2, 'bagging_temperature': 9, 'max_bin': 30, 'grow_policy': 'Lossguide', 'min_data_in_leaf': 9, 'max_depth': 10, 'l2_leaf_reg': 8.481028134568822e-07, 'one_hot_max_size': 10, 'auto_class_weights': 'Balanced'}. Best is trial 30 with value: 0.864686573317728.\u001b[0m\n"
     ]
    },
    {
     "name": "stdout",
     "output_type": "stream",
     "text": [
      "\n",
      "bestTest = 0.4720434838\n",
      "bestIteration = 120\n",
      "\n",
      "Training on fold [0/5]\n",
      "\n",
      "bestTest = 0.5271995068\n",
      "bestIteration = 99\n",
      "\n",
      "Training on fold [1/5]\n",
      "\n",
      "bestTest = 0.5249571741\n",
      "bestIteration = 99\n",
      "\n",
      "Training on fold [2/5]\n",
      "\n",
      "bestTest = 0.520086311\n",
      "bestIteration = 99\n",
      "\n",
      "Training on fold [3/5]\n",
      "\n",
      "bestTest = 0.5192253986\n",
      "bestIteration = 99\n",
      "\n",
      "Training on fold [4/5]\n"
     ]
    },
    {
     "name": "stderr",
     "output_type": "stream",
     "text": [
      "\u001b[32m[I 2022-01-27 22:22:30,429]\u001b[0m Trial 40 finished with value: 0.8452351262889811 and parameters: {'iterations': 100, 'learning_rate': 0.017179431909549424, 'random_strength': 4, 'bagging_temperature': 5, 'max_bin': 4, 'grow_policy': 'Lossguide', 'min_data_in_leaf': 7, 'max_depth': 9, 'l2_leaf_reg': 5.411496559560248, 'one_hot_max_size': 10, 'auto_class_weights': 'Balanced'}. Best is trial 30 with value: 0.864686573317728.\u001b[0m\n"
     ]
    },
    {
     "name": "stdout",
     "output_type": "stream",
     "text": [
      "\n",
      "bestTest = 0.5213121807\n",
      "bestIteration = 99\n",
      "\n",
      "Training on fold [0/5]\n",
      "\n",
      "bestTest = 0.4755257333\n",
      "bestIteration = 299\n",
      "\n",
      "Training on fold [1/5]\n",
      "\n",
      "bestTest = 0.4632383463\n",
      "bestIteration = 298\n",
      "\n",
      "Training on fold [2/5]\n",
      "\n",
      "bestTest = 0.4625098214\n",
      "bestIteration = 298\n",
      "\n",
      "Training on fold [3/5]\n",
      "\n",
      "bestTest = 0.4511090051\n",
      "bestIteration = 299\n",
      "\n",
      "Training on fold [4/5]\n"
     ]
    },
    {
     "name": "stderr",
     "output_type": "stream",
     "text": [
      "\u001b[32m[I 2022-01-27 22:28:08,150]\u001b[0m Trial 41 finished with value: 0.8634485320144861 and parameters: {'iterations': 300, 'learning_rate': 0.0398098748447933, 'random_strength': 3, 'bagging_temperature': 10, 'max_bin': 20, 'grow_policy': 'Lossguide', 'min_data_in_leaf': 10, 'max_depth': 8, 'l2_leaf_reg': 25.827804615511532, 'one_hot_max_size': 10, 'auto_class_weights': 'Balanced'}. Best is trial 30 with value: 0.864686573317728.\u001b[0m\n"
     ]
    },
    {
     "name": "stdout",
     "output_type": "stream",
     "text": [
      "\n",
      "bestTest = 0.4613377141\n",
      "bestIteration = 299\n",
      "\n",
      "Training on fold [0/5]\n",
      "\n",
      "bestTest = 0.4734929377\n",
      "bestIteration = 204\n",
      "\n",
      "Training on fold [1/5]\n",
      "\n",
      "bestTest = 0.465580212\n",
      "bestIteration = 159\n",
      "\n",
      "Training on fold [2/5]\n",
      "\n",
      "bestTest = 0.4605779606\n",
      "bestIteration = 167\n",
      "\n",
      "Training on fold [3/5]\n",
      "\n",
      "bestTest = 0.4521332406\n",
      "bestIteration = 149\n",
      "\n",
      "Training on fold [4/5]\n"
     ]
    },
    {
     "name": "stderr",
     "output_type": "stream",
     "text": [
      "\u001b[32m[I 2022-01-27 22:28:18,178]\u001b[0m Trial 42 finished with value: 0.8632679301972079 and parameters: {'iterations': 1200, 'learning_rate': 0.0846894874710125, 'random_strength': 2, 'bagging_temperature': 9, 'max_bin': 30, 'grow_policy': 'Lossguide', 'min_data_in_leaf': 9, 'max_depth': 7, 'l2_leaf_reg': 46.114993267961935, 'one_hot_max_size': 1024, 'auto_class_weights': 'Balanced'}. Best is trial 30 with value: 0.864686573317728.\u001b[0m\n"
     ]
    },
    {
     "name": "stdout",
     "output_type": "stream",
     "text": [
      "\n",
      "bestTest = 0.4598432912\n",
      "bestIteration = 164\n",
      "\n",
      "Training on fold [0/5]\n",
      "\n",
      "bestTest = 0.4761345612\n",
      "bestIteration = 163\n",
      "\n",
      "Training on fold [1/5]\n",
      "\n",
      "bestTest = 0.4650188885\n",
      "bestIteration = 177\n",
      "\n",
      "Training on fold [2/5]\n",
      "\n",
      "bestTest = 0.4635775678\n",
      "bestIteration = 195\n",
      "\n",
      "Training on fold [3/5]\n",
      "\n",
      "bestTest = 0.4499577168\n",
      "bestIteration = 226\n",
      "\n",
      "Training on fold [4/5]\n"
     ]
    },
    {
     "name": "stderr",
     "output_type": "stream",
     "text": [
      "\u001b[32m[I 2022-01-27 22:32:14,358]\u001b[0m Trial 43 finished with value: 0.8625718963011811 and parameters: {'iterations': 500, 'learning_rate': 0.05227754836330724, 'random_strength': 1, 'bagging_temperature': 10, 'max_bin': 8, 'grow_policy': 'Lossguide', 'min_data_in_leaf': 10, 'max_depth': 8, 'l2_leaf_reg': 3.8954534665799123, 'one_hot_max_size': 10, 'auto_class_weights': 'Balanced'}. Best is trial 30 with value: 0.864686573317728.\u001b[0m\n"
     ]
    },
    {
     "name": "stdout",
     "output_type": "stream",
     "text": [
      "\n",
      "bestTest = 0.4648108961\n",
      "bestIteration = 200\n",
      "\n",
      "Training on fold [0/5]\n",
      "\n",
      "bestTest = 0.4738255446\n",
      "bestIteration = 827\n",
      "\n",
      "Training on fold [1/5]\n",
      "\n",
      "bestTest = 0.4600606034\n",
      "bestIteration = 981\n",
      "\n",
      "Training on fold [2/5]\n",
      "\n",
      "bestTest = 0.4618141346\n",
      "bestIteration = 860\n",
      "\n",
      "Training on fold [3/5]\n",
      "\n",
      "bestTest = 0.4482892644\n",
      "bestIteration = 947\n",
      "\n",
      "Training on fold [4/5]\n"
     ]
    },
    {
     "name": "stderr",
     "output_type": "stream",
     "text": [
      "\u001b[32m[I 2022-01-27 22:50:17,213]\u001b[0m Trial 44 finished with value: 0.86433816239864 and parameters: {'iterations': 1200, 'learning_rate': 0.016791800283916067, 'random_strength': 4, 'bagging_temperature': 8, 'max_bin': 30, 'grow_policy': 'Lossguide', 'min_data_in_leaf': 2, 'max_depth': 9, 'l2_leaf_reg': 7.360970579561716, 'one_hot_max_size': 10, 'auto_class_weights': 'Balanced'}. Best is trial 30 with value: 0.864686573317728.\u001b[0m\n"
     ]
    },
    {
     "name": "stdout",
     "output_type": "stream",
     "text": [
      "\n",
      "bestTest = 0.4607574296\n",
      "bestIteration = 861\n",
      "\n",
      "Training on fold [0/5]\n",
      "\n",
      "bestTest = 0.4934174017\n",
      "bestIteration = 27\n",
      "\n",
      "Training on fold [1/5]\n",
      "\n",
      "bestTest = 0.4853055166\n",
      "bestIteration = 46\n",
      "\n",
      "Training on fold [2/5]\n",
      "\n",
      "bestTest = 0.4860601881\n",
      "bestIteration = 30\n",
      "\n",
      "Training on fold [3/5]\n",
      "\n",
      "bestTest = 0.4730001363\n",
      "bestIteration = 42\n",
      "\n",
      "Training on fold [4/5]\n"
     ]
    },
    {
     "name": "stderr",
     "output_type": "stream",
     "text": [
      "\u001b[32m[I 2022-01-27 22:51:10,036]\u001b[0m Trial 45 finished with value: 0.849827253210016 and parameters: {'iterations': 1200, 'learning_rate': 0.29311363349234243, 'random_strength': 4, 'bagging_temperature': 7, 'max_bin': 30, 'grow_policy': 'Lossguide', 'min_data_in_leaf': 4, 'max_depth': 10, 'l2_leaf_reg': 2.198287698694986e-08, 'one_hot_max_size': 10, 'auto_class_weights': 'Balanced'}. Best is trial 30 with value: 0.864686573317728.\u001b[0m\n"
     ]
    },
    {
     "name": "stdout",
     "output_type": "stream",
     "text": [
      "\n",
      "bestTest = 0.4857212473\n",
      "bestIteration = 30\n",
      "\n",
      "Training on fold [0/5]\n",
      "\n",
      "bestTest = 0.4738912418\n",
      "bestIteration = 933\n",
      "\n",
      "Training on fold [1/5]\n",
      "\n",
      "bestTest = 0.4619665821\n",
      "bestIteration = 841\n",
      "\n",
      "Training on fold [2/5]\n",
      "\n",
      "bestTest = 0.4632790091\n",
      "bestIteration = 818\n",
      "\n",
      "Training on fold [3/5]\n",
      "\n",
      "bestTest = 0.4499529173\n",
      "bestIteration = 931\n",
      "\n",
      "Training on fold [4/5]\n"
     ]
    },
    {
     "name": "stderr",
     "output_type": "stream",
     "text": [
      "\u001b[32m[I 2022-01-27 23:07:15,411]\u001b[0m Trial 46 finished with value: 0.8637803205801292 and parameters: {'iterations': 1200, 'learning_rate': 0.015230621445488748, 'random_strength': 3, 'bagging_temperature': 8, 'max_bin': 30, 'grow_policy': 'Lossguide', 'min_data_in_leaf': 8, 'max_depth': 9, 'l2_leaf_reg': 0.5281937161863496, 'one_hot_max_size': 10, 'auto_class_weights': 'Balanced'}. Best is trial 30 with value: 0.864686573317728.\u001b[0m\n"
     ]
    },
    {
     "name": "stdout",
     "output_type": "stream",
     "text": [
      "\n",
      "bestTest = 0.4611173531\n",
      "bestIteration = 830\n",
      "\n",
      "Training on fold [0/5]\n",
      "\n",
      "bestTest = 0.4739601637\n",
      "bestIteration = 838\n",
      "\n",
      "Training on fold [1/5]\n",
      "\n",
      "bestTest = 0.4615170365\n",
      "bestIteration = 916\n",
      "\n",
      "Training on fold [2/5]\n",
      "\n",
      "bestTest = 0.4628992072\n",
      "bestIteration = 835\n",
      "\n",
      "Training on fold [3/5]\n",
      "\n",
      "bestTest = 0.4492293323\n",
      "bestIteration = 934\n",
      "\n",
      "Training on fold [4/5]\n"
     ]
    },
    {
     "name": "stderr",
     "output_type": "stream",
     "text": [
      "\u001b[32m[I 2022-01-27 23:23:15,884]\u001b[0m Trial 47 finished with value: 0.8640814498132683 and parameters: {'iterations': 1200, 'learning_rate': 0.015586726218536616, 'random_strength': 4, 'bagging_temperature': 8, 'max_bin': 30, 'grow_policy': 'Lossguide', 'min_data_in_leaf': 10, 'max_depth': 10, 'l2_leaf_reg': 10.072729883914304, 'one_hot_max_size': 10, 'auto_class_weights': 'Balanced'}. Best is trial 30 with value: 0.864686573317728.\u001b[0m\n"
     ]
    },
    {
     "name": "stdout",
     "output_type": "stream",
     "text": [
      "\n",
      "bestTest = 0.4599408524\n",
      "bestIteration = 954\n",
      "\n",
      "Training on fold [0/5]\n",
      "\n",
      "bestTest = 0.4813464936\n",
      "bestIteration = 45\n",
      "\n",
      "Training on fold [1/5]\n",
      "\n",
      "bestTest = 0.4761199539\n",
      "bestIteration = 43\n",
      "\n",
      "Training on fold [2/5]\n",
      "\n",
      "bestTest = 0.4700122197\n",
      "bestIteration = 52\n",
      "\n",
      "Training on fold [3/5]\n",
      "\n",
      "bestTest = 0.457036923\n",
      "bestIteration = 55\n",
      "\n",
      "Training on fold [4/5]\n"
     ]
    },
    {
     "name": "stderr",
     "output_type": "stream",
     "text": [
      "\u001b[32m[I 2022-01-27 23:23:18,686]\u001b[0m Trial 48 finished with value: 0.8584254278214682 and parameters: {'iterations': 200, 'learning_rate': 0.24019078061698435, 'random_strength': 2, 'bagging_temperature': 6, 'max_bin': 10, 'grow_policy': 'Lossguide', 'min_data_in_leaf': 9, 'max_depth': 5, 'l2_leaf_reg': 0.13948111204478048, 'one_hot_max_size': 1024, 'auto_class_weights': 'Balanced'}. Best is trial 30 with value: 0.864686573317728.\u001b[0m\n"
     ]
    },
    {
     "name": "stdout",
     "output_type": "stream",
     "text": [
      "\n",
      "bestTest = 0.4637064352\n",
      "bestIteration = 46\n",
      "\n",
      "Training on fold [0/5]\n",
      "\n",
      "bestTest = 0.4757860733\n",
      "bestIteration = 120\n",
      "\n",
      "Training on fold [1/5]\n",
      "\n",
      "bestTest = 0.4632799328\n",
      "bestIteration = 103\n",
      "\n",
      "Training on fold [2/5]\n",
      "\n",
      "bestTest = 0.4673975697\n",
      "bestIteration = 106\n",
      "\n",
      "Training on fold [3/5]\n",
      "\n",
      "bestTest = 0.4537548851\n",
      "bestIteration = 124\n",
      "\n",
      "Training on fold [4/5]\n"
     ]
    },
    {
     "name": "stderr",
     "output_type": "stream",
     "text": [
      "\u001b[32m[I 2022-01-27 23:25:26,631]\u001b[0m Trial 49 finished with value: 0.8615289431074021 and parameters: {'iterations': 1500, 'learning_rate': 0.11888086890171645, 'random_strength': 3, 'bagging_temperature': 10, 'max_bin': 20, 'grow_policy': 'Lossguide', 'min_data_in_leaf': 6, 'max_depth': 9, 'l2_leaf_reg': 0.90865161074192, 'one_hot_max_size': 5, 'auto_class_weights': 'Balanced'}. Best is trial 30 with value: 0.864686573317728.\u001b[0m\n"
     ]
    },
    {
     "name": "stdout",
     "output_type": "stream",
     "text": [
      "\n",
      "bestTest = 0.4638436699\n",
      "bestIteration = 102\n",
      "\n",
      "Training on fold [0/5]\n",
      "\n",
      "bestTest = 0.4783919488\n",
      "bestIteration = 99\n",
      "\n",
      "Training on fold [1/5]\n",
      "\n",
      "bestTest = 0.4680379573\n",
      "bestIteration = 99\n",
      "\n",
      "Training on fold [2/5]\n",
      "\n",
      "bestTest = 0.465330764\n",
      "bestIteration = 99\n",
      "\n",
      "Training on fold [3/5]\n",
      "\n",
      "bestTest = 0.4568597252\n",
      "bestIteration = 97\n",
      "\n",
      "Training on fold [4/5]\n"
     ]
    },
    {
     "name": "stderr",
     "output_type": "stream",
     "text": [
      "\u001b[32m[I 2022-01-27 23:25:31,301]\u001b[0m Trial 50 finished with value: 0.861125652683263 and parameters: {'iterations': 100, 'learning_rate': 0.05933833496314449, 'random_strength': 1, 'bagging_temperature': 7, 'max_bin': 6, 'grow_policy': 'Depthwise', 'min_data_in_leaf': 8, 'max_depth': 6, 'l2_leaf_reg': 0.031542943430290654, 'one_hot_max_size': 500, 'auto_class_weights': 'Balanced'}. Best is trial 30 with value: 0.864686573317728.\u001b[0m\n"
     ]
    },
    {
     "name": "stdout",
     "output_type": "stream",
     "text": [
      "\n",
      "bestTest = 0.4641459719\n",
      "bestIteration = 99\n",
      "\n",
      "Training on fold [0/5]\n",
      "\n",
      "bestTest = 0.4737117605\n",
      "bestIteration = 431\n",
      "\n",
      "Training on fold [1/5]\n",
      "\n",
      "bestTest = 0.4604889849\n",
      "bestIteration = 512\n",
      "\n",
      "Training on fold [2/5]\n",
      "\n",
      "bestTest = 0.4630767651\n",
      "bestIteration = 414\n",
      "\n",
      "Training on fold [3/5]\n",
      "\n",
      "bestTest = 0.4474643461\n",
      "bestIteration = 507\n",
      "\n",
      "Training on fold [4/5]\n"
     ]
    },
    {
     "name": "stderr",
     "output_type": "stream",
     "text": [
      "\u001b[32m[I 2022-01-27 23:32:54,071]\u001b[0m Trial 51 finished with value: 0.864262299029116 and parameters: {'iterations': 1200, 'learning_rate': 0.035598015592911404, 'random_strength': 6, 'bagging_temperature': 9, 'max_bin': 30, 'grow_policy': 'Lossguide', 'min_data_in_leaf': 2, 'max_depth': 7, 'l2_leaf_reg': 34.13882658414394, 'one_hot_max_size': 10, 'auto_class_weights': 'Balanced'}. Best is trial 30 with value: 0.864686573317728.\u001b[0m\n"
     ]
    },
    {
     "name": "stdout",
     "output_type": "stream",
     "text": [
      "\n",
      "bestTest = 0.4603077139\n",
      "bestIteration = 410\n",
      "\n",
      "Training on fold [0/5]\n",
      "\n",
      "bestTest = 0.473606609\n",
      "bestIteration = 481\n",
      "\n",
      "Training on fold [1/5]\n",
      "\n",
      "bestTest = 0.4611325445\n",
      "bestIteration = 567\n",
      "\n",
      "Training on fold [2/5]\n",
      "\n",
      "bestTest = 0.4613954926\n",
      "bestIteration = 451\n",
      "\n",
      "Training on fold [3/5]\n",
      "\n",
      "bestTest = 0.4482299434\n",
      "bestIteration = 572\n",
      "\n",
      "Training on fold [4/5]\n"
     ]
    },
    {
     "name": "stderr",
     "output_type": "stream",
     "text": [
      "\u001b[32m[I 2022-01-27 23:41:25,888]\u001b[0m Trial 52 finished with value: 0.8642749363813591 and parameters: {'iterations': 1200, 'learning_rate': 0.031142977388475164, 'random_strength': 6, 'bagging_temperature': 9, 'max_bin': 30, 'grow_policy': 'Lossguide', 'min_data_in_leaf': 1, 'max_depth': 7, 'l2_leaf_reg': 8.434707421309485, 'one_hot_max_size': 10, 'auto_class_weights': 'Balanced'}. Best is trial 30 with value: 0.864686573317728.\u001b[0m\n"
     ]
    },
    {
     "name": "stdout",
     "output_type": "stream",
     "text": [
      "\n",
      "bestTest = 0.4606457521\n",
      "bestIteration = 534\n",
      "\n",
      "Training on fold [0/5]\n",
      "\n",
      "bestTest = 0.4755047115\n",
      "bestIteration = 447\n",
      "\n",
      "Training on fold [1/5]\n",
      "\n",
      "bestTest = 0.4606743415\n",
      "bestIteration = 547\n",
      "\n",
      "Training on fold [2/5]\n",
      "\n",
      "bestTest = 0.4621374045\n",
      "bestIteration = 477\n",
      "\n",
      "Training on fold [3/5]\n",
      "\n",
      "bestTest = 0.4485767509\n",
      "bestIteration = 532\n",
      "\n",
      "Training on fold [4/5]\n"
     ]
    },
    {
     "name": "stderr",
     "output_type": "stream",
     "text": [
      "\u001b[32m[I 2022-01-27 23:49:45,924]\u001b[0m Trial 53 finished with value: 0.8639541202916614 and parameters: {'iterations': 1200, 'learning_rate': 0.02916325275444845, 'random_strength': 6, 'bagging_temperature': 9, 'max_bin': 30, 'grow_policy': 'Lossguide', 'min_data_in_leaf': 1, 'max_depth': 7, 'l2_leaf_reg': 7.647542032524411, 'one_hot_max_size': 10, 'auto_class_weights': 'Balanced'}. Best is trial 30 with value: 0.864686573317728.\u001b[0m\n"
     ]
    },
    {
     "name": "stdout",
     "output_type": "stream",
     "text": [
      "\n",
      "bestTest = 0.4609662062\n",
      "bestIteration = 546\n",
      "\n",
      "Training on fold [0/5]\n",
      "\n",
      "bestTest = 0.4787766967\n",
      "bestIteration = 93\n",
      "\n",
      "Training on fold [1/5]\n",
      "\n",
      "bestTest = 0.4664498257\n",
      "bestIteration = 93\n",
      "\n",
      "Training on fold [2/5]\n",
      "\n",
      "bestTest = 0.4660741126\n",
      "bestIteration = 94\n",
      "\n",
      "Training on fold [3/5]\n",
      "\n",
      "bestTest = 0.4497879227\n",
      "bestIteration = 89\n",
      "\n",
      "Training on fold [4/5]\n"
     ]
    },
    {
     "name": "stderr",
     "output_type": "stream",
     "text": [
      "\u001b[32m[I 2022-01-27 23:51:14,722]\u001b[0m Trial 54 finished with value: 0.8611902893974273 and parameters: {'iterations': 1200, 'learning_rate': 0.17853282635418055, 'random_strength': 6, 'bagging_temperature': 8, 'max_bin': 30, 'grow_policy': 'Lossguide', 'min_data_in_leaf': 2, 'max_depth': 6, 'l2_leaf_reg': 2.951700161584236, 'one_hot_max_size': 12, 'auto_class_weights': 'Balanced'}. Best is trial 30 with value: 0.864686573317728.\u001b[0m\n"
     ]
    },
    {
     "name": "stdout",
     "output_type": "stream",
     "text": [
      "\n",
      "bestTest = 0.4650920753\n",
      "bestIteration = 88\n",
      "\n",
      "Training on fold [0/5]\n",
      "\n",
      "bestTest = 0.5719187794\n",
      "bestIteration = 299\n",
      "\n",
      "Training on fold [1/5]\n",
      "\n",
      "bestTest = 0.5705459998\n",
      "bestIteration = 299\n",
      "\n",
      "Training on fold [2/5]\n",
      "\n",
      "bestTest = 0.5662257769\n",
      "bestIteration = 299\n",
      "\n",
      "Training on fold [3/5]\n",
      "\n",
      "bestTest = 0.5661535043\n",
      "bestIteration = 299\n",
      "\n",
      "Training on fold [4/5]\n"
     ]
    },
    {
     "name": "stderr",
     "output_type": "stream",
     "text": [
      "\u001b[32m[I 2022-01-27 23:56:03,590]\u001b[0m Trial 55 finished with value: 0.8390592204445524 and parameters: {'iterations': 300, 'learning_rate': 0.0028403632212096533, 'random_strength': 5, 'bagging_temperature': 8, 'max_bin': 4, 'grow_policy': 'Lossguide', 'min_data_in_leaf': 1, 'max_depth': 7, 'l2_leaf_reg': 8.684977624043376e-05, 'one_hot_max_size': 10, 'auto_class_weights': 'SqrtBalanced'}. Best is trial 30 with value: 0.864686573317728.\u001b[0m\n"
     ]
    },
    {
     "name": "stdout",
     "output_type": "stream",
     "text": [
      "\n",
      "bestTest = 0.5680002792\n",
      "bestIteration = 299\n",
      "\n",
      "Training on fold [0/5]\n",
      "\n",
      "bestTest = 0.4765359587\n",
      "bestIteration = 253\n",
      "\n",
      "Training on fold [1/5]\n",
      "\n",
      "bestTest = 0.4629446165\n",
      "bestIteration = 292\n",
      "\n",
      "Training on fold [2/5]\n",
      "\n",
      "bestTest = 0.4639203814\n",
      "bestIteration = 266\n",
      "\n",
      "Training on fold [3/5]\n",
      "\n",
      "bestTest = 0.4497696162\n",
      "bestIteration = 334\n",
      "\n",
      "Training on fold [4/5]\n"
     ]
    },
    {
     "name": "stderr",
     "output_type": "stream",
     "text": [
      "\u001b[32m[I 2022-01-28 00:00:44,513]\u001b[0m Trial 56 finished with value: 0.8628378710698813 and parameters: {'iterations': 500, 'learning_rate': 0.04747412864669813, 'random_strength': 5, 'bagging_temperature': 9, 'max_bin': 30, 'grow_policy': 'Lossguide', 'min_data_in_leaf': 3, 'max_depth': 7, 'l2_leaf_reg': 0.26374245569229743, 'one_hot_max_size': 10, 'auto_class_weights': 'Balanced'}. Best is trial 30 with value: 0.864686573317728.\u001b[0m\n"
     ]
    },
    {
     "name": "stdout",
     "output_type": "stream",
     "text": [
      "\n",
      "bestTest = 0.4618167737\n",
      "bestIteration = 305\n",
      "\n",
      "Training on fold [0/5]\n",
      "\n",
      "bestTest = 0.4732363536\n",
      "bestIteration = 960\n",
      "\n",
      "Training on fold [1/5]\n",
      "\n",
      "bestTest = 0.4616739117\n",
      "bestIteration = 1049\n",
      "\n",
      "Training on fold [2/5]\n",
      "\n",
      "bestTest = 0.4609470394\n",
      "bestIteration = 934\n",
      "\n",
      "Training on fold [3/5]\n",
      "\n",
      "bestTest = 0.4488252622\n",
      "bestIteration = 1063\n",
      "\n",
      "Training on fold [4/5]\n"
     ]
    },
    {
     "name": "stderr",
     "output_type": "stream",
     "text": [
      "\u001b[32m[I 2022-01-28 00:04:02,490]\u001b[0m Trial 57 finished with value: 0.8642672007956019 and parameters: {'iterations': 1200, 'learning_rate': 0.015252651695262225, 'random_strength': 6, 'bagging_temperature': 8, 'max_bin': 8, 'grow_policy': 'Depthwise', 'min_data_in_leaf': 2, 'max_depth': 6, 'l2_leaf_reg': 39.17354329853966, 'one_hot_max_size': 10, 'auto_class_weights': 'Balanced'}. Best is trial 30 with value: 0.864686573317728.\u001b[0m\n"
     ]
    },
    {
     "name": "stdout",
     "output_type": "stream",
     "text": [
      "\n",
      "bestTest = 0.4613745713\n",
      "bestIteration = 946\n",
      "\n",
      "Training on fold [0/5]\n",
      "\n",
      "bestTest = 0.5015250726\n",
      "bestIteration = 199\n",
      "\n",
      "Training on fold [1/5]\n",
      "\n",
      "bestTest = 0.494320991\n",
      "bestIteration = 199\n",
      "\n",
      "Training on fold [2/5]\n",
      "\n",
      "bestTest = 0.4909918185\n",
      "bestIteration = 199\n",
      "\n",
      "Training on fold [3/5]\n",
      "\n",
      "bestTest = 0.4901886612\n",
      "bestIteration = 199\n",
      "\n",
      "Training on fold [4/5]\n"
     ]
    },
    {
     "name": "stderr",
     "output_type": "stream",
     "text": [
      "\u001b[32m[I 2022-01-28 00:04:43,007]\u001b[0m Trial 58 finished with value: 0.8536535757979173 and parameters: {'iterations': 200, 'learning_rate': 0.017636822120497407, 'random_strength': 8, 'bagging_temperature': 1, 'max_bin': 8, 'grow_policy': 'Depthwise', 'min_data_in_leaf': 2, 'max_depth': 6, 'l2_leaf_reg': 44.97532608948053, 'one_hot_max_size': 10, 'auto_class_weights': 'Balanced'}. Best is trial 30 with value: 0.864686573317728.\u001b[0m\n"
     ]
    },
    {
     "name": "stdout",
     "output_type": "stream",
     "text": [
      "\n",
      "bestTest = 0.4918669081\n",
      "bestIteration = 199\n",
      "\n",
      "Training on fold [0/5]\n",
      "\n",
      "bestTest = 0.473486597\n",
      "bestIteration = 426\n",
      "\n",
      "Training on fold [1/5]\n",
      "\n",
      "bestTest = 0.4605638229\n",
      "bestIteration = 511\n",
      "\n",
      "Training on fold [2/5]\n",
      "\n",
      "bestTest = 0.4605417439\n",
      "bestIteration = 407\n",
      "\n",
      "Training on fold [3/5]\n",
      "\n",
      "bestTest = 0.4506286082\n",
      "bestIteration = 472\n",
      "\n",
      "Training on fold [4/5]\n"
     ]
    },
    {
     "name": "stderr",
     "output_type": "stream",
     "text": [
      "\u001b[32m[I 2022-01-28 00:06:02,651]\u001b[0m Trial 59 finished with value: 0.8637340618712184 and parameters: {'iterations': 1200, 'learning_rate': 0.0351567207117684, 'random_strength': 6, 'bagging_temperature': 4, 'max_bin': 8, 'grow_policy': 'Depthwise', 'min_data_in_leaf': 3, 'max_depth': 5, 'l2_leaf_reg': 45.13167293562861, 'one_hot_max_size': 5, 'auto_class_weights': 'SqrtBalanced'}. Best is trial 30 with value: 0.864686573317728.\u001b[0m\n"
     ]
    },
    {
     "name": "stdout",
     "output_type": "stream",
     "text": [
      "\n",
      "bestTest = 0.4620705019\n",
      "bestIteration = 487\n",
      "\n",
      "Training on fold [0/5]\n",
      "\n",
      "bestTest = 0.4721738887\n",
      "bestIteration = 379\n",
      "\n",
      "Training on fold [1/5]\n",
      "\n",
      "bestTest = 0.4638815001\n",
      "bestIteration = 300\n",
      "\n",
      "Training on fold [2/5]\n",
      "\n",
      "bestTest = 0.4614290152\n",
      "bestIteration = 328\n",
      "\n",
      "Training on fold [3/5]\n",
      "\n",
      "bestTest = 0.4507035754\n",
      "bestIteration = 359\n",
      "\n",
      "Training on fold [4/5]\n"
     ]
    },
    {
     "name": "stderr",
     "output_type": "stream",
     "text": [
      "\u001b[32m[I 2022-01-28 00:06:15,012]\u001b[0m Trial 60 finished with value: 0.863588763493879 and parameters: {'iterations': 1500, 'learning_rate': 0.04744746650939494, 'random_strength': 7, 'bagging_temperature': 7, 'max_bin': 8, 'grow_policy': 'Depthwise', 'min_data_in_leaf': 1, 'max_depth': 5, 'l2_leaf_reg': 7.469552841255809, 'one_hot_max_size': 1024, 'auto_class_weights': 'Balanced'}. Best is trial 30 with value: 0.864686573317728.\u001b[0m\n"
     ]
    },
    {
     "name": "stdout",
     "output_type": "stream",
     "text": [
      "\n",
      "bestTest = 0.4619014896\n",
      "bestIteration = 283\n",
      "\n",
      "Training on fold [0/5]\n",
      "\n",
      "bestTest = 0.4748080341\n",
      "bestIteration = 508\n",
      "\n",
      "Training on fold [1/5]\n",
      "\n",
      "bestTest = 0.462390888\n",
      "bestIteration = 532\n",
      "\n",
      "Training on fold [2/5]\n",
      "\n",
      "bestTest = 0.4625366907\n",
      "bestIteration = 474\n",
      "\n",
      "Training on fold [3/5]\n",
      "\n",
      "bestTest = 0.4472764002\n",
      "bestIteration = 624\n",
      "\n",
      "Training on fold [4/5]\n"
     ]
    },
    {
     "name": "stderr",
     "output_type": "stream",
     "text": [
      "\u001b[32m[I 2022-01-28 00:08:48,721]\u001b[0m Trial 61 finished with value: 0.8639442062612357 and parameters: {'iterations': 1200, 'learning_rate': 0.024003818419117126, 'random_strength': 6, 'bagging_temperature': 8, 'max_bin': 30, 'grow_policy': 'Depthwise', 'min_data_in_leaf': 3, 'max_depth': 8, 'l2_leaf_reg': 10.590648661411212, 'one_hot_max_size': 10, 'auto_class_weights': 'Balanced'}. Best is trial 30 with value: 0.864686573317728.\u001b[0m\n"
     ]
    },
    {
     "name": "stdout",
     "output_type": "stream",
     "text": [
      "\n",
      "bestTest = 0.4600903621\n",
      "bestIteration = 583\n",
      "\n",
      "Training on fold [0/5]\n",
      "\n",
      "bestTest = 0.4730531919\n",
      "bestIteration = 997\n",
      "\n",
      "Training on fold [1/5]\n",
      "\n",
      "bestTest = 0.4611853024\n",
      "bestIteration = 982\n",
      "\n",
      "Training on fold [2/5]\n",
      "\n",
      "bestTest = 0.4615762017\n",
      "bestIteration = 942\n",
      "\n",
      "Training on fold [3/5]\n",
      "\n",
      "bestTest = 0.4469877815\n",
      "bestIteration = 1152\n",
      "\n",
      "Training on fold [4/5]\n"
     ]
    },
    {
     "name": "stderr",
     "output_type": "stream",
     "text": [
      "\u001b[32m[I 2022-01-28 00:12:15,060]\u001b[0m Trial 62 finished with value: 0.864388042831669 and parameters: {'iterations': 1200, 'learning_rate': 0.013714161653611391, 'random_strength': 5, 'bagging_temperature': 9, 'max_bin': 8, 'grow_policy': 'Depthwise', 'min_data_in_leaf': 2, 'max_depth': 6, 'l2_leaf_reg': 3.06949824799466, 'one_hot_max_size': 10, 'auto_class_weights': 'Balanced'}. Best is trial 30 with value: 0.864686573317728.\u001b[0m\n"
     ]
    },
    {
     "name": "stdout",
     "output_type": "stream",
     "text": [
      "\n",
      "bestTest = 0.4619269064\n",
      "bestIteration = 952\n",
      "\n",
      "Training on fold [0/5]\n",
      "\n",
      "bestTest = 0.4725642896\n",
      "bestIteration = 1038\n",
      "\n",
      "Training on fold [1/5]\n",
      "\n",
      "bestTest = 0.4625698573\n",
      "bestIteration = 948\n",
      "\n",
      "Training on fold [2/5]\n",
      "\n",
      "bestTest = 0.4610723335\n",
      "bestIteration = 1047\n",
      "\n",
      "Training on fold [3/5]\n",
      "\n",
      "bestTest = 0.4503309875\n",
      "bestIteration = 1042\n",
      "\n",
      "Training on fold [4/5]\n"
     ]
    },
    {
     "name": "stderr",
     "output_type": "stream",
     "text": [
      "\u001b[32m[I 2022-01-28 00:12:59,502]\u001b[0m Trial 63 finished with value: 0.8643890211331046 and parameters: {'iterations': 1200, 'learning_rate': 0.013297820525381913, 'random_strength': 5, 'bagging_temperature': 8, 'max_bin': 8, 'grow_policy': 'Depthwise', 'min_data_in_leaf': 2, 'max_depth': 6, 'l2_leaf_reg': 2.915526481537167, 'one_hot_max_size': 500, 'auto_class_weights': 'Balanced'}. Best is trial 30 with value: 0.864686573317728.\u001b[0m\n"
     ]
    },
    {
     "name": "stdout",
     "output_type": "stream",
     "text": [
      "\n",
      "bestTest = 0.4593044112\n",
      "bestIteration = 948\n",
      "\n",
      "Training on fold [0/5]\n",
      "\n",
      "bestTest = 0.4763075086\n",
      "bestIteration = 1199\n",
      "\n",
      "Training on fold [1/5]\n",
      "\n",
      "bestTest = 0.4663234948\n",
      "bestIteration = 1199\n",
      "\n",
      "Training on fold [2/5]\n",
      "\n",
      "bestTest = 0.4647175928\n",
      "bestIteration = 1199\n",
      "\n",
      "Training on fold [3/5]\n",
      "\n",
      "bestTest = 0.4558507003\n",
      "bestIteration = 1198\n",
      "\n",
      "Training on fold [4/5]\n"
     ]
    },
    {
     "name": "stderr",
     "output_type": "stream",
     "text": [
      "\u001b[32m[I 2022-01-28 00:13:53,959]\u001b[0m Trial 64 finished with value: 0.8624746780049382 and parameters: {'iterations': 1200, 'learning_rate': 0.008338664494511941, 'random_strength': 4, 'bagging_temperature': 8, 'max_bin': 8, 'grow_policy': 'Depthwise', 'min_data_in_leaf': 2, 'max_depth': 6, 'l2_leaf_reg': 2.658047084732864, 'one_hot_max_size': 500, 'auto_class_weights': 'Balanced'}. Best is trial 30 with value: 0.864686573317728.\u001b[0m\n"
     ]
    },
    {
     "name": "stdout",
     "output_type": "stream",
     "text": [
      "\n",
      "bestTest = 0.4624558101\n",
      "bestIteration = 1199\n",
      "\n",
      "Training on fold [0/5]\n",
      "\n",
      "bestTest = 0.4739297066\n",
      "bestIteration = 1099\n",
      "\n",
      "Training on fold [1/5]\n",
      "\n",
      "bestTest = 0.4646808639\n",
      "bestIteration = 989\n",
      "\n",
      "Training on fold [2/5]\n",
      "\n",
      "bestTest = 0.4628641434\n",
      "bestIteration = 1048\n",
      "\n",
      "Training on fold [3/5]\n",
      "\n",
      "bestTest = 0.4514563889\n",
      "bestIteration = 1196\n",
      "\n",
      "Training on fold [4/5]\n"
     ]
    },
    {
     "name": "stderr",
     "output_type": "stream",
     "text": [
      "\u001b[32m[I 2022-01-28 00:14:33,207]\u001b[0m Trial 65 finished with value: 0.8634719173610851 and parameters: {'iterations': 1200, 'learning_rate': 0.012714763507780297, 'random_strength': 5, 'bagging_temperature': 7, 'max_bin': 8, 'grow_policy': 'Depthwise', 'min_data_in_leaf': 4, 'max_depth': 5, 'l2_leaf_reg': 0.7549271422300431, 'one_hot_max_size': 500, 'auto_class_weights': 'Balanced'}. Best is trial 30 with value: 0.864686573317728.\u001b[0m\n"
     ]
    },
    {
     "name": "stdout",
     "output_type": "stream",
     "text": [
      "\n",
      "bestTest = 0.4607102961\n",
      "bestIteration = 1016\n",
      "\n",
      "Training on fold [0/5]\n",
      "\n",
      "bestTest = 0.5260003757\n",
      "bestIteration = 1199\n",
      "\n",
      "Training on fold [1/5]\n",
      "\n",
      "bestTest = 0.5219587912\n",
      "bestIteration = 1199\n",
      "\n",
      "Training on fold [2/5]\n",
      "\n",
      "bestTest = 0.5184289817\n",
      "bestIteration = 1199\n",
      "\n",
      "Training on fold [3/5]\n",
      "\n",
      "bestTest = 0.5165626162\n",
      "bestIteration = 1199\n",
      "\n",
      "Training on fold [4/5]\n"
     ]
    },
    {
     "name": "stderr",
     "output_type": "stream",
     "text": [
      "\u001b[32m[I 2022-01-28 00:15:29,437]\u001b[0m Trial 66 finished with value: 0.8476658573743585 and parameters: {'iterations': 1200, 'learning_rate': 0.0013644550920860702, 'random_strength': 5, 'bagging_temperature': 5, 'max_bin': 8, 'grow_policy': 'Depthwise', 'min_data_in_leaf': 1, 'max_depth': 6, 'l2_leaf_reg': 2.127898520185956, 'one_hot_max_size': 500, 'auto_class_weights': 'Balanced'}. Best is trial 30 with value: 0.864686573317728.\u001b[0m\n"
     ]
    },
    {
     "name": "stdout",
     "output_type": "stream",
     "text": [
      "\n",
      "bestTest = 0.5172712355\n",
      "bestIteration = 1199\n",
      "\n",
      "Training on fold [0/5]\n",
      "\n",
      "bestTest = 0.5125243701\n",
      "bestIteration = 99\n",
      "\n",
      "Training on fold [1/5]\n",
      "\n",
      "bestTest = 0.5085356446\n",
      "bestIteration = 99\n",
      "\n",
      "Training on fold [2/5]\n",
      "\n",
      "bestTest = 0.5035895783\n",
      "bestIteration = 99\n",
      "\n",
      "Training on fold [3/5]\n",
      "\n",
      "bestTest = 0.5014002771\n",
      "bestIteration = 99\n",
      "\n",
      "Training on fold [4/5]\n"
     ]
    },
    {
     "name": "stderr",
     "output_type": "stream",
     "text": [
      "\u001b[32m[I 2022-01-28 00:15:34,363]\u001b[0m Trial 67 finished with value: 0.8496748133980139 and parameters: {'iterations': 100, 'learning_rate': 0.020382122341271923, 'random_strength': 4, 'bagging_temperature': 8, 'max_bin': 8, 'grow_policy': 'Depthwise', 'min_data_in_leaf': 2, 'max_depth': 6, 'l2_leaf_reg': 4.379802154372252, 'one_hot_max_size': 500, 'auto_class_weights': 'Balanced'}. Best is trial 30 with value: 0.864686573317728.\u001b[0m\n"
     ]
    },
    {
     "name": "stdout",
     "output_type": "stream",
     "text": [
      "\n",
      "bestTest = 0.5021384016\n",
      "bestIteration = 99\n",
      "\n",
      "Training on fold [0/5]\n",
      "\n",
      "bestTest = 0.4712328083\n",
      "bestIteration = 481\n",
      "\n",
      "Training on fold [1/5]\n",
      "\n",
      "bestTest = 0.4628676075\n",
      "bestIteration = 372\n",
      "\n",
      "Training on fold [2/5]\n",
      "\n",
      "bestTest = 0.460660504\n",
      "bestIteration = 450\n",
      "\n",
      "Training on fold [3/5]\n",
      "\n",
      "bestTest = 0.4485848138\n",
      "bestIteration = 501\n",
      "\n",
      "Training on fold [4/5]\n"
     ]
    },
    {
     "name": "stderr",
     "output_type": "stream",
     "text": [
      "\u001b[32m[I 2022-01-28 00:16:38,850]\u001b[0m Trial 68 finished with value: 0.8641610530320977 and parameters: {'iterations': 1200, 'learning_rate': 0.04462162461002667, 'random_strength': 5, 'bagging_temperature': 9, 'max_bin': 8, 'grow_policy': 'Depthwise', 'min_data_in_leaf': 1, 'max_depth': 4, 'l2_leaf_reg': 51.069558821580586, 'one_hot_max_size': 12, 'auto_class_weights': 'SqrtBalanced'}. Best is trial 30 with value: 0.864686573317728.\u001b[0m\n"
     ]
    },
    {
     "name": "stdout",
     "output_type": "stream",
     "text": [
      "\n",
      "bestTest = 0.4606535267\n",
      "bestIteration = 414\n",
      "\n",
      "Training on fold [0/5]\n",
      "\n",
      "bestTest = 0.4777171456\n",
      "bestIteration = 270\n",
      "\n",
      "Training on fold [1/5]\n",
      "\n",
      "bestTest = 0.4658867852\n",
      "bestIteration = 245\n",
      "\n",
      "Training on fold [2/5]\n",
      "\n",
      "bestTest = 0.4661844657\n",
      "bestIteration = 230\n",
      "\n",
      "Training on fold [3/5]\n",
      "\n",
      "bestTest = 0.454039381\n",
      "bestIteration = 248\n",
      "\n",
      "Training on fold [4/5]\n"
     ]
    },
    {
     "name": "stderr",
     "output_type": "stream",
     "text": [
      "\u001b[32m[I 2022-01-28 00:16:48,697]\u001b[0m Trial 69 finished with value: 0.861522144589812 and parameters: {'iterations': 300, 'learning_rate': 0.0554363427855875, 'random_strength': 7, 'bagging_temperature': 8, 'max_bin': 10, 'grow_policy': 'Depthwise', 'min_data_in_leaf': 2, 'max_depth': 5, 'l2_leaf_reg': 0.005520754516234163, 'one_hot_max_size': 500, 'auto_class_weights': 'Balanced'}. Best is trial 30 with value: 0.864686573317728.\u001b[0m\n"
     ]
    },
    {
     "name": "stdout",
     "output_type": "stream",
     "text": [
      "\n",
      "bestTest = 0.4625969058\n",
      "bestIteration = 239\n",
      "\n",
      "Training on fold [0/5]\n",
      "\n",
      "bestTest = 0.4762342253\n",
      "bestIteration = 133\n",
      "\n",
      "Training on fold [1/5]\n",
      "\n",
      "bestTest = 0.4663463251\n",
      "bestIteration = 145\n",
      "\n",
      "Training on fold [2/5]\n",
      "\n",
      "bestTest = 0.4648735723\n",
      "bestIteration = 101\n",
      "\n",
      "Training on fold [3/5]\n",
      "\n",
      "bestTest = 0.4575409367\n",
      "bestIteration = 106\n",
      "\n",
      "Training on fold [4/5]\n"
     ]
    },
    {
     "name": "stderr",
     "output_type": "stream",
     "text": [
      "\u001b[32m[I 2022-01-28 00:17:22,228]\u001b[0m Trial 70 finished with value: 0.8606627700741267 and parameters: {'iterations': 500, 'learning_rate': 0.08607594248754032, 'random_strength': 4, 'bagging_temperature': 6, 'max_bin': 6, 'grow_policy': 'Depthwise', 'min_data_in_leaf': 3, 'max_depth': 7, 'l2_leaf_reg': 0.3307769269611679, 'one_hot_max_size': 10, 'auto_class_weights': 'Balanced'}. Best is trial 30 with value: 0.864686573317728.\u001b[0m\n"
     ]
    },
    {
     "name": "stdout",
     "output_type": "stream",
     "text": [
      "\n",
      "bestTest = 0.466779889\n",
      "bestIteration = 137\n",
      "\n",
      "Training on fold [0/5]\n",
      "\n",
      "bestTest = 0.4710372627\n",
      "bestIteration = 541\n",
      "\n",
      "Training on fold [1/5]\n",
      "\n",
      "bestTest = 0.4604506881\n",
      "bestIteration = 522\n",
      "\n",
      "Training on fold [2/5]\n",
      "\n",
      "bestTest = 0.4617840064\n",
      "bestIteration = 440\n",
      "\n",
      "Training on fold [3/5]\n",
      "\n",
      "bestTest = 0.4484066942\n",
      "bestIteration = 560\n",
      "\n",
      "Training on fold [4/5]\n"
     ]
    },
    {
     "name": "stderr",
     "output_type": "stream",
     "text": [
      "\u001b[32m[I 2022-01-28 00:19:08,117]\u001b[0m Trial 71 finished with value: 0.8643127216131556 and parameters: {'iterations': 1200, 'learning_rate': 0.03082956518580488, 'random_strength': 6, 'bagging_temperature': 9, 'max_bin': 8, 'grow_policy': 'Depthwise', 'min_data_in_leaf': 2, 'max_depth': 6, 'l2_leaf_reg': 25.000147553369537, 'one_hot_max_size': 10, 'auto_class_weights': 'Balanced'}. Best is trial 30 with value: 0.864686573317728.\u001b[0m\n"
     ]
    },
    {
     "name": "stdout",
     "output_type": "stream",
     "text": [
      "\n",
      "bestTest = 0.4631775006\n",
      "bestIteration = 482\n",
      "\n",
      "Training on fold [0/5]\n",
      "\n",
      "bestTest = 0.4755334706\n",
      "bestIteration = 1199\n",
      "\n",
      "Training on fold [1/5]\n",
      "\n",
      "bestTest = 0.4651952777\n",
      "bestIteration = 1199\n",
      "\n",
      "Training on fold [2/5]\n",
      "\n",
      "bestTest = 0.462803259\n",
      "bestIteration = 1199\n",
      "\n",
      "Training on fold [3/5]\n",
      "\n",
      "bestTest = 0.4538396403\n",
      "bestIteration = 1199\n",
      "\n",
      "Training on fold [4/5]\n"
     ]
    },
    {
     "name": "stderr",
     "output_type": "stream",
     "text": [
      "\u001b[32m[I 2022-01-28 00:23:13,423]\u001b[0m Trial 72 finished with value: 0.8628118270300043 and parameters: {'iterations': 1200, 'learning_rate': 0.009767004455836004, 'random_strength': 6, 'bagging_temperature': 9, 'max_bin': 8, 'grow_policy': 'Depthwise', 'min_data_in_leaf': 2, 'max_depth': 6, 'l2_leaf_reg': 13.050989155883451, 'one_hot_max_size': 10, 'auto_class_weights': 'Balanced'}. Best is trial 30 with value: 0.864686573317728.\u001b[0m\n"
     ]
    },
    {
     "name": "stdout",
     "output_type": "stream",
     "text": [
      "\n",
      "bestTest = 0.4633236401\n",
      "bestIteration = 1198\n",
      "\n",
      "Training on fold [0/5]\n",
      "\n",
      "bestTest = 0.4822790064\n",
      "bestIteration = 293\n",
      "\n",
      "Training on fold [1/5]\n",
      "\n",
      "bestTest = 0.4653986879\n",
      "bestIteration = 441\n",
      "\n",
      "Training on fold [2/5]\n",
      "\n",
      "bestTest = 0.4684133966\n",
      "bestIteration = 335\n",
      "\n",
      "Training on fold [3/5]\n",
      "\n",
      "bestTest = 0.4498211847\n",
      "bestIteration = 525\n",
      "\n",
      "Training on fold [4/5]\n"
     ]
    },
    {
     "name": "stderr",
     "output_type": "stream",
     "text": [
      "\u001b[32m[I 2022-01-28 00:24:39,831]\u001b[0m Trial 73 finished with value: 0.8610125175278389 and parameters: {'iterations': 1200, 'learning_rate': 0.02841856379000718, 'random_strength': 5, 'bagging_temperature': 9, 'max_bin': 8, 'grow_policy': 'Depthwise', 'min_data_in_leaf': 2, 'max_depth': 6, 'l2_leaf_reg': 0.0002818568723271996, 'one_hot_max_size': 10, 'auto_class_weights': 'Balanced'}. Best is trial 30 with value: 0.864686573317728.\u001b[0m\n"
     ]
    },
    {
     "name": "stdout",
     "output_type": "stream",
     "text": [
      "\n",
      "bestTest = 0.4652216208\n",
      "bestIteration = 431\n",
      "\n",
      "Training on fold [0/5]\n",
      "\n",
      "bestTest = 0.472974628\n",
      "bestIteration = 418\n",
      "\n",
      "Training on fold [1/5]\n",
      "\n",
      "bestTest = 0.4625491596\n",
      "bestIteration = 472\n",
      "\n",
      "Training on fold [2/5]\n",
      "\n",
      "bestTest = 0.4614976759\n",
      "bestIteration = 437\n",
      "\n",
      "Training on fold [3/5]\n",
      "\n",
      "bestTest = 0.4501823497\n",
      "bestIteration = 425\n",
      "\n",
      "Training on fold [4/5]\n"
     ]
    },
    {
     "name": "stderr",
     "output_type": "stream",
     "text": [
      "\u001b[32m[I 2022-01-28 00:24:57,665]\u001b[0m Trial 74 finished with value: 0.8638744781853639 and parameters: {'iterations': 1200, 'learning_rate': 0.03570717976180122, 'random_strength': 6, 'bagging_temperature': 9, 'max_bin': 8, 'grow_policy': 'Depthwise', 'min_data_in_leaf': 1, 'max_depth': 5, 'l2_leaf_reg': 19.34927724081019, 'one_hot_max_size': 100, 'auto_class_weights': 'Balanced'}. Best is trial 30 with value: 0.864686573317728.\u001b[0m\n"
     ]
    },
    {
     "name": "stdout",
     "output_type": "stream",
     "text": [
      "\n",
      "bestTest = 0.4615835278\n",
      "bestIteration = 390\n",
      "\n",
      "Training on fold [0/5]\n",
      "\n",
      "bestTest = 0.4736040324\n",
      "bestIteration = 1199\n",
      "\n",
      "Training on fold [1/5]\n",
      "\n",
      "bestTest = 0.4614516729\n",
      "bestIteration = 1195\n",
      "\n",
      "Training on fold [2/5]\n",
      "\n",
      "bestTest = 0.4625171775\n",
      "bestIteration = 1191\n",
      "\n",
      "Training on fold [3/5]\n",
      "\n",
      "bestTest = 0.4491156026\n",
      "bestIteration = 1199\n",
      "\n",
      "Training on fold [4/5]\n"
     ]
    },
    {
     "name": "stderr",
     "output_type": "stream",
     "text": [
      "\u001b[32m[I 2022-01-28 00:29:17,252]\u001b[0m Trial 75 finished with value: 0.8640793162308491 and parameters: {'iterations': 1200, 'learning_rate': 0.011099516034615009, 'random_strength': 5, 'bagging_temperature': 8, 'max_bin': 8, 'grow_policy': 'Depthwise', 'min_data_in_leaf': 2, 'max_depth': 6, 'l2_leaf_reg': 1.1593653615036963, 'one_hot_max_size': 10, 'auto_class_weights': 'Balanced'}. Best is trial 30 with value: 0.864686573317728.\u001b[0m\n"
     ]
    },
    {
     "name": "stdout",
     "output_type": "stream",
     "text": [
      "\n",
      "bestTest = 0.4607861442\n",
      "bestIteration = 1173\n",
      "\n",
      "Training on fold [0/5]\n",
      "\n",
      "bestTest = 0.4713690082\n",
      "bestIteration = 767\n",
      "\n",
      "Training on fold [1/5]\n",
      "\n",
      "bestTest = 0.4623431426\n",
      "bestIteration = 772\n",
      "\n",
      "Training on fold [2/5]\n",
      "\n",
      "bestTest = 0.4614732701\n",
      "bestIteration = 651\n",
      "\n",
      "Training on fold [3/5]\n",
      "\n",
      "bestTest = 0.4479738901\n",
      "bestIteration = 815\n",
      "\n",
      "Training on fold [4/5]\n"
     ]
    },
    {
     "name": "stderr",
     "output_type": "stream",
     "text": [
      "\u001b[32m[I 2022-01-28 00:32:25,476]\u001b[0m Trial 76 finished with value: 0.8645132551962877 and parameters: {'iterations': 1200, 'learning_rate': 0.02101421554297829, 'random_strength': 7, 'bagging_temperature': 9, 'max_bin': 20, 'grow_policy': 'Depthwise', 'min_data_in_leaf': 3, 'max_depth': 7, 'l2_leaf_reg': 94.20252220385441, 'one_hot_max_size': 10, 'auto_class_weights': 'Balanced'}. Best is trial 30 with value: 0.864686573317728.\u001b[0m\n"
     ]
    },
    {
     "name": "stdout",
     "output_type": "stream",
     "text": [
      "\n",
      "bestTest = 0.4604670632\n",
      "bestIteration = 740\n",
      "\n",
      "Training on fold [0/5]\n",
      "\n",
      "bestTest = 0.4752465297\n",
      "bestIteration = 199\n",
      "\n",
      "Training on fold [1/5]\n",
      "\n",
      "bestTest = 0.4636647174\n",
      "bestIteration = 199\n",
      "\n",
      "Training on fold [2/5]\n",
      "\n",
      "bestTest = 0.4629938328\n",
      "bestIteration = 199\n",
      "\n",
      "Training on fold [3/5]\n",
      "\n",
      "bestTest = 0.4536392905\n",
      "bestIteration = 199\n",
      "\n",
      "Training on fold [4/5]\n"
     ]
    },
    {
     "name": "stderr",
     "output_type": "stream",
     "text": [
      "\u001b[32m[I 2022-01-28 00:33:14,367]\u001b[0m Trial 77 finished with value: 0.8627977388767499 and parameters: {'iterations': 200, 'learning_rate': 0.06522435329080624, 'random_strength': 7, 'bagging_temperature': 9, 'max_bin': 20, 'grow_policy': 'Depthwise', 'min_data_in_leaf': 3, 'max_depth': 7, 'l2_leaf_reg': 98.09585416488612, 'one_hot_max_size': 5, 'auto_class_weights': 'Balanced'}. Best is trial 30 with value: 0.864686573317728.\u001b[0m\n"
     ]
    },
    {
     "name": "stdout",
     "output_type": "stream",
     "text": [
      "\n",
      "bestTest = 0.463200572\n",
      "bestIteration = 199\n",
      "\n",
      "Training on fold [0/5]\n",
      "\n",
      "bestTest = 0.4810648501\n",
      "bestIteration = 86\n",
      "\n",
      "Training on fold [1/5]\n",
      "\n",
      "bestTest = 0.4663504143\n",
      "bestIteration = 102\n",
      "\n",
      "Training on fold [2/5]\n",
      "\n",
      "bestTest = 0.4663845587\n",
      "bestIteration = 101\n",
      "\n",
      "Training on fold [3/5]\n",
      "\n",
      "bestTest = 0.4542546648\n",
      "bestIteration = 103\n",
      "\n",
      "Training on fold [4/5]\n"
     ]
    },
    {
     "name": "stderr",
     "output_type": "stream",
     "text": [
      "\u001b[32m[I 2022-01-28 00:33:45,609]\u001b[0m Trial 78 finished with value: 0.860134799670492 and parameters: {'iterations': 1200, 'learning_rate': 0.13669251706445654, 'random_strength': 9, 'bagging_temperature': 10, 'max_bin': 20, 'grow_policy': 'Depthwise', 'min_data_in_leaf': 4, 'max_depth': 8, 'l2_leaf_reg': 6.86324071992244, 'one_hot_max_size': 10, 'auto_class_weights': 'Balanced'}. Best is trial 30 with value: 0.864686573317728.\u001b[0m\n"
     ]
    },
    {
     "name": "stdout",
     "output_type": "stream",
     "text": [
      "\n",
      "bestTest = 0.4652282686\n",
      "bestIteration = 98\n",
      "\n",
      "Training on fold [0/5]\n",
      "\n",
      "bestTest = 0.4722639285\n",
      "bestIteration = 621\n",
      "\n",
      "Training on fold [1/5]\n",
      "\n",
      "bestTest = 0.4629768266\n",
      "bestIteration = 564\n",
      "\n",
      "Training on fold [2/5]\n",
      "\n",
      "bestTest = 0.4609324945\n",
      "bestIteration = 538\n",
      "\n",
      "Training on fold [3/5]\n",
      "\n",
      "bestTest = 0.4506110337\n",
      "bestIteration = 582\n",
      "\n",
      "Training on fold [4/5]\n"
     ]
    },
    {
     "name": "stderr",
     "output_type": "stream",
     "text": [
      "\u001b[32m[I 2022-01-28 00:34:19,840]\u001b[0m Trial 79 finished with value: 0.8641977233973341 and parameters: {'iterations': 1500, 'learning_rate': 0.024747063770905055, 'random_strength': 7, 'bagging_temperature': 9, 'max_bin': 20, 'grow_policy': 'Depthwise', 'min_data_in_leaf': 1, 'max_depth': 7, 'l2_leaf_reg': 63.41357412156209, 'one_hot_max_size': 100, 'auto_class_weights': 'Balanced'}. Best is trial 30 with value: 0.864686573317728.\u001b[0m\n"
     ]
    },
    {
     "name": "stdout",
     "output_type": "stream",
     "text": [
      "\n",
      "bestTest = 0.4599508962\n",
      "bestIteration = 581\n",
      "\n",
      "Training on fold [0/5]\n",
      "\n",
      "bestTest = 0.4718848233\n",
      "bestIteration = 399\n",
      "\n",
      "Training on fold [1/5]\n",
      "\n",
      "bestTest = 0.461816963\n",
      "bestIteration = 352\n",
      "\n",
      "Training on fold [2/5]\n",
      "\n",
      "bestTest = 0.4608863842\n",
      "bestIteration = 346\n",
      "\n",
      "Training on fold [3/5]\n",
      "\n",
      "bestTest = 0.4480037678\n",
      "bestIteration = 392\n",
      "\n",
      "Training on fold [4/5]\n"
     ]
    },
    {
     "name": "stderr",
     "output_type": "stream",
     "text": [
      "\u001b[32m[I 2022-01-28 00:35:53,119]\u001b[0m Trial 80 finished with value: 0.8636715091972308 and parameters: {'iterations': 1200, 'learning_rate': 0.04291955386888478, 'random_strength': 8, 'bagging_temperature': 10, 'max_bin': 4, 'grow_policy': 'Depthwise', 'min_data_in_leaf': 3, 'max_depth': 7, 'l2_leaf_reg': 18.435343406651487, 'one_hot_max_size': 12, 'auto_class_weights': 'SqrtBalanced'}. Best is trial 30 with value: 0.864686573317728.\u001b[0m\n"
     ]
    },
    {
     "name": "stdout",
     "output_type": "stream",
     "text": [
      "\n",
      "bestTest = 0.4625656751\n",
      "bestIteration = 356\n",
      "\n",
      "Training on fold [0/5]\n",
      "\n",
      "bestTest = 0.4725225124\n",
      "bestIteration = 792\n",
      "\n",
      "Training on fold [1/5]\n",
      "\n",
      "bestTest = 0.4612406013\n",
      "bestIteration = 782\n",
      "\n",
      "Training on fold [2/5]\n",
      "\n",
      "bestTest = 0.4604943475\n",
      "bestIteration = 746\n",
      "\n",
      "Training on fold [3/5]\n",
      "\n",
      "bestTest = 0.4475479557\n",
      "bestIteration = 749\n",
      "\n",
      "Training on fold [4/5]\n"
     ]
    },
    {
     "name": "stderr",
     "output_type": "stream",
     "text": [
      "\u001b[32m[I 2022-01-28 00:38:31,695]\u001b[0m Trial 81 finished with value: 0.8644627336712369 and parameters: {'iterations': 1200, 'learning_rate': 0.02003403251138426, 'random_strength': 6, 'bagging_temperature': 8, 'max_bin': 8, 'grow_policy': 'Depthwise', 'min_data_in_leaf': 2, 'max_depth': 6, 'l2_leaf_reg': 26.64783221412401, 'one_hot_max_size': 10, 'auto_class_weights': 'Balanced'}. Best is trial 30 with value: 0.864686573317728.\u001b[0m\n"
     ]
    },
    {
     "name": "stdout",
     "output_type": "stream",
     "text": [
      "\n",
      "bestTest = 0.4620869745\n",
      "bestIteration = 779\n",
      "\n",
      "Training on fold [0/5]\n",
      "\n",
      "bestTest = 0.4735806446\n",
      "bestIteration = 428\n",
      "\n",
      "Training on fold [1/5]\n",
      "\n",
      "bestTest = 0.4581897024\n",
      "bestIteration = 499\n",
      "\n",
      "Training on fold [2/5]\n",
      "\n",
      "bestTest = 0.4626921605\n",
      "bestIteration = 407\n",
      "\n",
      "Training on fold [3/5]\n",
      "\n",
      "bestTest = 0.4473627644\n",
      "bestIteration = 493\n",
      "\n",
      "Training on fold [4/5]\n"
     ]
    },
    {
     "name": "stderr",
     "output_type": "stream",
     "text": [
      "\u001b[32m[I 2022-01-28 00:40:06,085]\u001b[0m Trial 82 finished with value: 0.8643123452923241 and parameters: {'iterations': 1200, 'learning_rate': 0.034231012190060625, 'random_strength': 7, 'bagging_temperature': 8, 'max_bin': 20, 'grow_policy': 'Depthwise', 'min_data_in_leaf': 1, 'max_depth': 6, 'l2_leaf_reg': 4.164866192470023, 'one_hot_max_size': 10, 'auto_class_weights': 'Balanced'}. Best is trial 30 with value: 0.864686573317728.\u001b[0m\n"
     ]
    },
    {
     "name": "stdout",
     "output_type": "stream",
     "text": [
      "\n",
      "bestTest = 0.461390987\n",
      "bestIteration = 415\n",
      "\n",
      "Training on fold [0/5]\n",
      "\n",
      "bestTest = 0.4749009595\n",
      "bestIteration = 627\n",
      "\n",
      "Training on fold [1/5]\n",
      "\n",
      "bestTest = 0.4630903095\n",
      "bestIteration = 626\n",
      "\n",
      "Training on fold [2/5]\n",
      "\n",
      "bestTest = 0.4608230558\n",
      "bestIteration = 690\n",
      "\n",
      "Training on fold [3/5]\n",
      "\n",
      "bestTest = 0.4475739099\n",
      "bestIteration = 898\n",
      "\n",
      "Training on fold [4/5]\n"
     ]
    },
    {
     "name": "stderr",
     "output_type": "stream",
     "text": [
      "\u001b[32m[I 2022-01-28 00:42:08,467]\u001b[0m Trial 83 finished with value: 0.8639643464530193 and parameters: {'iterations': 1200, 'learning_rate': 0.02193513467494662, 'random_strength': 7, 'bagging_temperature': 8, 'max_bin': 20, 'grow_policy': 'Depthwise', 'min_data_in_leaf': 3, 'max_depth': 5, 'l2_leaf_reg': 1.9478210024071214, 'one_hot_max_size': 10, 'auto_class_weights': 'Balanced'}. Best is trial 30 with value: 0.864686573317728.\u001b[0m\n"
     ]
    },
    {
     "name": "stdout",
     "output_type": "stream",
     "text": [
      "\n",
      "bestTest = 0.4609444059\n",
      "bestIteration = 673\n",
      "\n",
      "Training on fold [0/5]\n",
      "\n",
      "bestTest = 0.4819151651\n",
      "bestIteration = 999\n",
      "\n",
      "Training on fold [1/5]\n",
      "\n",
      "bestTest = 0.4724452791\n",
      "bestIteration = 998\n",
      "\n",
      "Training on fold [2/5]\n",
      "\n",
      "bestTest = 0.4700753183\n",
      "bestIteration = 999\n",
      "\n",
      "Training on fold [3/5]\n",
      "\n",
      "bestTest = 0.4637475588\n",
      "bestIteration = 999\n",
      "\n",
      "Training on fold [4/5]\n"
     ]
    },
    {
     "name": "stderr",
     "output_type": "stream",
     "text": [
      "\u001b[32m[I 2022-01-28 00:45:32,745]\u001b[0m Trial 84 finished with value: 0.8599337351860189 and parameters: {'iterations': 1000, 'learning_rate': 0.008390755693970464, 'random_strength': 8, 'bagging_temperature': 7, 'max_bin': 20, 'grow_policy': 'Depthwise', 'min_data_in_leaf': 2, 'max_depth': 6, 'l2_leaf_reg': 17.37472115692189, 'one_hot_max_size': 10, 'auto_class_weights': 'Balanced'}. Best is trial 30 with value: 0.864686573317728.\u001b[0m\n"
     ]
    },
    {
     "name": "stdout",
     "output_type": "stream",
     "text": [
      "\n",
      "bestTest = 0.4706332068\n",
      "bestIteration = 999\n",
      "\n",
      "Training on fold [0/5]\n",
      "\n",
      "bestTest = 0.478156851\n",
      "bestIteration = 69\n",
      "\n",
      "Training on fold [1/5]\n",
      "\n",
      "bestTest = 0.464148362\n",
      "bestIteration = 78\n",
      "\n",
      "Training on fold [2/5]\n",
      "\n",
      "bestTest = 0.4697919148\n",
      "bestIteration = 67\n",
      "\n",
      "Training on fold [3/5]\n",
      "\n",
      "bestTest = 0.4510760803\n",
      "bestIteration = 83\n",
      "\n",
      "Training on fold [4/5]\n"
     ]
    },
    {
     "name": "stderr",
     "output_type": "stream",
     "text": [
      "\u001b[32m[I 2022-01-28 00:45:50,392]\u001b[0m Trial 85 finished with value: 0.8604191928506513 and parameters: {'iterations': 1200, 'learning_rate': 0.20616421962898324, 'random_strength': 7, 'bagging_temperature': 7, 'max_bin': 20, 'grow_policy': 'Depthwise', 'min_data_in_leaf': 2, 'max_depth': 6, 'l2_leaf_reg': 4.083526766441001, 'one_hot_max_size': 10, 'auto_class_weights': 'Balanced'}. Best is trial 30 with value: 0.864686573317728.\u001b[0m\n"
     ]
    },
    {
     "name": "stdout",
     "output_type": "stream",
     "text": [
      "\n",
      "bestTest = 0.4686900721\n",
      "bestIteration = 77\n",
      "\n",
      "Training on fold [0/5]\n",
      "\n",
      "bestTest = 0.4723487079\n",
      "bestIteration = 270\n",
      "\n",
      "Training on fold [1/5]\n",
      "\n",
      "bestTest = 0.463612604\n",
      "bestIteration = 257\n",
      "\n",
      "Training on fold [2/5]\n",
      "\n",
      "bestTest = 0.4609872693\n",
      "bestIteration = 299\n",
      "\n",
      "Training on fold [3/5]\n",
      "\n",
      "bestTest = 0.4500056298\n",
      "bestIteration = 287\n",
      "\n",
      "Training on fold [4/5]\n"
     ]
    },
    {
     "name": "stderr",
     "output_type": "stream",
     "text": [
      "\u001b[32m[I 2022-01-28 00:46:47,159]\u001b[0m Trial 86 finished with value: 0.8636180221263807 and parameters: {'iterations': 1200, 'learning_rate': 0.0540996920000658, 'random_strength': 4, 'bagging_temperature': 8, 'max_bin': 20, 'grow_policy': 'Depthwise', 'min_data_in_leaf': 2, 'max_depth': 6, 'l2_leaf_reg': 64.8357145344159, 'one_hot_max_size': 10, 'auto_class_weights': 'Balanced'}. Best is trial 30 with value: 0.864686573317728.\u001b[0m\n"
     ]
    },
    {
     "name": "stdout",
     "output_type": "stream",
     "text": [
      "\n",
      "bestTest = 0.4628283866\n",
      "bestIteration = 239\n",
      "\n",
      "Training on fold [0/5]\n",
      "\n",
      "bestTest = 0.4725266534\n",
      "bestIteration = 413\n",
      "\n",
      "Training on fold [1/5]\n",
      "\n",
      "bestTest = 0.4635099415\n",
      "bestIteration = 406\n",
      "\n",
      "Training on fold [2/5]\n",
      "\n",
      "bestTest = 0.4630183338\n",
      "bestIteration = 372\n",
      "\n",
      "Training on fold [3/5]\n",
      "\n",
      "bestTest = 0.452022979\n",
      "bestIteration = 415\n",
      "\n",
      "Training on fold [4/5]\n"
     ]
    },
    {
     "name": "stderr",
     "output_type": "stream",
     "text": [
      "\u001b[32m[I 2022-01-28 00:47:02,405]\u001b[0m Trial 87 finished with value: 0.8634581378940809 and parameters: {'iterations': 1200, 'learning_rate': 0.03682604399651197, 'random_strength': 5, 'bagging_temperature': 7, 'max_bin': 10, 'grow_policy': 'Depthwise', 'min_data_in_leaf': 1, 'max_depth': 5, 'l2_leaf_reg': 27.13538067002909, 'one_hot_max_size': 1024, 'auto_class_weights': 'Balanced'}. Best is trial 30 with value: 0.864686573317728.\u001b[0m\n"
     ]
    },
    {
     "name": "stdout",
     "output_type": "stream",
     "text": [
      "\n",
      "bestTest = 0.4610178409\n",
      "bestIteration = 398\n",
      "\n",
      "Training on fold [0/5]\n",
      "\n",
      "bestTest = 0.4958943551\n",
      "bestIteration = 99\n",
      "\n",
      "Training on fold [1/5]\n",
      "\n",
      "bestTest = 0.4906295454\n",
      "bestIteration = 99\n",
      "\n",
      "Training on fold [2/5]\n",
      "\n",
      "bestTest = 0.4884130877\n",
      "bestIteration = 99\n",
      "\n",
      "Training on fold [3/5]\n",
      "\n",
      "bestTest = 0.4833635532\n",
      "bestIteration = 99\n",
      "\n",
      "Training on fold [4/5]\n"
     ]
    },
    {
     "name": "stderr",
     "output_type": "stream",
     "text": [
      "\u001b[32m[I 2022-01-28 00:47:23,176]\u001b[0m Trial 88 finished with value: 0.8543819372814945 and parameters: {'iterations': 100, 'learning_rate': 0.03048365234546939, 'random_strength': 4, 'bagging_temperature': 8, 'max_bin': 5, 'grow_policy': 'Depthwise', 'min_data_in_leaf': 4, 'max_depth': 6, 'l2_leaf_reg': 6.0163892722864984, 'one_hot_max_size': 10, 'auto_class_weights': 'Balanced'}. Best is trial 30 with value: 0.864686573317728.\u001b[0m\n"
     ]
    },
    {
     "name": "stdout",
     "output_type": "stream",
     "text": [
      "\n",
      "bestTest = 0.4870557869\n",
      "bestIteration = 99\n",
      "\n",
      "Training on fold [0/5]\n",
      "\n",
      "bestTest = 0.4801588085\n",
      "bestIteration = 1199\n",
      "\n",
      "Training on fold [1/5]\n",
      "\n",
      "bestTest = 0.4714784255\n",
      "bestIteration = 1199\n",
      "\n",
      "Training on fold [2/5]\n",
      "\n",
      "bestTest = 0.4695055195\n",
      "bestIteration = 1199\n",
      "\n",
      "Training on fold [3/5]\n",
      "\n",
      "bestTest = 0.4621901805\n",
      "bestIteration = 1198\n",
      "\n",
      "Training on fold [4/5]\n"
     ]
    },
    {
     "name": "stderr",
     "output_type": "stream",
     "text": [
      "\u001b[32m[I 2022-01-28 00:48:16,159]\u001b[0m Trial 89 finished with value: 0.8603443636530546 and parameters: {'iterations': 1200, 'learning_rate': 0.007076140626145883, 'random_strength': 6, 'bagging_temperature': 9, 'max_bin': 6, 'grow_policy': 'Depthwise', 'min_data_in_leaf': 2, 'max_depth': 6, 'l2_leaf_reg': 11.920168930730888, 'one_hot_max_size': 100, 'auto_class_weights': 'Balanced'}. Best is trial 30 with value: 0.864686573317728.\u001b[0m\n"
     ]
    },
    {
     "name": "stdout",
     "output_type": "stream",
     "text": [
      "\n",
      "bestTest = 0.4676200787\n",
      "bestIteration = 1199\n",
      "\n",
      "Training on fold [0/5]\n",
      "\n",
      "bestTest = 0.4722369226\n",
      "bestIteration = 752\n",
      "\n",
      "Training on fold [1/5]\n",
      "\n",
      "bestTest = 0.4625994451\n",
      "bestIteration = 685\n",
      "\n",
      "Training on fold [2/5]\n",
      "\n",
      "bestTest = 0.4620830828\n",
      "bestIteration = 707\n",
      "\n",
      "Training on fold [3/5]\n",
      "\n",
      "bestTest = 0.4509399105\n",
      "bestIteration = 722\n",
      "\n",
      "Training on fold [4/5]\n"
     ]
    },
    {
     "name": "stderr",
     "output_type": "stream",
     "text": [
      "\u001b[32m[I 2022-01-28 00:48:48,355]\u001b[0m Trial 90 finished with value: 0.864044530874801 and parameters: {'iterations': 1000, 'learning_rate': 0.021278832024673483, 'random_strength': 7, 'bagging_temperature': 10, 'max_bin': 8, 'grow_policy': 'SymmetricTree', 'min_data_in_leaf': 3, 'max_depth': 8, 'l2_leaf_reg': 26.31313477267177, 'one_hot_max_size': 500, 'auto_class_weights': 'Balanced'}. Best is trial 30 with value: 0.864686573317728.\u001b[0m\n"
     ]
    },
    {
     "name": "stdout",
     "output_type": "stream",
     "text": [
      "\n",
      "bestTest = 0.4603022246\n",
      "bestIteration = 731\n",
      "\n",
      "Training on fold [0/5]\n",
      "\n",
      "bestTest = 0.4726144307\n",
      "bestIteration = 537\n",
      "\n",
      "Training on fold [1/5]\n",
      "\n",
      "bestTest = 0.462534695\n",
      "bestIteration = 502\n",
      "\n",
      "Training on fold [2/5]\n",
      "\n",
      "bestTest = 0.4613736932\n",
      "bestIteration = 487\n",
      "\n",
      "Training on fold [3/5]\n",
      "\n",
      "bestTest = 0.4466286902\n",
      "bestIteration = 622\n",
      "\n",
      "Training on fold [4/5]\n"
     ]
    },
    {
     "name": "stderr",
     "output_type": "stream",
     "text": [
      "\u001b[32m[I 2022-01-28 00:57:39,320]\u001b[0m Trial 91 finished with value: 0.8643411926138036 and parameters: {'iterations': 1200, 'learning_rate': 0.03006371135676919, 'random_strength': 6, 'bagging_temperature': 9, 'max_bin': 20, 'grow_policy': 'Lossguide', 'min_data_in_leaf': 1, 'max_depth': 7, 'l2_leaf_reg': 3.063595511421141, 'one_hot_max_size': 10, 'auto_class_weights': 'Balanced'}. Best is trial 30 with value: 0.864686573317728.\u001b[0m\n"
     ]
    },
    {
     "name": "stdout",
     "output_type": "stream",
     "text": [
      "\n",
      "bestTest = 0.4608621696\n",
      "bestIteration = 518\n",
      "\n",
      "Training on fold [0/5]\n",
      "\n",
      "bestTest = 0.549886844\n",
      "bestIteration = 1199\n",
      "\n",
      "Training on fold [1/5]\n",
      "\n",
      "bestTest = 0.5475607876\n",
      "bestIteration = 1199\n",
      "\n",
      "Training on fold [2/5]\n",
      "\n",
      "bestTest = 0.5434556189\n",
      "bestIteration = 1199\n",
      "\n",
      "Training on fold [3/5]\n",
      "\n",
      "bestTest = 0.5424714273\n",
      "bestIteration = 1199\n",
      "\n",
      "Training on fold [4/5]\n"
     ]
    },
    {
     "name": "stderr",
     "output_type": "stream",
     "text": [
      "\u001b[32m[I 2022-01-28 01:17:48,903]\u001b[0m Trial 92 finished with value: 0.841755067934524 and parameters: {'iterations': 1200, 'learning_rate': 0.0010850088786574195, 'random_strength': 6, 'bagging_temperature': 9, 'max_bin': 20, 'grow_policy': 'Lossguide', 'min_data_in_leaf': 1, 'max_depth': 7, 'l2_leaf_reg': 3.059514942300075, 'one_hot_max_size': 10, 'auto_class_weights': 'Balanced'}. Best is trial 30 with value: 0.864686573317728.\u001b[0m\n"
     ]
    },
    {
     "name": "stdout",
     "output_type": "stream",
     "text": [
      "\n",
      "bestTest = 0.5437234367\n",
      "bestIteration = 1199\n",
      "\n",
      "Training on fold [0/5]\n",
      "\n",
      "bestTest = 0.4757315759\n",
      "bestIteration = 370\n",
      "\n",
      "Training on fold [1/5]\n",
      "\n",
      "bestTest = 0.4607994327\n",
      "bestIteration = 383\n",
      "\n",
      "Training on fold [2/5]\n",
      "\n",
      "bestTest = 0.4621379631\n",
      "bestIteration = 350\n",
      "\n",
      "Training on fold [3/5]\n",
      "\n",
      "bestTest = 0.4490987439\n",
      "bestIteration = 385\n",
      "\n",
      "Training on fold [4/5]\n"
     ]
    },
    {
     "name": "stderr",
     "output_type": "stream",
     "text": [
      "\u001b[32m[I 2022-01-28 01:24:47,222]\u001b[0m Trial 93 finished with value: 0.863499408675642 and parameters: {'iterations': 1200, 'learning_rate': 0.04235311754749354, 'random_strength': 8, 'bagging_temperature': 8, 'max_bin': 20, 'grow_policy': 'Lossguide', 'min_data_in_leaf': 1, 'max_depth': 7, 'l2_leaf_reg': 0.6552381713721345, 'one_hot_max_size': 10, 'auto_class_weights': 'Balanced'}. Best is trial 30 with value: 0.864686573317728.\u001b[0m\n"
     ]
    },
    {
     "name": "stdout",
     "output_type": "stream",
     "text": [
      "\n",
      "bestTest = 0.4625658336\n",
      "bestIteration = 341\n",
      "\n",
      "Training on fold [0/5]\n",
      "\n",
      "bestTest = 0.4752120547\n",
      "bestIteration = 391\n",
      "\n",
      "Training on fold [1/5]\n",
      "\n",
      "bestTest = 0.461488801\n",
      "bestIteration = 418\n",
      "\n",
      "Training on fold [2/5]\n",
      "\n",
      "bestTest = 0.4626998783\n",
      "bestIteration = 440\n",
      "\n",
      "Training on fold [3/5]\n",
      "\n",
      "bestTest = 0.448337961\n",
      "bestIteration = 484\n",
      "\n",
      "Training on fold [4/5]\n"
     ]
    },
    {
     "name": "stderr",
     "output_type": "stream",
     "text": [
      "\u001b[32m[I 2022-01-28 01:26:50,370]\u001b[0m Trial 94 finished with value: 0.8634292121012948 and parameters: {'iterations': 1200, 'learning_rate': 0.03041214439535122, 'random_strength': 5, 'bagging_temperature': 9, 'max_bin': 20, 'grow_policy': 'Depthwise', 'min_data_in_leaf': 1, 'max_depth': 7, 'l2_leaf_reg': 1.2764797697745214, 'one_hot_max_size': 10, 'auto_class_weights': 'Balanced'}. Best is trial 30 with value: 0.864686573317728.\u001b[0m\n"
     ]
    },
    {
     "name": "stdout",
     "output_type": "stream",
     "text": [
      "\n",
      "bestTest = 0.4615391027\n",
      "bestIteration = 418\n",
      "\n",
      "Training on fold [0/5]\n",
      "\n",
      "bestTest = 0.4753997118\n",
      "bestIteration = 293\n",
      "\n",
      "Training on fold [1/5]\n",
      "\n",
      "bestTest = 0.4616845283\n",
      "bestIteration = 297\n",
      "\n",
      "Training on fold [2/5]\n",
      "\n",
      "bestTest = 0.4596524201\n",
      "bestIteration = 297\n",
      "\n",
      "Training on fold [3/5]\n",
      "\n",
      "bestTest = 0.4493686417\n",
      "bestIteration = 299\n",
      "\n",
      "Training on fold [4/5]\n"
     ]
    },
    {
     "name": "stderr",
     "output_type": "stream",
     "text": [
      "\u001b[32m[I 2022-01-28 01:31:10,484]\u001b[0m Trial 95 finished with value: 0.8641618827301529 and parameters: {'iterations': 300, 'learning_rate': 0.050880311266062885, 'random_strength': 6, 'bagging_temperature': 3, 'max_bin': 20, 'grow_policy': 'Lossguide', 'min_data_in_leaf': 5, 'max_depth': 6, 'l2_leaf_reg': 13.134705995747126, 'one_hot_max_size': 10, 'auto_class_weights': 'Balanced'}. Best is trial 30 with value: 0.864686573317728.\u001b[0m\n"
     ]
    },
    {
     "name": "stdout",
     "output_type": "stream",
     "text": [
      "\n",
      "bestTest = 0.4605298618\n",
      "bestIteration = 275\n",
      "\n",
      "Training on fold [0/5]\n",
      "\n",
      "bestTest = 0.4733110764\n",
      "bestIteration = 930\n",
      "\n",
      "Training on fold [1/5]\n",
      "\n",
      "bestTest = 0.4613226815\n",
      "bestIteration = 1083\n",
      "\n",
      "Training on fold [2/5]\n",
      "\n",
      "bestTest = 0.4612427091\n",
      "bestIteration = 877\n",
      "\n",
      "Training on fold [3/5]\n",
      "\n",
      "bestTest = 0.4491186965\n",
      "bestIteration = 982\n",
      "\n",
      "Training on fold [4/5]\n"
     ]
    },
    {
     "name": "stderr",
     "output_type": "stream",
     "text": [
      "\u001b[32m[I 2022-01-28 01:34:33,514]\u001b[0m Trial 96 finished with value: 0.864149386932149 and parameters: {'iterations': 1200, 'learning_rate': 0.015313275684132288, 'random_strength': 5, 'bagging_temperature': 10, 'max_bin': 8, 'grow_policy': 'Depthwise', 'min_data_in_leaf': 2, 'max_depth': 6, 'l2_leaf_reg': 65.07852242576038, 'one_hot_max_size': 10, 'auto_class_weights': 'Balanced'}. Best is trial 30 with value: 0.864686573317728.\u001b[0m\n"
     ]
    },
    {
     "name": "stdout",
     "output_type": "stream",
     "text": [
      "\n",
      "bestTest = 0.4623221709\n",
      "bestIteration = 890\n",
      "\n",
      "Training on fold [0/5]\n",
      "\n",
      "bestTest = 0.4822310854\n",
      "bestIteration = 499\n",
      "\n",
      "Training on fold [1/5]\n",
      "\n",
      "bestTest = 0.472561627\n",
      "bestIteration = 499\n",
      "\n",
      "Training on fold [2/5]\n",
      "\n",
      "bestTest = 0.4702416646\n",
      "bestIteration = 499\n",
      "\n",
      "Training on fold [3/5]\n",
      "\n",
      "bestTest = 0.4624280109\n",
      "bestIteration = 499\n",
      "\n",
      "Training on fold [4/5]\n"
     ]
    },
    {
     "name": "stderr",
     "output_type": "stream",
     "text": [
      "\u001b[32m[I 2022-01-28 01:42:59,195]\u001b[0m Trial 97 finished with value: 0.8592356792595621 and parameters: {'iterations': 500, 'learning_rate': 0.02000338632641134, 'random_strength': 7, 'bagging_temperature': 8, 'max_bin': 5, 'grow_policy': 'Lossguide', 'min_data_in_leaf': 6, 'max_depth': 8, 'l2_leaf_reg': 0.15574875178403186, 'one_hot_max_size': 10, 'auto_class_weights': 'Balanced'}. Best is trial 30 with value: 0.864686573317728.\u001b[0m\n"
     ]
    },
    {
     "name": "stdout",
     "output_type": "stream",
     "text": [
      "\n",
      "bestTest = 0.4719753197\n",
      "bestIteration = 499\n",
      "\n",
      "Training on fold [0/5]\n",
      "\n",
      "bestTest = 0.4751065008\n",
      "bestIteration = 517\n",
      "\n",
      "Training on fold [1/5]\n",
      "\n",
      "bestTest = 0.4658798845\n",
      "bestIteration = 454\n",
      "\n",
      "Training on fold [2/5]\n",
      "\n",
      "bestTest = 0.462078201\n",
      "bestIteration = 522\n",
      "\n",
      "Training on fold [3/5]\n",
      "\n",
      "bestTest = 0.4525566969\n",
      "bestIteration = 592\n",
      "\n",
      "Training on fold [4/5]\n"
     ]
    },
    {
     "name": "stderr",
     "output_type": "stream",
     "text": [
      "\u001b[32m[I 2022-01-28 01:44:56,339]\u001b[0m Trial 98 finished with value: 0.862724982363489 and parameters: {'iterations': 1200, 'learning_rate': 0.034234140043478786, 'random_strength': 3, 'bagging_temperature': 7, 'max_bin': 4, 'grow_policy': 'Lossguide', 'min_data_in_leaf': 1, 'max_depth': 3, 'l2_leaf_reg': 5.474835208320171, 'one_hot_max_size': 10, 'auto_class_weights': 'Balanced'}. Best is trial 30 with value: 0.864686573317728.\u001b[0m\n"
     ]
    },
    {
     "name": "stdout",
     "output_type": "stream",
     "text": [
      "\n",
      "bestTest = 0.4629630352\n",
      "bestIteration = 577\n",
      "\n",
      "Training on fold [0/5]\n",
      "\n",
      "bestTest = 0.4702177287\n",
      "bestIteration = 379\n",
      "\n",
      "Training on fold [1/5]\n",
      "\n",
      "bestTest = 0.4622095536\n",
      "bestIteration = 386\n",
      "\n",
      "Training on fold [2/5]\n",
      "\n",
      "bestTest = 0.4594133159\n",
      "bestIteration = 360\n",
      "\n",
      "Training on fold [3/5]\n",
      "\n",
      "bestTest = 0.450355854\n",
      "bestIteration = 367\n",
      "\n",
      "Training on fold [4/5]\n"
     ]
    },
    {
     "name": "stderr",
     "output_type": "stream",
     "text": [
      "\u001b[32m[I 2022-01-28 01:45:18,285]\u001b[0m Trial 99 finished with value: 0.8641363057049688 and parameters: {'iterations': 1200, 'learning_rate': 0.03954916893010321, 'random_strength': 6, 'bagging_temperature': 9, 'max_bin': 8, 'grow_policy': 'Depthwise', 'min_data_in_leaf': 2, 'max_depth': 7, 'l2_leaf_reg': 34.12105401705693, 'one_hot_max_size': 100, 'auto_class_weights': 'SqrtBalanced'}. Best is trial 30 with value: 0.864686573317728.\u001b[0m\n"
     ]
    },
    {
     "name": "stdout",
     "output_type": "stream",
     "text": [
      "\n",
      "bestTest = 0.4615990605\n",
      "bestIteration = 313\n",
      "\n"
     ]
    }
   ],
   "source": [
    "sampler2 = optuna.samplers.TPESampler(seed=68)\n",
    "study2 = optuna.create_study(direction=\"maximize\", sampler=sampler2)\n",
    "study2.optimize(objective2, n_trials=100)"
   ]
  },
  {
   "cell_type": "code",
   "execution_count": 51,
   "metadata": {},
   "outputs": [
    {
     "name": "stdout",
     "output_type": "stream",
     "text": [
      "Number of finished trials: 100\n",
      "Best trial:\n",
      "  Value: 0.8694331108012637\n",
      "  Params: \n",
      "    iterations=500,\n",
      "    learning_rate=0.02914787579303319,\n",
      "    random_strength=3,\n",
      "    bagging_temperature=1,\n",
      "    max_bin=8,\n",
      "    grow_policy=SymmetricTree,\n",
      "    min_data_in_leaf=2,\n",
      "    max_depth=7,\n",
      "    l2_leaf_reg=24.243629436955278,\n",
      "    one_hot_max_size=1024,\n",
      "    auto_class_weights=SqrtBalanced,\n"
     ]
    }
   ],
   "source": [
    "print(\"Number of finished trials: {}\".format(len(study.trials)))\n",
    "print(\"Best trial:\")\n",
    "trial = study.best_trial\n",
    "print(\"  Value: {}\".format(trial.value))\n",
    "print(\"  Params: \")\n",
    "for key, value in trial.params.items():\n",
    "    print(\"    {}={},\".format(key, value))"
   ]
  },
  {
   "cell_type": "code",
   "execution_count": 44,
   "metadata": {},
   "outputs": [],
   "source": [
    "params = {'iterations':500,\n",
    "         'learning_rate':0.02914787579303319,\n",
    "         'random_strength':3,\n",
    "         'bagging_temperature':1,\n",
    "         'max_bin':8,\n",
    "         'grow_policy':'SymmetricTree',\n",
    "         'min_data_in_leaf':2,\n",
    "         'max_depth':7,\n",
    "         'l2_leaf_reg':24.243629436955278,\n",
    "         'one_hot_max_size':1024,\n",
    "         'auto_class_weights':'SqrtBalanced',\n",
    "         'eval_metric':'AUC',\n",
    "         'verbose':False,\n",
    "          }"
   ]
  },
  {
   "cell_type": "code",
   "execution_count": 46,
   "metadata": {},
   "outputs": [],
   "source": [
    "final_model_se = CatBoostClassifier(cat_features=categorical_features_indices, **params)"
   ]
  },
  {
   "cell_type": "code",
   "execution_count": 47,
   "metadata": {},
   "outputs": [
    {
     "data": {
      "text/plain": [
       "<catboost.core.CatBoostClassifier at 0x21439c182e0>"
      ]
     },
     "execution_count": 47,
     "metadata": {},
     "output_type": "execute_result"
    }
   ],
   "source": [
    "final_model_se.fit(X_train, y_train.seasonal_vaccine)"
   ]
  },
  {
   "cell_type": "code",
   "execution_count": 48,
   "metadata": {},
   "outputs": [],
   "source": [
    "pred_se = final_model_se.predict(X_test)"
   ]
  },
  {
   "cell_type": "code",
   "execution_count": 49,
   "metadata": {},
   "outputs": [
    {
     "data": {
      "text/plain": [
       "0.7812305004367902"
      ]
     },
     "execution_count": 49,
     "metadata": {},
     "output_type": "execute_result"
    }
   ],
   "source": [
    "accuracy_score(y_test.seasonal_vaccine, pred_se)"
   ]
  },
  {
   "cell_type": "code",
   "execution_count": 50,
   "metadata": {},
   "outputs": [],
   "source": [
    "predictions_se = final_model_se.predict_proba(X_test)"
   ]
  },
  {
   "cell_type": "code",
   "execution_count": 51,
   "metadata": {},
   "outputs": [],
   "source": [
    "predictions_se = predictions_se[:,1].reshape(-1,1)"
   ]
  },
  {
   "cell_type": "code",
   "execution_count": 52,
   "metadata": {},
   "outputs": [
    {
     "data": {
      "text/plain": [
       "0.8604652807019629"
      ]
     },
     "execution_count": 52,
     "metadata": {},
     "output_type": "execute_result"
    }
   ],
   "source": [
    "roc_auc_score(y_test.seasonal_vaccine, predictions_se)"
   ]
  },
  {
   "cell_type": "markdown",
   "metadata": {},
   "source": [
    "### Confusion Matrix"
   ]
  },
  {
   "cell_type": "code",
   "execution_count": 59,
   "metadata": {},
   "outputs": [
    {
     "data": {
      "image/png": "[encoded data removed]",
      "text/plain": [
       "<Figure size 432x288 with 2 Axes>"
      ]
     },
     "metadata": {
      "needs_background": "light"
     },
     "output_type": "display_data"
    }
   ],
   "source": [
    "plot_confusion_matrix(final_model_se, X_test, y_test.seasonal_vaccine)  \n",
    "plt.show();"
   ]
  },
  {
   "cell_type": "markdown",
   "metadata": {},
   "source": [
    "### ROC Curve"
   ]
  },
  {
   "cell_type": "code",
   "execution_count": 60,
   "metadata": {},
   "outputs": [],
   "source": [
    "def plot_roc(y_true, y_score, label_name, ax):\n",
    "    fpr, tpr, thresholds = roc_curve(y_true, y_score)\n",
    "    ax.plot(fpr, tpr)\n",
    "    ax.plot([0, 1], [0, 1], color='grey', linestyle='--')\n",
    "    ax.set_ylabel('TPR')\n",
    "    ax.set_xlabel('FPR')\n",
    "    ax.set_title(\n",
    "        f\"{label_name}: AUC = {roc_auc_score(y_true, y_score):.4f}\"\n",
    "    )"
   ]
  },
  {
   "cell_type": "code",
   "execution_count": 61,
   "metadata": {},
   "outputs": [
    {
     "data": {
      "image/png": "[encoded data removed]",
      "text/plain": [
       "<Figure size 720x576 with 1 Axes>"
      ]
     },
     "metadata": {
      "needs_background": "light"
     },
     "output_type": "display_data"
    }
   ],
   "source": [
    "fig, ax = plt.subplots(1, 1, figsize=(10, 8))\n",
    "plot_roc(\n",
    "    y_test['seasonal_vaccine'], \n",
    "    predictions_se, \n",
    "    'seasonal_vaccine',\n",
    "    ax=ax\n",
    ")"
   ]
  },
  {
   "cell_type": "code",
   "execution_count": 53,
   "metadata": {},
   "outputs": [
    {
     "data": {
      "image/png": "[encoded data removed]",
      "text/plain": [
       "<Figure size 1152x648 with 1 Axes>"
      ]
     },
     "metadata": {
      "needs_background": "light"
     },
     "output_type": "display_data"
    }
   ],
   "source": [
    "result = permutation_importance(\n",
    "    final_model_se, X_test, y_test.seasonal_vaccine, n_repeats=10, random_state=42, n_jobs=2\n",
    ")\n",
    "sorted_idx = result.importances_mean.argsort()\n",
    "fig, ax = plt.subplots(figsize=(16,9))\n",
    "ax.boxplot(\n",
    "    result.importances[sorted_idx].T, vert=False, labels=X_test.columns[sorted_idx]\n",
    ")\n",
    "ax.set_title(\"Permutation Importances (test set)\")\n",
    "fig.tight_layout()\n",
    "plt.show()"
   ]
  },
  {
   "cell_type": "markdown",
   "metadata": {},
   "source": [
    "## Competition Purposes"
   ]
  },
  {
   "cell_type": "markdown",
   "metadata": {},
   "source": [
    "### Combined ROC Score"
   ]
  },
  {
   "cell_type": "code",
   "execution_count": 65,
   "metadata": {},
   "outputs": [
    {
     "data": {
      "text/plain": [
       "0.8658663609585904"
      ]
     },
     "execution_count": 65,
     "metadata": {},
     "output_type": "execute_result"
    }
   ],
   "source": [
    "roc_auc_score(y_test, np.hstack((pred_h1n1, predictions_se)))"
   ]
  },
  {
   "cell_type": "markdown",
   "metadata": {},
   "source": [
    "## Training on full dataset"
   ]
  },
  {
   "cell_type": "code",
   "execution_count": 69,
   "metadata": {},
   "outputs": [],
   "source": [
    "le = LabelEncoder()\n",
    "for col in ord_cols:\n",
    "    test[col] = le.fit_transform(test[col])"
   ]
  },
  {
   "cell_type": "code",
   "execution_count": 70,
   "metadata": {},
   "outputs": [],
   "source": [
    "for col in ord_cols:\n",
    "    pd.to_numeric(test[col])"
   ]
  },
  {
   "cell_type": "markdown",
   "metadata": {},
   "source": [
    "### H1N1 Vaccine"
   ]
  },
  {
   "cell_type": "code",
   "execution_count": 71,
   "metadata": {},
   "outputs": [
    {
     "data": {
      "text/plain": [
       "<catboost.core.CatBoostClassifier at 0x20a6205de50>"
      ]
     },
     "execution_count": 71,
     "metadata": {},
     "output_type": "execute_result"
    }
   ],
   "source": [
    "best_model_h1n1.fit(train, labels.h1n1_vaccine)"
   ]
  },
  {
   "cell_type": "code",
   "execution_count": 72,
   "metadata": {},
   "outputs": [],
   "source": [
    "final_h1 = best_model_h1n1.predict_proba(test)"
   ]
  },
  {
   "cell_type": "code",
   "execution_count": 73,
   "metadata": {},
   "outputs": [],
   "source": [
    "final_h1 = final_h1[:,1].reshape(-1,1)"
   ]
  },
  {
   "cell_type": "markdown",
   "metadata": {},
   "source": [
    "### Seasonal Vaccine"
   ]
  },
  {
   "cell_type": "code",
   "execution_count": 74,
   "metadata": {},
   "outputs": [
    {
     "data": {
      "text/plain": [
       "<catboost.core.CatBoostClassifier at 0x20a620b3880>"
      ]
     },
     "execution_count": 74,
     "metadata": {},
     "output_type": "execute_result"
    }
   ],
   "source": [
    "final_model_se.fit(train, labels.seasonal_vaccine)"
   ]
  },
  {
   "cell_type": "code",
   "execution_count": 75,
   "metadata": {},
   "outputs": [],
   "source": [
    "final_se = final_model_se.predict_proba(test)"
   ]
  },
  {
   "cell_type": "code",
   "execution_count": 76,
   "metadata": {},
   "outputs": [],
   "source": [
    "final_se = final_se[:,1].reshape(-1,1)"
   ]
  },
  {
   "cell_type": "markdown",
   "metadata": {},
   "source": [
    "### Submission "
   ]
  },
  {
   "cell_type": "code",
   "execution_count": 78,
   "metadata": {},
   "outputs": [],
   "source": [
    "submission_df = pd.read_csv('data/submission_format.csv', index_col='respondent_id')"
   ]
  },
  {
   "cell_type": "code",
   "execution_count": 79,
   "metadata": {},
   "outputs": [],
   "source": [
    "np.testing.assert_array_equal(test.index.values, submission_df.index.values)"
   ]
  },
  {
   "cell_type": "code",
   "execution_count": 81,
   "metadata": {},
   "outputs": [
    {
     "data": {
      "text/html": [
       "<div>\n",
       "<style scoped>\n",
       "    .dataframe tbody tr th:only-of-type {\n",
       "        vertical-align: middle;\n",
       "    }\n",
       "\n",
       "    .dataframe tbody tr th {\n",
       "        vertical-align: top;\n",
       "    }\n",
       "\n",
       "    .dataframe thead th {\n",
       "        text-align: right;\n",
       "    }\n",
       "</style>\n",
       "<table border=\"1\" class=\"dataframe\">\n",
       "  <thead>\n",
       "    <tr style=\"text-align: right;\">\n",
       "      <th></th>\n",
       "      <th>h1n1_vaccine</th>\n",
       "      <th>seasonal_vaccine</th>\n",
       "    </tr>\n",
       "    <tr>\n",
       "      <th>respondent_id</th>\n",
       "      <th></th>\n",
       "      <th></th>\n",
       "    </tr>\n",
       "  </thead>\n",
       "  <tbody>\n",
       "    <tr>\n",
       "      <th>26707</th>\n",
       "      <td>0.219851</td>\n",
       "      <td>0.261056</td>\n",
       "    </tr>\n",
       "    <tr>\n",
       "      <th>26708</th>\n",
       "      <td>0.057439</td>\n",
       "      <td>0.027234</td>\n",
       "    </tr>\n",
       "    <tr>\n",
       "      <th>26709</th>\n",
       "      <td>0.328656</td>\n",
       "      <td>0.723902</td>\n",
       "    </tr>\n",
       "    <tr>\n",
       "      <th>26710</th>\n",
       "      <td>0.714017</td>\n",
       "      <td>0.896597</td>\n",
       "    </tr>\n",
       "    <tr>\n",
       "      <th>26711</th>\n",
       "      <td>0.441187</td>\n",
       "      <td>0.429705</td>\n",
       "    </tr>\n",
       "  </tbody>\n",
       "</table>\n",
       "</div>"
      ],
      "text/plain": [
       "               h1n1_vaccine  seasonal_vaccine\n",
       "respondent_id                                \n",
       "26707              0.219851          0.261056\n",
       "26708              0.057439          0.027234\n",
       "26709              0.328656          0.723902\n",
       "26710              0.714017          0.896597\n",
       "26711              0.441187          0.429705"
      ]
     },
     "execution_count": 81,
     "metadata": {},
     "output_type": "execute_result"
    }
   ],
   "source": [
    "submission_df[\"h1n1_vaccine\"] = final_h1\n",
    "submission_df[\"seasonal_vaccine\"] = final_se\n",
    "submission_df.head()"
   ]
  },
  {
   "cell_type": "code",
   "execution_count": 82,
   "metadata": {},
   "outputs": [],
   "source": [
    "date = pd.Timestamp.now().strftime(format='%Y-%m-%d_%H-%M_')\n",
    "submission_df.to_csv(f'./{date}submssion_catboost_optuna.csv', index=True)"
   ]
  }
 ],
 "metadata": {
  "kernelspec": {
   "display_name": "Python (learn-env)",
   "language": "python",
   "name": "learn-env"
  },
  "language_info": {
   "codemirror_mode": {
    "name": "ipython",
    "version": 3
   },
   "file_extension": ".py",
   "mimetype": "text/x-python",
   "name": "python",
   "nbconvert_exporter": "python",
   "pygments_lexer": "ipython3",
   "version": "3.8.5"
  }
 },
 "nbformat": 4,
 "nbformat_minor": 4
}
